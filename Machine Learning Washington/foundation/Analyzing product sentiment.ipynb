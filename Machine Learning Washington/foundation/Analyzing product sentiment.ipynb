{
 "cells": [
  {
   "cell_type": "markdown",
   "metadata": {},
   "source": [
    "#Predicting sentiment from product reviews\n",
    "\n",
    "#Fire up GraphLab Create"
   ]
  },
  {
   "cell_type": "code",
   "execution_count": 5,
   "metadata": {
    "collapsed": true
   },
   "outputs": [],
   "source": [
    "import graphlab"
   ]
  },
  {
   "cell_type": "markdown",
   "metadata": {},
   "source": [
    "#Read some product review data\n",
    "\n",
    "Loading reviews for a set of baby products. "
   ]
  },
  {
   "cell_type": "code",
   "execution_count": 6,
   "metadata": {
    "collapsed": false
   },
   "outputs": [
    {
     "name": "stdout",
     "output_type": "stream",
     "text": [
      "This non-commercial license of GraphLab Create for academic use is assigned to 201301146@daiict.ac.in and will expire on September 18, 2017.\n"
     ]
    },
    {
     "name": "stderr",
     "output_type": "stream",
     "text": [
      "[INFO] graphlab.cython.cy_server: GraphLab Create v2.1 started. Logging: C:\\Users\\Kenpachi\\AppData\\Local\\Temp\\graphlab_server_1475263509.log.0\n"
     ]
    }
   ],
   "source": [
    "products = graphlab.SFrame('amazon_baby.gl/')"
   ]
  },
  {
   "cell_type": "markdown",
   "metadata": {},
   "source": [
    "#Let's explore this data together\n",
    "\n",
    "Data includes the product name, the review text and the rating of the review. "
   ]
  },
  {
   "cell_type": "code",
   "execution_count": 7,
   "metadata": {
    "collapsed": false
   },
   "outputs": [
    {
     "data": {
      "text/html": [
       "<div style=\"max-height:1000px;max-width:1500px;overflow:auto;\"><table frame=\"box\" rules=\"cols\">\n",
       "    <tr>\n",
       "        <th style=\"padding-left: 1em; padding-right: 1em; text-align: center\">name</th>\n",
       "        <th style=\"padding-left: 1em; padding-right: 1em; text-align: center\">review</th>\n",
       "        <th style=\"padding-left: 1em; padding-right: 1em; text-align: center\">rating</th>\n",
       "    </tr>\n",
       "    <tr>\n",
       "        <td style=\"padding-left: 1em; padding-right: 1em; text-align: center; vertical-align: top\">Planetwise Flannel Wipes</td>\n",
       "        <td style=\"padding-left: 1em; padding-right: 1em; text-align: center; vertical-align: top\">These flannel wipes are<br>OK, but in my opinion ...</td>\n",
       "        <td style=\"padding-left: 1em; padding-right: 1em; text-align: center; vertical-align: top\">3.0</td>\n",
       "    </tr>\n",
       "    <tr>\n",
       "        <td style=\"padding-left: 1em; padding-right: 1em; text-align: center; vertical-align: top\">Planetwise Wipe Pouch</td>\n",
       "        <td style=\"padding-left: 1em; padding-right: 1em; text-align: center; vertical-align: top\">it came early and was not<br>disappointed. i love ...</td>\n",
       "        <td style=\"padding-left: 1em; padding-right: 1em; text-align: center; vertical-align: top\">5.0</td>\n",
       "    </tr>\n",
       "    <tr>\n",
       "        <td style=\"padding-left: 1em; padding-right: 1em; text-align: center; vertical-align: top\">Annas Dream Full Quilt<br>with 2 Shams ...</td>\n",
       "        <td style=\"padding-left: 1em; padding-right: 1em; text-align: center; vertical-align: top\">Very soft and comfortable<br>and warmer than it ...</td>\n",
       "        <td style=\"padding-left: 1em; padding-right: 1em; text-align: center; vertical-align: top\">5.0</td>\n",
       "    </tr>\n",
       "    <tr>\n",
       "        <td style=\"padding-left: 1em; padding-right: 1em; text-align: center; vertical-align: top\">Stop Pacifier Sucking<br>without tears with ...</td>\n",
       "        <td style=\"padding-left: 1em; padding-right: 1em; text-align: center; vertical-align: top\">This is a product well<br>worth the purchase.  I ...</td>\n",
       "        <td style=\"padding-left: 1em; padding-right: 1em; text-align: center; vertical-align: top\">5.0</td>\n",
       "    </tr>\n",
       "    <tr>\n",
       "        <td style=\"padding-left: 1em; padding-right: 1em; text-align: center; vertical-align: top\">Stop Pacifier Sucking<br>without tears with ...</td>\n",
       "        <td style=\"padding-left: 1em; padding-right: 1em; text-align: center; vertical-align: top\">All of my kids have cried<br>non-stop when I tried to ...</td>\n",
       "        <td style=\"padding-left: 1em; padding-right: 1em; text-align: center; vertical-align: top\">5.0</td>\n",
       "    </tr>\n",
       "    <tr>\n",
       "        <td style=\"padding-left: 1em; padding-right: 1em; text-align: center; vertical-align: top\">Stop Pacifier Sucking<br>without tears with ...</td>\n",
       "        <td style=\"padding-left: 1em; padding-right: 1em; text-align: center; vertical-align: top\">When the Binky Fairy came<br>to our house, we didn't ...</td>\n",
       "        <td style=\"padding-left: 1em; padding-right: 1em; text-align: center; vertical-align: top\">5.0</td>\n",
       "    </tr>\n",
       "    <tr>\n",
       "        <td style=\"padding-left: 1em; padding-right: 1em; text-align: center; vertical-align: top\">A Tale of Baby's Days<br>with Peter Rabbit ...</td>\n",
       "        <td style=\"padding-left: 1em; padding-right: 1em; text-align: center; vertical-align: top\">Lovely book, it's bound<br>tightly so you may no ...</td>\n",
       "        <td style=\"padding-left: 1em; padding-right: 1em; text-align: center; vertical-align: top\">4.0</td>\n",
       "    </tr>\n",
       "    <tr>\n",
       "        <td style=\"padding-left: 1em; padding-right: 1em; text-align: center; vertical-align: top\">Baby Tracker&amp;reg; - Daily<br>Childcare Journal, ...</td>\n",
       "        <td style=\"padding-left: 1em; padding-right: 1em; text-align: center; vertical-align: top\">Perfect for new parents.<br>We were able to keep ...</td>\n",
       "        <td style=\"padding-left: 1em; padding-right: 1em; text-align: center; vertical-align: top\">5.0</td>\n",
       "    </tr>\n",
       "    <tr>\n",
       "        <td style=\"padding-left: 1em; padding-right: 1em; text-align: center; vertical-align: top\">Baby Tracker&amp;reg; - Daily<br>Childcare Journal, ...</td>\n",
       "        <td style=\"padding-left: 1em; padding-right: 1em; text-align: center; vertical-align: top\">A friend of mine pinned<br>this product on Pinte ...</td>\n",
       "        <td style=\"padding-left: 1em; padding-right: 1em; text-align: center; vertical-align: top\">5.0</td>\n",
       "    </tr>\n",
       "    <tr>\n",
       "        <td style=\"padding-left: 1em; padding-right: 1em; text-align: center; vertical-align: top\">Baby Tracker&amp;reg; - Daily<br>Childcare Journal, ...</td>\n",
       "        <td style=\"padding-left: 1em; padding-right: 1em; text-align: center; vertical-align: top\">This has been an easy way<br>for my nanny to record ...</td>\n",
       "        <td style=\"padding-left: 1em; padding-right: 1em; text-align: center; vertical-align: top\">4.0</td>\n",
       "    </tr>\n",
       "</table>\n",
       "[10 rows x 3 columns]<br/>\n",
       "</div>"
      ],
      "text/plain": [
       "Columns:\n",
       "\tname\tstr\n",
       "\treview\tstr\n",
       "\trating\tfloat\n",
       "\n",
       "Rows: 10\n",
       "\n",
       "Data:\n",
       "+-------------------------------+-------------------------------+--------+\n",
       "|              name             |             review            | rating |\n",
       "+-------------------------------+-------------------------------+--------+\n",
       "|    Planetwise Flannel Wipes   | These flannel wipes are OK... |  3.0   |\n",
       "|     Planetwise Wipe Pouch     | it came early and was not ... |  5.0   |\n",
       "| Annas Dream Full Quilt wit... | Very soft and comfortable ... |  5.0   |\n",
       "| Stop Pacifier Sucking with... | This is a product well wor... |  5.0   |\n",
       "| Stop Pacifier Sucking with... | All of my kids have cried ... |  5.0   |\n",
       "| Stop Pacifier Sucking with... | When the Binky Fairy came ... |  5.0   |\n",
       "| A Tale of Baby's Days with... | Lovely book, it's bound ti... |  4.0   |\n",
       "| Baby Tracker&reg; - Daily ... | Perfect for new parents. W... |  5.0   |\n",
       "| Baby Tracker&reg; - Daily ... | A friend of mine pinned th... |  5.0   |\n",
       "| Baby Tracker&reg; - Daily ... | This has been an easy way ... |  4.0   |\n",
       "+-------------------------------+-------------------------------+--------+\n",
       "[10 rows x 3 columns]"
      ]
     },
     "execution_count": 7,
     "metadata": {},
     "output_type": "execute_result"
    }
   ],
   "source": [
    "products.head()"
   ]
  },
  {
   "cell_type": "markdown",
   "metadata": {},
   "source": [
    "#Build the word count vector for each review"
   ]
  },
  {
   "cell_type": "code",
   "execution_count": 8,
   "metadata": {
    "collapsed": true
   },
   "outputs": [],
   "source": [
    "products['word_count'] = graphlab.text_analytics.count_words(products['review'])"
   ]
  },
  {
   "cell_type": "code",
   "execution_count": 9,
   "metadata": {
    "collapsed": false
   },
   "outputs": [
    {
     "data": {
      "text/html": [
       "<div style=\"max-height:1000px;max-width:1500px;overflow:auto;\"><table frame=\"box\" rules=\"cols\">\n",
       "    <tr>\n",
       "        <th style=\"padding-left: 1em; padding-right: 1em; text-align: center\">name</th>\n",
       "        <th style=\"padding-left: 1em; padding-right: 1em; text-align: center\">review</th>\n",
       "        <th style=\"padding-left: 1em; padding-right: 1em; text-align: center\">rating</th>\n",
       "        <th style=\"padding-left: 1em; padding-right: 1em; text-align: center\">word_count</th>\n",
       "    </tr>\n",
       "    <tr>\n",
       "        <td style=\"padding-left: 1em; padding-right: 1em; text-align: center; vertical-align: top\">Planetwise Flannel Wipes</td>\n",
       "        <td style=\"padding-left: 1em; padding-right: 1em; text-align: center; vertical-align: top\">These flannel wipes are<br>OK, but in my opinion ...</td>\n",
       "        <td style=\"padding-left: 1em; padding-right: 1em; text-align: center; vertical-align: top\">3.0</td>\n",
       "        <td style=\"padding-left: 1em; padding-right: 1em; text-align: center; vertical-align: top\">{'and': 5L, 'stink': 1L,<br>'because': 1L, 'order ...</td>\n",
       "    </tr>\n",
       "    <tr>\n",
       "        <td style=\"padding-left: 1em; padding-right: 1em; text-align: center; vertical-align: top\">Planetwise Wipe Pouch</td>\n",
       "        <td style=\"padding-left: 1em; padding-right: 1em; text-align: center; vertical-align: top\">it came early and was not<br>disappointed. i love ...</td>\n",
       "        <td style=\"padding-left: 1em; padding-right: 1em; text-align: center; vertical-align: top\">5.0</td>\n",
       "        <td style=\"padding-left: 1em; padding-right: 1em; text-align: center; vertical-align: top\">{'and': 3L, 'love': 1L,<br>'it': 2L, 'highly': 1L, ...</td>\n",
       "    </tr>\n",
       "    <tr>\n",
       "        <td style=\"padding-left: 1em; padding-right: 1em; text-align: center; vertical-align: top\">Annas Dream Full Quilt<br>with 2 Shams ...</td>\n",
       "        <td style=\"padding-left: 1em; padding-right: 1em; text-align: center; vertical-align: top\">Very soft and comfortable<br>and warmer than it ...</td>\n",
       "        <td style=\"padding-left: 1em; padding-right: 1em; text-align: center; vertical-align: top\">5.0</td>\n",
       "        <td style=\"padding-left: 1em; padding-right: 1em; text-align: center; vertical-align: top\">{'and': 2L, 'quilt': 1L,<br>'it': 1L, 'comfortable': ...</td>\n",
       "    </tr>\n",
       "    <tr>\n",
       "        <td style=\"padding-left: 1em; padding-right: 1em; text-align: center; vertical-align: top\">Stop Pacifier Sucking<br>without tears with ...</td>\n",
       "        <td style=\"padding-left: 1em; padding-right: 1em; text-align: center; vertical-align: top\">This is a product well<br>worth the purchase.  I ...</td>\n",
       "        <td style=\"padding-left: 1em; padding-right: 1em; text-align: center; vertical-align: top\">5.0</td>\n",
       "        <td style=\"padding-left: 1em; padding-right: 1em; text-align: center; vertical-align: top\">{'ingenious': 1L, 'and':<br>3L, 'love': 2L, ...</td>\n",
       "    </tr>\n",
       "    <tr>\n",
       "        <td style=\"padding-left: 1em; padding-right: 1em; text-align: center; vertical-align: top\">Stop Pacifier Sucking<br>without tears with ...</td>\n",
       "        <td style=\"padding-left: 1em; padding-right: 1em; text-align: center; vertical-align: top\">All of my kids have cried<br>non-stop when I tried to ...</td>\n",
       "        <td style=\"padding-left: 1em; padding-right: 1em; text-align: center; vertical-align: top\">5.0</td>\n",
       "        <td style=\"padding-left: 1em; padding-right: 1em; text-align: center; vertical-align: top\">{'and': 2L, 'parents!!':<br>1L, 'all': 2L, 'puppe ...</td>\n",
       "    </tr>\n",
       "    <tr>\n",
       "        <td style=\"padding-left: 1em; padding-right: 1em; text-align: center; vertical-align: top\">Stop Pacifier Sucking<br>without tears with ...</td>\n",
       "        <td style=\"padding-left: 1em; padding-right: 1em; text-align: center; vertical-align: top\">When the Binky Fairy came<br>to our house, we didn't ...</td>\n",
       "        <td style=\"padding-left: 1em; padding-right: 1em; text-align: center; vertical-align: top\">5.0</td>\n",
       "        <td style=\"padding-left: 1em; padding-right: 1em; text-align: center; vertical-align: top\">{'and': 2L, 'cute': 1L,<br>'help': 2L, 'doll': 1L, ...</td>\n",
       "    </tr>\n",
       "    <tr>\n",
       "        <td style=\"padding-left: 1em; padding-right: 1em; text-align: center; vertical-align: top\">A Tale of Baby's Days<br>with Peter Rabbit ...</td>\n",
       "        <td style=\"padding-left: 1em; padding-right: 1em; text-align: center; vertical-align: top\">Lovely book, it's bound<br>tightly so you may no ...</td>\n",
       "        <td style=\"padding-left: 1em; padding-right: 1em; text-align: center; vertical-align: top\">4.0</td>\n",
       "        <td style=\"padding-left: 1em; padding-right: 1em; text-align: center; vertical-align: top\">{'shop': 1L, 'be': 1L,<br>'is': 1L, 'it': 1L, ' ...</td>\n",
       "    </tr>\n",
       "    <tr>\n",
       "        <td style=\"padding-left: 1em; padding-right: 1em; text-align: center; vertical-align: top\">Baby Tracker&amp;reg; - Daily<br>Childcare Journal, ...</td>\n",
       "        <td style=\"padding-left: 1em; padding-right: 1em; text-align: center; vertical-align: top\">Perfect for new parents.<br>We were able to keep ...</td>\n",
       "        <td style=\"padding-left: 1em; padding-right: 1em; text-align: center; vertical-align: top\">5.0</td>\n",
       "        <td style=\"padding-left: 1em; padding-right: 1em; text-align: center; vertical-align: top\">{'feeding,': 1L, 'and':<br>2L, 'all': 1L, 'right': ...</td>\n",
       "    </tr>\n",
       "    <tr>\n",
       "        <td style=\"padding-left: 1em; padding-right: 1em; text-align: center; vertical-align: top\">Baby Tracker&amp;reg; - Daily<br>Childcare Journal, ...</td>\n",
       "        <td style=\"padding-left: 1em; padding-right: 1em; text-align: center; vertical-align: top\">A friend of mine pinned<br>this product on Pinte ...</td>\n",
       "        <td style=\"padding-left: 1em; padding-right: 1em; text-align: center; vertical-align: top\">5.0</td>\n",
       "        <td style=\"padding-left: 1em; padding-right: 1em; text-align: center; vertical-align: top\">{'and': 1L, 'help': 1L,<br>'give': 1L, 'is': 1L, ...</td>\n",
       "    </tr>\n",
       "    <tr>\n",
       "        <td style=\"padding-left: 1em; padding-right: 1em; text-align: center; vertical-align: top\">Baby Tracker&amp;reg; - Daily<br>Childcare Journal, ...</td>\n",
       "        <td style=\"padding-left: 1em; padding-right: 1em; text-align: center; vertical-align: top\">This has been an easy way<br>for my nanny to record ...</td>\n",
       "        <td style=\"padding-left: 1em; padding-right: 1em; text-align: center; vertical-align: top\">4.0</td>\n",
       "        <td style=\"padding-left: 1em; padding-right: 1em; text-align: center; vertical-align: top\">{'journal.': 1L, 'all':<br>1L, 'standarad': 1L, ...</td>\n",
       "    </tr>\n",
       "</table>\n",
       "[10 rows x 4 columns]<br/>\n",
       "</div>"
      ],
      "text/plain": [
       "Columns:\n",
       "\tname\tstr\n",
       "\treview\tstr\n",
       "\trating\tfloat\n",
       "\tword_count\tdict\n",
       "\n",
       "Rows: 10\n",
       "\n",
       "Data:\n",
       "+-------------------------------+-------------------------------+--------+\n",
       "|              name             |             review            | rating |\n",
       "+-------------------------------+-------------------------------+--------+\n",
       "|    Planetwise Flannel Wipes   | These flannel wipes are OK... |  3.0   |\n",
       "|     Planetwise Wipe Pouch     | it came early and was not ... |  5.0   |\n",
       "| Annas Dream Full Quilt wit... | Very soft and comfortable ... |  5.0   |\n",
       "| Stop Pacifier Sucking with... | This is a product well wor... |  5.0   |\n",
       "| Stop Pacifier Sucking with... | All of my kids have cried ... |  5.0   |\n",
       "| Stop Pacifier Sucking with... | When the Binky Fairy came ... |  5.0   |\n",
       "| A Tale of Baby's Days with... | Lovely book, it's bound ti... |  4.0   |\n",
       "| Baby Tracker&reg; - Daily ... | Perfect for new parents. W... |  5.0   |\n",
       "| Baby Tracker&reg; - Daily ... | A friend of mine pinned th... |  5.0   |\n",
       "| Baby Tracker&reg; - Daily ... | This has been an easy way ... |  4.0   |\n",
       "+-------------------------------+-------------------------------+--------+\n",
       "+-------------------------------+\n",
       "|           word_count          |\n",
       "+-------------------------------+\n",
       "| {'and': 5L, 'stink': 1L, '... |\n",
       "| {'and': 3L, 'love': 1L, 'i... |\n",
       "| {'and': 2L, 'quilt': 1L, '... |\n",
       "| {'ingenious': 1L, 'and': 3... |\n",
       "| {'and': 2L, 'parents!!': 1... |\n",
       "| {'and': 2L, 'cute': 1L, 'h... |\n",
       "| {'shop': 1L, 'be': 1L, 'is... |\n",
       "| {'feeding,': 1L, 'and': 2L... |\n",
       "| {'and': 1L, 'help': 1L, 'g... |\n",
       "| {'journal.': 1L, 'all': 1L... |\n",
       "+-------------------------------+\n",
       "[10 rows x 4 columns]"
      ]
     },
     "execution_count": 9,
     "metadata": {},
     "output_type": "execute_result"
    }
   ],
   "source": [
    "products.head()"
   ]
  },
  {
   "cell_type": "code",
   "execution_count": 10,
   "metadata": {
    "collapsed": true
   },
   "outputs": [],
   "source": [
    "graphlab.canvas.set_target('ipynb')"
   ]
  },
  {
   "cell_type": "code",
   "execution_count": 11,
   "metadata": {
    "collapsed": false
   },
   "outputs": [
    {
     "data": {},
     "metadata": {},
     "output_type": "display_data"
    }
   ],
   "source": [
    "products['name'].show()"
   ]
  },
  {
   "cell_type": "markdown",
   "metadata": {
    "collapsed": true
   },
   "source": [
    "#Examining the reviews for most-sold product:  'Vulli Sophie the Giraffe Teether'"
   ]
  },
  {
   "cell_type": "code",
   "execution_count": 12,
   "metadata": {
    "collapsed": false
   },
   "outputs": [
    {
     "name": "stdout",
     "output_type": "stream",
     "text": [
      "+-------------------------------+-------------------------------+--------+\n",
      "|              name             |             review            | rating |\n",
      "+-------------------------------+-------------------------------+--------+\n",
      "| Vulli Sophie the Giraffe T... | He likes chewing on all th... |  5.0   |\n",
      "| Vulli Sophie the Giraffe T... | My son loves this toy and ... |  5.0   |\n",
      "| Vulli Sophie the Giraffe T... | There really should be a l... |  1.0   |\n",
      "| Vulli Sophie the Giraffe T... | All the moms in my moms' g... |  5.0   |\n",
      "| Vulli Sophie the Giraffe T... | I was a little skeptical o... |  5.0   |\n",
      "| Vulli Sophie the Giraffe T... | I have been reading about ... |  5.0   |\n",
      "| Vulli Sophie the Giraffe T... | My neice loves her sophie ... |  5.0   |\n",
      "| Vulli Sophie the Giraffe T... | What a friendly face!  And... |  5.0   |\n",
      "| Vulli Sophie the Giraffe T... | We got this just for my so... |  5.0   |\n",
      "| Vulli Sophie the Giraffe T... | My baby seems to like this... |  3.0   |\n",
      "+-------------------------------+-------------------------------+--------+\n",
      "+-------------------------------+\n",
      "|           word_count          |\n",
      "+-------------------------------+\n",
      "| {'and': 1L, 'all': 1L, 'be... |\n",
      "| {'and': 1L, 'right': 1L, '... |\n",
      "| {'and': 2L, 'all': 1L, 'la... |\n",
      "| {'and': 2L, 'one!': 1L, 'a... |\n",
      "| {'and': 3L, 'all': 1L, 'ol... |\n",
      "| {'and': 6L, 'seven': 1L, '... |\n",
      "| {'and': 4L, 'drooling,': 1... |\n",
      "| {'and': 3L, 'chew': 1L, \"d... |\n",
      "| {'chew': 2L, 'because': 1L... |\n",
      "| {'and': 2L, 'already': 1L,... |\n",
      "+-------------------------------+\n",
      "[? rows x 4 columns]\n",
      "Note: Only the head of the SFrame is printed. This SFrame is lazily evaluated.\n",
      "You can use sf.materialize() to force materialization.\n"
     ]
    }
   ],
   "source": [
    "giraffe_reviews = products[products['name'] == 'Vulli Sophie the Giraffe Teether']\n",
    "print(giraffe_reviews)"
   ]
  },
  {
   "cell_type": "code",
   "execution_count": 13,
   "metadata": {
    "collapsed": false
   },
   "outputs": [
    {
     "data": {
      "text/plain": [
       "785"
      ]
     },
     "execution_count": 13,
     "metadata": {},
     "output_type": "execute_result"
    }
   ],
   "source": [
    "len(giraffe_reviews)"
   ]
  },
  {
   "cell_type": "code",
   "execution_count": 14,
   "metadata": {
    "collapsed": false
   },
   "outputs": [
    {
     "data": {},
     "metadata": {},
     "output_type": "display_data"
    }
   ],
   "source": [
    "giraffe_reviews['rating'].show(view='Categorical')"
   ]
  },
  {
   "cell_type": "markdown",
   "metadata": {},
   "source": [
    "#Build a sentiment classifier"
   ]
  },
  {
   "cell_type": "code",
   "execution_count": 15,
   "metadata": {
    "collapsed": false
   },
   "outputs": [
    {
     "data": {},
     "metadata": {},
     "output_type": "display_data"
    }
   ],
   "source": [
    "products['rating'].show(view='Categorical')"
   ]
  },
  {
   "cell_type": "markdown",
   "metadata": {},
   "source": [
    "##Define what's a positive and a negative sentiment\n",
    "\n",
    "We will ignore all reviews with rating = 3, since they tend to have a neutral sentiment.  Reviews with a rating of 4 or higher will be considered positive, while the ones with rating of 2 or lower will have a negative sentiment.   "
   ]
  },
  {
   "cell_type": "code",
   "execution_count": 16,
   "metadata": {
    "collapsed": true
   },
   "outputs": [],
   "source": [
    "#ignore all 3* reviews\n",
    "products = products[products['rating'] != 3]"
   ]
  },
  {
   "cell_type": "code",
   "execution_count": 17,
   "metadata": {
    "collapsed": true
   },
   "outputs": [],
   "source": [
    "#positive sentiment = 4* or 5* reviews\n",
    "products['sentiment'] = products['rating'] >=4"
   ]
  },
  {
   "cell_type": "code",
   "execution_count": 18,
   "metadata": {
    "collapsed": false
   },
   "outputs": [
    {
     "data": {
      "text/html": [
       "<div style=\"max-height:1000px;max-width:1500px;overflow:auto;\"><table frame=\"box\" rules=\"cols\">\n",
       "    <tr>\n",
       "        <th style=\"padding-left: 1em; padding-right: 1em; text-align: center\">name</th>\n",
       "        <th style=\"padding-left: 1em; padding-right: 1em; text-align: center\">review</th>\n",
       "        <th style=\"padding-left: 1em; padding-right: 1em; text-align: center\">rating</th>\n",
       "        <th style=\"padding-left: 1em; padding-right: 1em; text-align: center\">word_count</th>\n",
       "        <th style=\"padding-left: 1em; padding-right: 1em; text-align: center\">sentiment</th>\n",
       "    </tr>\n",
       "    <tr>\n",
       "        <td style=\"padding-left: 1em; padding-right: 1em; text-align: center; vertical-align: top\">Planetwise Wipe Pouch</td>\n",
       "        <td style=\"padding-left: 1em; padding-right: 1em; text-align: center; vertical-align: top\">it came early and was not<br>disappointed. i love ...</td>\n",
       "        <td style=\"padding-left: 1em; padding-right: 1em; text-align: center; vertical-align: top\">5.0</td>\n",
       "        <td style=\"padding-left: 1em; padding-right: 1em; text-align: center; vertical-align: top\">{'and': 3L, 'love': 1L,<br>'it': 2L, 'highly': 1L, ...</td>\n",
       "        <td style=\"padding-left: 1em; padding-right: 1em; text-align: center; vertical-align: top\">1</td>\n",
       "    </tr>\n",
       "    <tr>\n",
       "        <td style=\"padding-left: 1em; padding-right: 1em; text-align: center; vertical-align: top\">Annas Dream Full Quilt<br>with 2 Shams ...</td>\n",
       "        <td style=\"padding-left: 1em; padding-right: 1em; text-align: center; vertical-align: top\">Very soft and comfortable<br>and warmer than it ...</td>\n",
       "        <td style=\"padding-left: 1em; padding-right: 1em; text-align: center; vertical-align: top\">5.0</td>\n",
       "        <td style=\"padding-left: 1em; padding-right: 1em; text-align: center; vertical-align: top\">{'and': 2L, 'quilt': 1L,<br>'it': 1L, 'comfortable': ...</td>\n",
       "        <td style=\"padding-left: 1em; padding-right: 1em; text-align: center; vertical-align: top\">1</td>\n",
       "    </tr>\n",
       "    <tr>\n",
       "        <td style=\"padding-left: 1em; padding-right: 1em; text-align: center; vertical-align: top\">Stop Pacifier Sucking<br>without tears with ...</td>\n",
       "        <td style=\"padding-left: 1em; padding-right: 1em; text-align: center; vertical-align: top\">This is a product well<br>worth the purchase.  I ...</td>\n",
       "        <td style=\"padding-left: 1em; padding-right: 1em; text-align: center; vertical-align: top\">5.0</td>\n",
       "        <td style=\"padding-left: 1em; padding-right: 1em; text-align: center; vertical-align: top\">{'ingenious': 1L, 'and':<br>3L, 'love': 2L, ...</td>\n",
       "        <td style=\"padding-left: 1em; padding-right: 1em; text-align: center; vertical-align: top\">1</td>\n",
       "    </tr>\n",
       "    <tr>\n",
       "        <td style=\"padding-left: 1em; padding-right: 1em; text-align: center; vertical-align: top\">Stop Pacifier Sucking<br>without tears with ...</td>\n",
       "        <td style=\"padding-left: 1em; padding-right: 1em; text-align: center; vertical-align: top\">All of my kids have cried<br>non-stop when I tried to ...</td>\n",
       "        <td style=\"padding-left: 1em; padding-right: 1em; text-align: center; vertical-align: top\">5.0</td>\n",
       "        <td style=\"padding-left: 1em; padding-right: 1em; text-align: center; vertical-align: top\">{'and': 2L, 'parents!!':<br>1L, 'all': 2L, 'puppe ...</td>\n",
       "        <td style=\"padding-left: 1em; padding-right: 1em; text-align: center; vertical-align: top\">1</td>\n",
       "    </tr>\n",
       "    <tr>\n",
       "        <td style=\"padding-left: 1em; padding-right: 1em; text-align: center; vertical-align: top\">Stop Pacifier Sucking<br>without tears with ...</td>\n",
       "        <td style=\"padding-left: 1em; padding-right: 1em; text-align: center; vertical-align: top\">When the Binky Fairy came<br>to our house, we didn't ...</td>\n",
       "        <td style=\"padding-left: 1em; padding-right: 1em; text-align: center; vertical-align: top\">5.0</td>\n",
       "        <td style=\"padding-left: 1em; padding-right: 1em; text-align: center; vertical-align: top\">{'and': 2L, 'cute': 1L,<br>'help': 2L, 'doll': 1L, ...</td>\n",
       "        <td style=\"padding-left: 1em; padding-right: 1em; text-align: center; vertical-align: top\">1</td>\n",
       "    </tr>\n",
       "    <tr>\n",
       "        <td style=\"padding-left: 1em; padding-right: 1em; text-align: center; vertical-align: top\">A Tale of Baby's Days<br>with Peter Rabbit ...</td>\n",
       "        <td style=\"padding-left: 1em; padding-right: 1em; text-align: center; vertical-align: top\">Lovely book, it's bound<br>tightly so you may no ...</td>\n",
       "        <td style=\"padding-left: 1em; padding-right: 1em; text-align: center; vertical-align: top\">4.0</td>\n",
       "        <td style=\"padding-left: 1em; padding-right: 1em; text-align: center; vertical-align: top\">{'shop': 1L, 'be': 1L,<br>'is': 1L, 'it': 1L, ' ...</td>\n",
       "        <td style=\"padding-left: 1em; padding-right: 1em; text-align: center; vertical-align: top\">1</td>\n",
       "    </tr>\n",
       "    <tr>\n",
       "        <td style=\"padding-left: 1em; padding-right: 1em; text-align: center; vertical-align: top\">Baby Tracker&amp;reg; - Daily<br>Childcare Journal, ...</td>\n",
       "        <td style=\"padding-left: 1em; padding-right: 1em; text-align: center; vertical-align: top\">Perfect for new parents.<br>We were able to keep ...</td>\n",
       "        <td style=\"padding-left: 1em; padding-right: 1em; text-align: center; vertical-align: top\">5.0</td>\n",
       "        <td style=\"padding-left: 1em; padding-right: 1em; text-align: center; vertical-align: top\">{'feeding,': 1L, 'and':<br>2L, 'all': 1L, 'right': ...</td>\n",
       "        <td style=\"padding-left: 1em; padding-right: 1em; text-align: center; vertical-align: top\">1</td>\n",
       "    </tr>\n",
       "    <tr>\n",
       "        <td style=\"padding-left: 1em; padding-right: 1em; text-align: center; vertical-align: top\">Baby Tracker&amp;reg; - Daily<br>Childcare Journal, ...</td>\n",
       "        <td style=\"padding-left: 1em; padding-right: 1em; text-align: center; vertical-align: top\">A friend of mine pinned<br>this product on Pinte ...</td>\n",
       "        <td style=\"padding-left: 1em; padding-right: 1em; text-align: center; vertical-align: top\">5.0</td>\n",
       "        <td style=\"padding-left: 1em; padding-right: 1em; text-align: center; vertical-align: top\">{'and': 1L, 'help': 1L,<br>'give': 1L, 'is': 1L, ...</td>\n",
       "        <td style=\"padding-left: 1em; padding-right: 1em; text-align: center; vertical-align: top\">1</td>\n",
       "    </tr>\n",
       "    <tr>\n",
       "        <td style=\"padding-left: 1em; padding-right: 1em; text-align: center; vertical-align: top\">Baby Tracker&amp;reg; - Daily<br>Childcare Journal, ...</td>\n",
       "        <td style=\"padding-left: 1em; padding-right: 1em; text-align: center; vertical-align: top\">This has been an easy way<br>for my nanny to record ...</td>\n",
       "        <td style=\"padding-left: 1em; padding-right: 1em; text-align: center; vertical-align: top\">4.0</td>\n",
       "        <td style=\"padding-left: 1em; padding-right: 1em; text-align: center; vertical-align: top\">{'journal.': 1L, 'all':<br>1L, 'standarad': 1L, ...</td>\n",
       "        <td style=\"padding-left: 1em; padding-right: 1em; text-align: center; vertical-align: top\">1</td>\n",
       "    </tr>\n",
       "    <tr>\n",
       "        <td style=\"padding-left: 1em; padding-right: 1em; text-align: center; vertical-align: top\">Baby Tracker&amp;reg; - Daily<br>Childcare Journal, ...</td>\n",
       "        <td style=\"padding-left: 1em; padding-right: 1em; text-align: center; vertical-align: top\">I love this journal and<br>our nanny uses it ...</td>\n",
       "        <td style=\"padding-left: 1em; padding-right: 1em; text-align: center; vertical-align: top\">4.0</td>\n",
       "        <td style=\"padding-left: 1em; padding-right: 1em; text-align: center; vertical-align: top\">{'all': 1L, 'forget': 1L,<br>'just': 1L, \"daughter ...</td>\n",
       "        <td style=\"padding-left: 1em; padding-right: 1em; text-align: center; vertical-align: top\">1</td>\n",
       "    </tr>\n",
       "</table>\n",
       "[10 rows x 5 columns]<br/>\n",
       "</div>"
      ],
      "text/plain": [
       "Columns:\n",
       "\tname\tstr\n",
       "\treview\tstr\n",
       "\trating\tfloat\n",
       "\tword_count\tdict\n",
       "\tsentiment\tint\n",
       "\n",
       "Rows: 10\n",
       "\n",
       "Data:\n",
       "+-------------------------------+-------------------------------+--------+\n",
       "|              name             |             review            | rating |\n",
       "+-------------------------------+-------------------------------+--------+\n",
       "|     Planetwise Wipe Pouch     | it came early and was not ... |  5.0   |\n",
       "| Annas Dream Full Quilt wit... | Very soft and comfortable ... |  5.0   |\n",
       "| Stop Pacifier Sucking with... | This is a product well wor... |  5.0   |\n",
       "| Stop Pacifier Sucking with... | All of my kids have cried ... |  5.0   |\n",
       "| Stop Pacifier Sucking with... | When the Binky Fairy came ... |  5.0   |\n",
       "| A Tale of Baby's Days with... | Lovely book, it's bound ti... |  4.0   |\n",
       "| Baby Tracker&reg; - Daily ... | Perfect for new parents. W... |  5.0   |\n",
       "| Baby Tracker&reg; - Daily ... | A friend of mine pinned th... |  5.0   |\n",
       "| Baby Tracker&reg; - Daily ... | This has been an easy way ... |  4.0   |\n",
       "| Baby Tracker&reg; - Daily ... | I love this journal and ou... |  4.0   |\n",
       "+-------------------------------+-------------------------------+--------+\n",
       "+-------------------------------+-----------+\n",
       "|           word_count          | sentiment |\n",
       "+-------------------------------+-----------+\n",
       "| {'and': 3L, 'love': 1L, 'i... |     1     |\n",
       "| {'and': 2L, 'quilt': 1L, '... |     1     |\n",
       "| {'ingenious': 1L, 'and': 3... |     1     |\n",
       "| {'and': 2L, 'parents!!': 1... |     1     |\n",
       "| {'and': 2L, 'cute': 1L, 'h... |     1     |\n",
       "| {'shop': 1L, 'be': 1L, 'is... |     1     |\n",
       "| {'feeding,': 1L, 'and': 2L... |     1     |\n",
       "| {'and': 1L, 'help': 1L, 'g... |     1     |\n",
       "| {'journal.': 1L, 'all': 1L... |     1     |\n",
       "| {'all': 1L, 'forget': 1L, ... |     1     |\n",
       "+-------------------------------+-----------+\n",
       "[10 rows x 5 columns]"
      ]
     },
     "execution_count": 18,
     "metadata": {},
     "output_type": "execute_result"
    }
   ],
   "source": [
    "products.head()"
   ]
  },
  {
   "cell_type": "markdown",
   "metadata": {},
   "source": [
    "##Let's train the sentiment classifier"
   ]
  },
  {
   "cell_type": "code",
   "execution_count": 19,
   "metadata": {
    "collapsed": true
   },
   "outputs": [],
   "source": [
    "train_data,test_data = products.random_split(.8, seed=0)"
   ]
  },
  {
   "cell_type": "code",
   "execution_count": 20,
   "metadata": {
    "collapsed": false,
    "scrolled": false
   },
   "outputs": [
    {
     "data": {
      "text/html": [
       "<pre>WARNING: The number of feature dimensions in this problem is very large in comparison with the number of examples. Unless an appropriate regularization value is set, this model may not provide accurate predictions for a validation/test set.</pre>"
      ],
      "text/plain": [
       "WARNING: The number of feature dimensions in this problem is very large in comparison with the number of examples. Unless an appropriate regularization value is set, this model may not provide accurate predictions for a validation/test set."
      ]
     },
     "metadata": {},
     "output_type": "execute_result"
    },
    {
     "data": {
      "text/html": [
       "<pre>Logistic regression:</pre>"
      ],
      "text/plain": [
       "Logistic regression:"
      ]
     },
     "metadata": {},
     "output_type": "execute_result"
    },
    {
     "data": {
      "text/html": [
       "<pre>--------------------------------------------------------</pre>"
      ],
      "text/plain": [
       "--------------------------------------------------------"
      ]
     },
     "metadata": {},
     "output_type": "execute_result"
    },
    {
     "data": {
      "text/html": [
       "<pre>Number of examples          : 133448</pre>"
      ],
      "text/plain": [
       "Number of examples          : 133448"
      ]
     },
     "metadata": {},
     "output_type": "execute_result"
    },
    {
     "data": {
      "text/html": [
       "<pre>Number of classes           : 2</pre>"
      ],
      "text/plain": [
       "Number of classes           : 2"
      ]
     },
     "metadata": {},
     "output_type": "execute_result"
    },
    {
     "data": {
      "text/html": [
       "<pre>Number of feature columns   : 1</pre>"
      ],
      "text/plain": [
       "Number of feature columns   : 1"
      ]
     },
     "metadata": {},
     "output_type": "execute_result"
    },
    {
     "data": {
      "text/html": [
       "<pre>Number of unpacked features : 219217</pre>"
      ],
      "text/plain": [
       "Number of unpacked features : 219217"
      ]
     },
     "metadata": {},
     "output_type": "execute_result"
    },
    {
     "data": {
      "text/html": [
       "<pre>Number of coefficients    : 219218</pre>"
      ],
      "text/plain": [
       "Number of coefficients    : 219218"
      ]
     },
     "metadata": {},
     "output_type": "execute_result"
    },
    {
     "data": {
      "text/html": [
       "<pre>Starting L-BFGS</pre>"
      ],
      "text/plain": [
       "Starting L-BFGS"
      ]
     },
     "metadata": {},
     "output_type": "execute_result"
    },
    {
     "data": {
      "text/html": [
       "<pre>--------------------------------------------------------</pre>"
      ],
      "text/plain": [
       "--------------------------------------------------------"
      ]
     },
     "metadata": {},
     "output_type": "execute_result"
    },
    {
     "data": {
      "text/html": [
       "<pre>+-----------+----------+-----------+--------------+-------------------+---------------------+</pre>"
      ],
      "text/plain": [
       "+-----------+----------+-----------+--------------+-------------------+---------------------+"
      ]
     },
     "metadata": {},
     "output_type": "execute_result"
    },
    {
     "data": {
      "text/html": [
       "<pre>| Iteration | Passes   | Step size | Elapsed Time | Training-accuracy | Validation-accuracy |</pre>"
      ],
      "text/plain": [
       "| Iteration | Passes   | Step size | Elapsed Time | Training-accuracy | Validation-accuracy |"
      ]
     },
     "metadata": {},
     "output_type": "execute_result"
    },
    {
     "data": {
      "text/html": [
       "<pre>+-----------+----------+-----------+--------------+-------------------+---------------------+</pre>"
      ],
      "text/plain": [
       "+-----------+----------+-----------+--------------+-------------------+---------------------+"
      ]
     },
     "metadata": {},
     "output_type": "execute_result"
    },
    {
     "data": {
      "text/html": [
       "<pre>| 1         | 5        | 0.000002  | 3.722033     | 0.841481          | 0.839989            |</pre>"
      ],
      "text/plain": [
       "| 1         | 5        | 0.000002  | 3.722033     | 0.841481          | 0.839989            |"
      ]
     },
     "metadata": {},
     "output_type": "execute_result"
    },
    {
     "data": {
      "text/html": [
       "<pre>| 2         | 9        | 3.000000  | 6.129836     | 0.947425          | 0.894877            |</pre>"
      ],
      "text/plain": [
       "| 2         | 9        | 3.000000  | 6.129836     | 0.947425          | 0.894877            |"
      ]
     },
     "metadata": {},
     "output_type": "execute_result"
    },
    {
     "data": {
      "text/html": [
       "<pre>| 3         | 10       | 3.000000  | 6.966433     | 0.923768          | 0.866232            |</pre>"
      ],
      "text/plain": [
       "| 3         | 10       | 3.000000  | 6.966433     | 0.923768          | 0.866232            |"
      ]
     },
     "metadata": {},
     "output_type": "execute_result"
    },
    {
     "data": {
      "text/html": [
       "<pre>| 4         | 11       | 3.000000  | 7.769000     | 0.971779          | 0.912743            |</pre>"
      ],
      "text/plain": [
       "| 4         | 11       | 3.000000  | 7.769000     | 0.971779          | 0.912743            |"
      ]
     },
     "metadata": {},
     "output_type": "execute_result"
    },
    {
     "data": {
      "text/html": [
       "<pre>| 5         | 12       | 3.000000  | 8.870790     | 0.975511          | 0.908900            |</pre>"
      ],
      "text/plain": [
       "| 5         | 12       | 3.000000  | 8.870790     | 0.975511          | 0.908900            |"
      ]
     },
     "metadata": {},
     "output_type": "execute_result"
    },
    {
     "data": {
      "text/html": [
       "<pre>| 6         | 13       | 3.000000  | 9.986579     | 0.899991          | 0.825967            |</pre>"
      ],
      "text/plain": [
       "| 6         | 13       | 3.000000  | 9.986579     | 0.899991          | 0.825967            |"
      ]
     },
     "metadata": {},
     "output_type": "execute_result"
    },
    {
     "data": {
      "text/html": [
       "<pre>| 7         | 15       | 1.000000  | 11.493652    | 0.984548          | 0.921451            |</pre>"
      ],
      "text/plain": [
       "| 7         | 15       | 1.000000  | 11.493652    | 0.984548          | 0.921451            |"
      ]
     },
     "metadata": {},
     "output_type": "execute_result"
    },
    {
     "data": {
      "text/html": [
       "<pre>| 8         | 16       | 1.000000  | 12.488356    | 0.985118          | 0.921871            |</pre>"
      ],
      "text/plain": [
       "| 8         | 16       | 1.000000  | 12.488356    | 0.985118          | 0.921871            |"
      ]
     },
     "metadata": {},
     "output_type": "execute_result"
    },
    {
     "data": {
      "text/html": [
       "<pre>| 9         | 17       | 1.000000  | 13.489065    | 0.987066          | 0.919709            |</pre>"
      ],
      "text/plain": [
       "| 9         | 17       | 1.000000  | 13.489065    | 0.987066          | 0.919709            |"
      ]
     },
     "metadata": {},
     "output_type": "execute_result"
    },
    {
     "data": {
      "text/html": [
       "<pre>| 10        | 18       | 1.000000  | 14.466760    | 0.988715          | 0.916256            |</pre>"
      ],
      "text/plain": [
       "| 10        | 18       | 1.000000  | 14.466760    | 0.988715          | 0.916256            |"
      ]
     },
     "metadata": {},
     "output_type": "execute_result"
    },
    {
     "data": {
      "text/html": [
       "<pre>+-----------+----------+-----------+--------------+-------------------+---------------------+</pre>"
      ],
      "text/plain": [
       "+-----------+----------+-----------+--------------+-------------------+---------------------+"
      ]
     },
     "metadata": {},
     "output_type": "execute_result"
    },
    {
     "data": {
      "text/html": [
       "<pre>TERMINATED: Iteration limit reached.</pre>"
      ],
      "text/plain": [
       "TERMINATED: Iteration limit reached."
      ]
     },
     "metadata": {},
     "output_type": "execute_result"
    },
    {
     "data": {
      "text/html": [
       "<pre>This model may not be optimal. To improve it, consider increasing `max_iterations`.</pre>"
      ],
      "text/plain": [
       "This model may not be optimal. To improve it, consider increasing `max_iterations`."
      ]
     },
     "metadata": {},
     "output_type": "execute_result"
    }
   ],
   "source": [
    "sentiment_model = graphlab.logistic_classifier.create(train_data,\n",
    "                                                     target='sentiment',\n",
    "                                                     features=['word_count'],\n",
    "                                                     validation_set=test_data)"
   ]
  },
  {
   "cell_type": "markdown",
   "metadata": {},
   "source": [
    "#Evaluate the sentiment model"
   ]
  },
  {
   "cell_type": "code",
   "execution_count": 21,
   "metadata": {
    "collapsed": false
   },
   "outputs": [
    {
     "data": {
      "text/plain": [
       "{'roc_curve': Columns:\n",
       " \tthreshold\tfloat\n",
       " \tfpr\tfloat\n",
       " \ttpr\tfloat\n",
       " \tp\tint\n",
       " \tn\tint\n",
       " \n",
       " Rows: 100001\n",
       " \n",
       " Data:\n",
       " +-----------+----------------+----------------+-------+------+\n",
       " | threshold |      fpr       |      tpr       |   p   |  n   |\n",
       " +-----------+----------------+----------------+-------+------+\n",
       " |    0.0    |      1.0       |      1.0       | 27976 | 5328 |\n",
       " |   1e-05   | 0.909346846847 | 0.998856162425 | 27976 | 5328 |\n",
       " |   2e-05   | 0.896021021021 | 0.998748927652 | 27976 | 5328 |\n",
       " |   3e-05   | 0.886448948949 | 0.998462968259 | 27976 | 5328 |\n",
       " |   4e-05   | 0.879692192192 | 0.998284243637 | 27976 | 5328 |\n",
       " |   5e-05   | 0.875187687688 | 0.998212753789 | 27976 | 5328 |\n",
       " |   6e-05   | 0.872184684685 | 0.998177008865 | 27976 | 5328 |\n",
       " |   7e-05   | 0.868618618619 | 0.998034029168 | 27976 | 5328 |\n",
       " |   8e-05   | 0.864677177177 | 0.997998284244 | 27976 | 5328 |\n",
       " |   9e-05   | 0.860735735736 | 0.997962539319 | 27976 | 5328 |\n",
       " +-----------+----------------+----------------+-------+------+\n",
       " [100001 rows x 5 columns]\n",
       " Note: Only the head of the SFrame is printed.\n",
       " You can use print_rows(num_rows=m, num_columns=n) to print more rows and columns.}"
      ]
     },
     "execution_count": 21,
     "metadata": {},
     "output_type": "execute_result"
    }
   ],
   "source": [
    "sentiment_model.evaluate(test_data, metric='roc_curve')"
   ]
  },
  {
   "cell_type": "code",
   "execution_count": 22,
   "metadata": {
    "collapsed": false
   },
   "outputs": [
    {
     "data": {},
     "metadata": {},
     "output_type": "display_data"
    }
   ],
   "source": [
    "sentiment_model.show(view='Evaluation')"
   ]
  },
  {
   "cell_type": "markdown",
   "metadata": {},
   "source": [
    "#Applying the learned model to understand sentiment for Giraffe"
   ]
  },
  {
   "cell_type": "code",
   "execution_count": 23,
   "metadata": {
    "collapsed": true
   },
   "outputs": [],
   "source": [
    "giraffe_reviews['predicted_sentiment'] = sentiment_model.predict(giraffe_reviews, output_type='probability')"
   ]
  },
  {
   "cell_type": "code",
   "execution_count": 24,
   "metadata": {
    "collapsed": false
   },
   "outputs": [
    {
     "data": {
      "text/html": [
       "<div style=\"max-height:1000px;max-width:1500px;overflow:auto;\"><table frame=\"box\" rules=\"cols\">\n",
       "    <tr>\n",
       "        <th style=\"padding-left: 1em; padding-right: 1em; text-align: center\">name</th>\n",
       "        <th style=\"padding-left: 1em; padding-right: 1em; text-align: center\">review</th>\n",
       "        <th style=\"padding-left: 1em; padding-right: 1em; text-align: center\">rating</th>\n",
       "        <th style=\"padding-left: 1em; padding-right: 1em; text-align: center\">word_count</th>\n",
       "        <th style=\"padding-left: 1em; padding-right: 1em; text-align: center\">predicted_sentiment</th>\n",
       "    </tr>\n",
       "    <tr>\n",
       "        <td style=\"padding-left: 1em; padding-right: 1em; text-align: center; vertical-align: top\">Vulli Sophie the Giraffe<br>Teether ...</td>\n",
       "        <td style=\"padding-left: 1em; padding-right: 1em; text-align: center; vertical-align: top\">He likes chewing on all<br>the parts especially the ...</td>\n",
       "        <td style=\"padding-left: 1em; padding-right: 1em; text-align: center; vertical-align: top\">5.0</td>\n",
       "        <td style=\"padding-left: 1em; padding-right: 1em; text-align: center; vertical-align: top\">{'and': 1L, 'all': 1L,<br>'because': 1L, 'it': 1L, ...</td>\n",
       "        <td style=\"padding-left: 1em; padding-right: 1em; text-align: center; vertical-align: top\">0.999513023521</td>\n",
       "    </tr>\n",
       "    <tr>\n",
       "        <td style=\"padding-left: 1em; padding-right: 1em; text-align: center; vertical-align: top\">Vulli Sophie the Giraffe<br>Teether ...</td>\n",
       "        <td style=\"padding-left: 1em; padding-right: 1em; text-align: center; vertical-align: top\">My son loves this toy and<br>fits great in the diaper ...</td>\n",
       "        <td style=\"padding-left: 1em; padding-right: 1em; text-align: center; vertical-align: top\">5.0</td>\n",
       "        <td style=\"padding-left: 1em; padding-right: 1em; text-align: center; vertical-align: top\">{'and': 1L, 'right': 1L,<br>'help': 1L, 'just': 1L, ...</td>\n",
       "        <td style=\"padding-left: 1em; padding-right: 1em; text-align: center; vertical-align: top\">0.999320678306</td>\n",
       "    </tr>\n",
       "    <tr>\n",
       "        <td style=\"padding-left: 1em; padding-right: 1em; text-align: center; vertical-align: top\">Vulli Sophie the Giraffe<br>Teether ...</td>\n",
       "        <td style=\"padding-left: 1em; padding-right: 1em; text-align: center; vertical-align: top\">There really should be a<br>large warning on the  ...</td>\n",
       "        <td style=\"padding-left: 1em; padding-right: 1em; text-align: center; vertical-align: top\">1.0</td>\n",
       "        <td style=\"padding-left: 1em; padding-right: 1em; text-align: center; vertical-align: top\">{'and': 2L, 'all': 1L,<br>'latex.': 1L, 'being': ...</td>\n",
       "        <td style=\"padding-left: 1em; padding-right: 1em; text-align: center; vertical-align: top\">0.013558811687</td>\n",
       "    </tr>\n",
       "    <tr>\n",
       "        <td style=\"padding-left: 1em; padding-right: 1em; text-align: center; vertical-align: top\">Vulli Sophie the Giraffe<br>Teether ...</td>\n",
       "        <td style=\"padding-left: 1em; padding-right: 1em; text-align: center; vertical-align: top\">All the moms in my moms'<br>group got Sophie for ...</td>\n",
       "        <td style=\"padding-left: 1em; padding-right: 1em; text-align: center; vertical-align: top\">5.0</td>\n",
       "        <td style=\"padding-left: 1em; padding-right: 1em; text-align: center; vertical-align: top\">{'and': 2L, 'one!': 1L,<br>'all': 1L, 'love': 1L, ...</td>\n",
       "        <td style=\"padding-left: 1em; padding-right: 1em; text-align: center; vertical-align: top\">0.995769474148</td>\n",
       "    </tr>\n",
       "    <tr>\n",
       "        <td style=\"padding-left: 1em; padding-right: 1em; text-align: center; vertical-align: top\">Vulli Sophie the Giraffe<br>Teether ...</td>\n",
       "        <td style=\"padding-left: 1em; padding-right: 1em; text-align: center; vertical-align: top\">I was a little skeptical<br>on whether Sophie was ...</td>\n",
       "        <td style=\"padding-left: 1em; padding-right: 1em; text-align: center; vertical-align: top\">5.0</td>\n",
       "        <td style=\"padding-left: 1em; padding-right: 1em; text-align: center; vertical-align: top\">{'and': 3L, 'all': 1L,<br>'old': 1L, 'her.': 1L, ...</td>\n",
       "        <td style=\"padding-left: 1em; padding-right: 1em; text-align: center; vertical-align: top\">0.662374415673</td>\n",
       "    </tr>\n",
       "    <tr>\n",
       "        <td style=\"padding-left: 1em; padding-right: 1em; text-align: center; vertical-align: top\">Vulli Sophie the Giraffe<br>Teether ...</td>\n",
       "        <td style=\"padding-left: 1em; padding-right: 1em; text-align: center; vertical-align: top\">I have been reading about<br>Sophie and was going  ...</td>\n",
       "        <td style=\"padding-left: 1em; padding-right: 1em; text-align: center; vertical-align: top\">5.0</td>\n",
       "        <td style=\"padding-left: 1em; padding-right: 1em; text-align: center; vertical-align: top\">{'and': 6L, 'seven': 1L,<br>'already': 1L, 'love': ...</td>\n",
       "        <td style=\"padding-left: 1em; padding-right: 1em; text-align: center; vertical-align: top\">0.999997148186</td>\n",
       "    </tr>\n",
       "    <tr>\n",
       "        <td style=\"padding-left: 1em; padding-right: 1em; text-align: center; vertical-align: top\">Vulli Sophie the Giraffe<br>Teether ...</td>\n",
       "        <td style=\"padding-left: 1em; padding-right: 1em; text-align: center; vertical-align: top\">My neice loves her sophie<br>and has spent hours ...</td>\n",
       "        <td style=\"padding-left: 1em; padding-right: 1em; text-align: center; vertical-align: top\">5.0</td>\n",
       "        <td style=\"padding-left: 1em; padding-right: 1em; text-align: center; vertical-align: top\">{'and': 4L, 'drooling,':<br>1L, 'love': 1L, 'her.': ...</td>\n",
       "        <td style=\"padding-left: 1em; padding-right: 1em; text-align: center; vertical-align: top\">0.989190989536</td>\n",
       "    </tr>\n",
       "    <tr>\n",
       "        <td style=\"padding-left: 1em; padding-right: 1em; text-align: center; vertical-align: top\">Vulli Sophie the Giraffe<br>Teether ...</td>\n",
       "        <td style=\"padding-left: 1em; padding-right: 1em; text-align: center; vertical-align: top\">What a friendly face!<br>And those mesmerizing ...</td>\n",
       "        <td style=\"padding-left: 1em; padding-right: 1em; text-align: center; vertical-align: top\">5.0</td>\n",
       "        <td style=\"padding-left: 1em; padding-right: 1em; text-align: center; vertical-align: top\">{'and': 3L, 'chew': 1L,<br>\"don't\": 1L, 'is': 1L, ...</td>\n",
       "        <td style=\"padding-left: 1em; padding-right: 1em; text-align: center; vertical-align: top\">0.999563518413</td>\n",
       "    </tr>\n",
       "    <tr>\n",
       "        <td style=\"padding-left: 1em; padding-right: 1em; text-align: center; vertical-align: top\">Vulli Sophie the Giraffe<br>Teether ...</td>\n",
       "        <td style=\"padding-left: 1em; padding-right: 1em; text-align: center; vertical-align: top\">We got this just for my<br>son to chew on instea ...</td>\n",
       "        <td style=\"padding-left: 1em; padding-right: 1em; text-align: center; vertical-align: top\">5.0</td>\n",
       "        <td style=\"padding-left: 1em; padding-right: 1em; text-align: center; vertical-align: top\">{'chew': 2L, 'because':<br>1L, 'just': 2L, 'what': ...</td>\n",
       "        <td style=\"padding-left: 1em; padding-right: 1em; text-align: center; vertical-align: top\">0.970160542725</td>\n",
       "    </tr>\n",
       "    <tr>\n",
       "        <td style=\"padding-left: 1em; padding-right: 1em; text-align: center; vertical-align: top\">Vulli Sophie the Giraffe<br>Teether ...</td>\n",
       "        <td style=\"padding-left: 1em; padding-right: 1em; text-align: center; vertical-align: top\">My baby seems to like<br>this toy, but I could ...</td>\n",
       "        <td style=\"padding-left: 1em; padding-right: 1em; text-align: center; vertical-align: top\">3.0</td>\n",
       "        <td style=\"padding-left: 1em; padding-right: 1em; text-align: center; vertical-align: top\">{'and': 2L, 'already':<br>1L, 'in': 1L, 'some': ...</td>\n",
       "        <td style=\"padding-left: 1em; padding-right: 1em; text-align: center; vertical-align: top\">0.195367644588</td>\n",
       "    </tr>\n",
       "</table>\n",
       "[10 rows x 5 columns]<br/>\n",
       "</div>"
      ],
      "text/plain": [
       "Columns:\n",
       "\tname\tstr\n",
       "\treview\tstr\n",
       "\trating\tfloat\n",
       "\tword_count\tdict\n",
       "\tpredicted_sentiment\tfloat\n",
       "\n",
       "Rows: 10\n",
       "\n",
       "Data:\n",
       "+-------------------------------+-------------------------------+--------+\n",
       "|              name             |             review            | rating |\n",
       "+-------------------------------+-------------------------------+--------+\n",
       "| Vulli Sophie the Giraffe T... | He likes chewing on all th... |  5.0   |\n",
       "| Vulli Sophie the Giraffe T... | My son loves this toy and ... |  5.0   |\n",
       "| Vulli Sophie the Giraffe T... | There really should be a l... |  1.0   |\n",
       "| Vulli Sophie the Giraffe T... | All the moms in my moms' g... |  5.0   |\n",
       "| Vulli Sophie the Giraffe T... | I was a little skeptical o... |  5.0   |\n",
       "| Vulli Sophie the Giraffe T... | I have been reading about ... |  5.0   |\n",
       "| Vulli Sophie the Giraffe T... | My neice loves her sophie ... |  5.0   |\n",
       "| Vulli Sophie the Giraffe T... | What a friendly face!  And... |  5.0   |\n",
       "| Vulli Sophie the Giraffe T... | We got this just for my so... |  5.0   |\n",
       "| Vulli Sophie the Giraffe T... | My baby seems to like this... |  3.0   |\n",
       "+-------------------------------+-------------------------------+--------+\n",
       "+-------------------------------+---------------------+\n",
       "|           word_count          | predicted_sentiment |\n",
       "+-------------------------------+---------------------+\n",
       "| {'and': 1L, 'all': 1L, 'be... |    0.999513023521   |\n",
       "| {'and': 1L, 'right': 1L, '... |    0.999320678306   |\n",
       "| {'and': 2L, 'all': 1L, 'la... |    0.013558811687   |\n",
       "| {'and': 2L, 'one!': 1L, 'a... |    0.995769474148   |\n",
       "| {'and': 3L, 'all': 1L, 'ol... |    0.662374415673   |\n",
       "| {'and': 6L, 'seven': 1L, '... |    0.999997148186   |\n",
       "| {'and': 4L, 'drooling,': 1... |    0.989190989536   |\n",
       "| {'and': 3L, 'chew': 1L, \"d... |    0.999563518413   |\n",
       "| {'chew': 2L, 'because': 1L... |    0.970160542725   |\n",
       "| {'and': 2L, 'already': 1L,... |    0.195367644588   |\n",
       "+-------------------------------+---------------------+\n",
       "[10 rows x 5 columns]"
      ]
     },
     "execution_count": 24,
     "metadata": {},
     "output_type": "execute_result"
    }
   ],
   "source": [
    "giraffe_reviews.head()"
   ]
  },
  {
   "cell_type": "markdown",
   "metadata": {},
   "source": [
    "##Sort the reviews based on the predicted sentiment and explore"
   ]
  },
  {
   "cell_type": "code",
   "execution_count": 25,
   "metadata": {
    "collapsed": true
   },
   "outputs": [],
   "source": [
    "giraffe_reviews = giraffe_reviews.sort('predicted_sentiment', ascending=False)"
   ]
  },
  {
   "cell_type": "code",
   "execution_count": 26,
   "metadata": {
    "collapsed": false
   },
   "outputs": [
    {
     "data": {
      "text/html": [
       "<div style=\"max-height:1000px;max-width:1500px;overflow:auto;\"><table frame=\"box\" rules=\"cols\">\n",
       "    <tr>\n",
       "        <th style=\"padding-left: 1em; padding-right: 1em; text-align: center\">name</th>\n",
       "        <th style=\"padding-left: 1em; padding-right: 1em; text-align: center\">review</th>\n",
       "        <th style=\"padding-left: 1em; padding-right: 1em; text-align: center\">rating</th>\n",
       "        <th style=\"padding-left: 1em; padding-right: 1em; text-align: center\">word_count</th>\n",
       "        <th style=\"padding-left: 1em; padding-right: 1em; text-align: center\">predicted_sentiment</th>\n",
       "    </tr>\n",
       "    <tr>\n",
       "        <td style=\"padding-left: 1em; padding-right: 1em; text-align: center; vertical-align: top\">Vulli Sophie the Giraffe<br>Teether ...</td>\n",
       "        <td style=\"padding-left: 1em; padding-right: 1em; text-align: center; vertical-align: top\">Sophie, oh Sophie, your<br>time has come. My ...</td>\n",
       "        <td style=\"padding-left: 1em; padding-right: 1em; text-align: center; vertical-align: top\">5.0</td>\n",
       "        <td style=\"padding-left: 1em; padding-right: 1em; text-align: center; vertical-align: top\">{'giggles': 1L, 'all':<br>1L, \"violet's\": 2L, ...</td>\n",
       "        <td style=\"padding-left: 1em; padding-right: 1em; text-align: center; vertical-align: top\">1.0</td>\n",
       "    </tr>\n",
       "    <tr>\n",
       "        <td style=\"padding-left: 1em; padding-right: 1em; text-align: center; vertical-align: top\">Vulli Sophie the Giraffe<br>Teether ...</td>\n",
       "        <td style=\"padding-left: 1em; padding-right: 1em; text-align: center; vertical-align: top\">I'm not sure why Sophie<br>is such a hit with the ...</td>\n",
       "        <td style=\"padding-left: 1em; padding-right: 1em; text-align: center; vertical-align: top\">4.0</td>\n",
       "        <td style=\"padding-left: 1em; padding-right: 1em; text-align: center; vertical-align: top\">{'peace': 1L, 'month':<br>1L, 'bright': 1L, ...</td>\n",
       "        <td style=\"padding-left: 1em; padding-right: 1em; text-align: center; vertical-align: top\">0.999999999703</td>\n",
       "    </tr>\n",
       "    <tr>\n",
       "        <td style=\"padding-left: 1em; padding-right: 1em; text-align: center; vertical-align: top\">Vulli Sophie the Giraffe<br>Teether ...</td>\n",
       "        <td style=\"padding-left: 1em; padding-right: 1em; text-align: center; vertical-align: top\">I'll be honest...I bought<br>this toy because all the ...</td>\n",
       "        <td style=\"padding-left: 1em; padding-right: 1em; text-align: center; vertical-align: top\">4.0</td>\n",
       "        <td style=\"padding-left: 1em; padding-right: 1em; text-align: center; vertical-align: top\">{'all': 2L, 'pops': 1L,<br>'existence.': 1L, ...</td>\n",
       "        <td style=\"padding-left: 1em; padding-right: 1em; text-align: center; vertical-align: top\">0.999999999392</td>\n",
       "    </tr>\n",
       "    <tr>\n",
       "        <td style=\"padding-left: 1em; padding-right: 1em; text-align: center; vertical-align: top\">Vulli Sophie the Giraffe<br>Teether ...</td>\n",
       "        <td style=\"padding-left: 1em; padding-right: 1em; text-align: center; vertical-align: top\">We got this little<br>giraffe as a gift from a ...</td>\n",
       "        <td style=\"padding-left: 1em; padding-right: 1em; text-align: center; vertical-align: top\">5.0</td>\n",
       "        <td style=\"padding-left: 1em; padding-right: 1em; text-align: center; vertical-align: top\">{'all': 2L, \"don't\": 1L,<br>'(literally).so': 1L, ...</td>\n",
       "        <td style=\"padding-left: 1em; padding-right: 1em; text-align: center; vertical-align: top\">0.99999999919</td>\n",
       "    </tr>\n",
       "    <tr>\n",
       "        <td style=\"padding-left: 1em; padding-right: 1em; text-align: center; vertical-align: top\">Vulli Sophie the Giraffe<br>Teether ...</td>\n",
       "        <td style=\"padding-left: 1em; padding-right: 1em; text-align: center; vertical-align: top\">As a mother of 16month<br>old twins; I bought ...</td>\n",
       "        <td style=\"padding-left: 1em; padding-right: 1em; text-align: center; vertical-align: top\">5.0</td>\n",
       "        <td style=\"padding-left: 1em; padding-right: 1em; text-align: center; vertical-align: top\">{'cute': 1L, 'all': 1L,<br>'reviews.': 2L, 'just': ...</td>\n",
       "        <td style=\"padding-left: 1em; padding-right: 1em; text-align: center; vertical-align: top\">0.999999998657</td>\n",
       "    </tr>\n",
       "    <tr>\n",
       "        <td style=\"padding-left: 1em; padding-right: 1em; text-align: center; vertical-align: top\">Vulli Sophie the Giraffe<br>Teether ...</td>\n",
       "        <td style=\"padding-left: 1em; padding-right: 1em; text-align: center; vertical-align: top\">Sophie the Giraffe is the<br>perfect teething toy. ...</td>\n",
       "        <td style=\"padding-left: 1em; padding-right: 1em; text-align: center; vertical-align: top\">5.0</td>\n",
       "        <td style=\"padding-left: 1em; padding-right: 1em; text-align: center; vertical-align: top\">{'just': 2L, 'both': 1L,<br>'month': 1L, 'ears,': ...</td>\n",
       "        <td style=\"padding-left: 1em; padding-right: 1em; text-align: center; vertical-align: top\">0.999999997108</td>\n",
       "    </tr>\n",
       "    <tr>\n",
       "        <td style=\"padding-left: 1em; padding-right: 1em; text-align: center; vertical-align: top\">Vulli Sophie the Giraffe<br>Teether ...</td>\n",
       "        <td style=\"padding-left: 1em; padding-right: 1em; text-align: center; vertical-align: top\">Sophie la giraffe is<br>absolutely the best toy ...</td>\n",
       "        <td style=\"padding-left: 1em; padding-right: 1em; text-align: center; vertical-align: top\">5.0</td>\n",
       "        <td style=\"padding-left: 1em; padding-right: 1em; text-align: center; vertical-align: top\">{'and': 5L, 'the': 1L,<br>'all': 1L, 'old': 1L, ...</td>\n",
       "        <td style=\"padding-left: 1em; padding-right: 1em; text-align: center; vertical-align: top\">0.999999995589</td>\n",
       "    </tr>\n",
       "    <tr>\n",
       "        <td style=\"padding-left: 1em; padding-right: 1em; text-align: center; vertical-align: top\">Vulli Sophie the Giraffe<br>Teether ...</td>\n",
       "        <td style=\"padding-left: 1em; padding-right: 1em; text-align: center; vertical-align: top\">My 5-mos old son took to<br>this immediately. The ...</td>\n",
       "        <td style=\"padding-left: 1em; padding-right: 1em; text-align: center; vertical-align: top\">5.0</td>\n",
       "        <td style=\"padding-left: 1em; padding-right: 1em; text-align: center; vertical-align: top\">{'just': 1L, 'shape': 2L,<br>'mutt': 1L, '\"dog': 1L, ...</td>\n",
       "        <td style=\"padding-left: 1em; padding-right: 1em; text-align: center; vertical-align: top\">0.999999995573</td>\n",
       "    </tr>\n",
       "    <tr>\n",
       "        <td style=\"padding-left: 1em; padding-right: 1em; text-align: center; vertical-align: top\">Vulli Sophie the Giraffe<br>Teether ...</td>\n",
       "        <td style=\"padding-left: 1em; padding-right: 1em; text-align: center; vertical-align: top\">My nephews and my four<br>kids all had Sophie in ...</td>\n",
       "        <td style=\"padding-left: 1em; padding-right: 1em; text-align: center; vertical-align: top\">5.0</td>\n",
       "        <td style=\"padding-left: 1em; padding-right: 1em; text-align: center; vertical-align: top\">{'and': 4L, 'chew': 1L,<br>'all': 1L, 'perfect;': ...</td>\n",
       "        <td style=\"padding-left: 1em; padding-right: 1em; text-align: center; vertical-align: top\">0.999999989527</td>\n",
       "    </tr>\n",
       "    <tr>\n",
       "        <td style=\"padding-left: 1em; padding-right: 1em; text-align: center; vertical-align: top\">Vulli Sophie the Giraffe<br>Teether ...</td>\n",
       "        <td style=\"padding-left: 1em; padding-right: 1em; text-align: center; vertical-align: top\">Never thought I'd see my<br>son French kissing a ...</td>\n",
       "        <td style=\"padding-left: 1em; padding-right: 1em; text-align: center; vertical-align: top\">5.0</td>\n",
       "        <td style=\"padding-left: 1em; padding-right: 1em; text-align: center; vertical-align: top\">{'giggles': 1L, 'all':<br>1L, 'out,': 1L, 'over': ...</td>\n",
       "        <td style=\"padding-left: 1em; padding-right: 1em; text-align: center; vertical-align: top\">0.999999985069</td>\n",
       "    </tr>\n",
       "</table>\n",
       "[10 rows x 5 columns]<br/>\n",
       "</div>"
      ],
      "text/plain": [
       "Columns:\n",
       "\tname\tstr\n",
       "\treview\tstr\n",
       "\trating\tfloat\n",
       "\tword_count\tdict\n",
       "\tpredicted_sentiment\tfloat\n",
       "\n",
       "Rows: 10\n",
       "\n",
       "Data:\n",
       "+-------------------------------+-------------------------------+--------+\n",
       "|              name             |             review            | rating |\n",
       "+-------------------------------+-------------------------------+--------+\n",
       "| Vulli Sophie the Giraffe T... | Sophie, oh Sophie, your ti... |  5.0   |\n",
       "| Vulli Sophie the Giraffe T... | I'm not sure why Sophie is... |  4.0   |\n",
       "| Vulli Sophie the Giraffe T... | I'll be honest...I bought ... |  4.0   |\n",
       "| Vulli Sophie the Giraffe T... | We got this little giraffe... |  5.0   |\n",
       "| Vulli Sophie the Giraffe T... | As a mother of 16month old... |  5.0   |\n",
       "| Vulli Sophie the Giraffe T... | Sophie the Giraffe is the ... |  5.0   |\n",
       "| Vulli Sophie the Giraffe T... | Sophie la giraffe is absol... |  5.0   |\n",
       "| Vulli Sophie the Giraffe T... | My 5-mos old son took to t... |  5.0   |\n",
       "| Vulli Sophie the Giraffe T... | My nephews and my four kid... |  5.0   |\n",
       "| Vulli Sophie the Giraffe T... | Never thought I'd see my s... |  5.0   |\n",
       "+-------------------------------+-------------------------------+--------+\n",
       "+-------------------------------+---------------------+\n",
       "|           word_count          | predicted_sentiment |\n",
       "+-------------------------------+---------------------+\n",
       "| {'giggles': 1L, 'all': 1L,... |         1.0         |\n",
       "| {'peace': 1L, 'month': 1L,... |    0.999999999703   |\n",
       "| {'all': 2L, 'pops': 1L, 'e... |    0.999999999392   |\n",
       "| {'all': 2L, \"don't\": 1L, '... |    0.99999999919    |\n",
       "| {'cute': 1L, 'all': 1L, 'r... |    0.999999998657   |\n",
       "| {'just': 2L, 'both': 1L, '... |    0.999999997108   |\n",
       "| {'and': 5L, 'the': 1L, 'al... |    0.999999995589   |\n",
       "| {'just': 1L, 'shape': 2L, ... |    0.999999995573   |\n",
       "| {'and': 4L, 'chew': 1L, 'a... |    0.999999989527   |\n",
       "| {'giggles': 1L, 'all': 1L,... |    0.999999985069   |\n",
       "+-------------------------------+---------------------+\n",
       "[10 rows x 5 columns]"
      ]
     },
     "execution_count": 26,
     "metadata": {},
     "output_type": "execute_result"
    }
   ],
   "source": [
    "giraffe_reviews.head()"
   ]
  },
  {
   "cell_type": "markdown",
   "metadata": {},
   "source": [
    "##Most positive reviews for the giraffe"
   ]
  },
  {
   "cell_type": "code",
   "execution_count": 27,
   "metadata": {
    "collapsed": false
   },
   "outputs": [
    {
     "data": {
      "text/plain": [
       "\"Sophie, oh Sophie, your time has come. My granddaughter, Violet is 5 months old and starting to teeth. What joy little Sophie brings to Violet. Sophie is made of a very pliable rubber that is sturdy but not tough. It is quite easy for Violet to twist Sophie into unheard of positions to get Sophie into her mouth. The little nose and hooves fit perfectly into small mouths, and the drooling has purpose. The paint on Sophie is food quality.Sophie was born in 1961 in France. The maker had wondered why there was nothing available for babies and made Sophie from the finest rubber, phthalate-free on St Sophie's Day, thus the name was born. Since that time millions of Sophie's populate the world. She is soft and for babies little hands easy to grasp. Violet especially loves the bumpy head and horns of Sophie. Sophie has a long neck that easy to grasp and twist. She has lovely, sizable spots that attract Violet's attention. Sophie has happy little squeaks that bring squeals of delight from Violet. She is able to make Sophie squeak and that brings much joy. Sophie's smooth skin is soothing to Violet's little gums. Sophie is 7 inches tall and is the exact correct size for babies to hold and love.As you well know the first thing babies grasp, goes into their mouths- how wonderful to have a toy that stimulates all of the senses and helps with the issue of teething. Sophie is small enough to fit into any size pocket or bag. Sophie is the perfect find for babies from a few months to a year old. How wonderful to hear the giggles and laughs that emanate from babies who find Sophie irresistible. Viva La Sophie!Highly Recommended.  prisrob 12-11-09\""
      ]
     },
     "execution_count": 27,
     "metadata": {},
     "output_type": "execute_result"
    }
   ],
   "source": [
    "giraffe_reviews[0]['review']"
   ]
  },
  {
   "cell_type": "code",
   "execution_count": 28,
   "metadata": {
    "collapsed": false
   },
   "outputs": [
    {
     "data": {
      "text/plain": [
       "\"I'm not sure why Sophie is such a hit with the little ones, but my 7 month old baby girl is one of her adoring fans.  The rubber is softer and more pleasant to handle, and my daughter has enjoyed chewing on her legs and the nubs on her head even before she started teething.  She also loves the squeak that Sophie makes when you squeeze her.  Not sure what it is but if Sophie is amongst a pile of her other toys, my daughter will more often than not reach for Sophie.  And I have the peace of mind of knowing that only edible and safe paints and materials have been used to make Sophie, as opposed to Bright Starts and other baby toys made in China.  Now that the research is out on phthalates and other toxic substances in baby toys, I think it's more important than ever to find good quality toys that are also safe for our babies to handle and put in their mouths.  Sophie is a must-have for every new mom in my opinion.  Even if your kid is one of the few that can take or leave her, it's worth a try.  Vulli, the makers of Sophie, also make natural rubber teething rings that my daughter loves as well.\""
      ]
     },
     "execution_count": 28,
     "metadata": {},
     "output_type": "execute_result"
    }
   ],
   "source": [
    "giraffe_reviews[1]['review']"
   ]
  },
  {
   "cell_type": "markdown",
   "metadata": {},
   "source": [
    "##Show most negative reviews for giraffe"
   ]
  },
  {
   "cell_type": "code",
   "execution_count": 29,
   "metadata": {
    "collapsed": false
   },
   "outputs": [
    {
     "data": {
      "text/plain": [
       "\"My son (now 2.5) LOVED his Sophie, and I bought one for every baby shower I've gone to. Now, my daughter (6 months) just today nearly choked on it and I will never give it to her again. Had I not been within hearing range it could have been fatal. The strange sound she was making caught my attention and when I went to her and found the front curved leg shoved well down her throat and her face a purply/blue I panicked. I pulled it out and she vomited all over the carpet before screaming her head off. I can't believe how my opinion of this toy has changed from a must-have to a must-not-use. Please don't disregard any of the choking hazard comments, they are not over exaggerated!\""
      ]
     },
     "execution_count": 29,
     "metadata": {},
     "output_type": "execute_result"
    }
   ],
   "source": [
    "giraffe_reviews[-1]['review']"
   ]
  },
  {
   "cell_type": "code",
   "execution_count": 30,
   "metadata": {
    "collapsed": false
   },
   "outputs": [
    {
     "data": {
      "text/plain": [
       "\"This children's toy is nostalgic and very cute. However, there is a distinct rubber smell and a very odd taste, yes I tried it, that my baby did not enjoy. Also, if it is soiled it is extremely difficult to clean as the rubber is a kind of porus material and does not clean well. The final thing is the squeaking device inside which stopped working after the first couple of days. I returned this item feeling I had overpaid for a toy that was defective and did not meet my expectations. Please do not be swayed by the cute packaging and hype surounding it as I was. One more thing, I was given a full refund from Amazon without any problem.\""
      ]
     },
     "execution_count": 30,
     "metadata": {},
     "output_type": "execute_result"
    }
   ],
   "source": [
    "giraffe_reviews[-2]['review']"
   ]
  },
  {
   "cell_type": "code",
   "execution_count": null,
   "metadata": {
    "collapsed": true
   },
   "outputs": [],
   "source": []
  },
  {
   "cell_type": "code",
   "execution_count": 31,
   "metadata": {
    "collapsed": true
   },
   "outputs": [],
   "source": [
    "selected_words = ['awesome', 'great', 'fantastic', 'amazing', 'love', 'horrible', 'bad', 'terrible', 'awful', 'wow', 'hate']"
   ]
  },
  {
   "cell_type": "code",
   "execution_count": 32,
   "metadata": {
    "collapsed": false
   },
   "outputs": [
    {
     "data": {
      "text/plain": [
       "['awesome',\n",
       " 'great',\n",
       " 'fantastic',\n",
       " 'amazing',\n",
       " 'love',\n",
       " 'horrible',\n",
       " 'bad',\n",
       " 'terrible',\n",
       " 'awful',\n",
       " 'wow',\n",
       " 'hate']"
      ]
     },
     "execution_count": 32,
     "metadata": {},
     "output_type": "execute_result"
    }
   ],
   "source": [
    "selected_words"
   ]
  },
  {
   "cell_type": "code",
   "execution_count": 33,
   "metadata": {
    "collapsed": false
   },
   "outputs": [
    {
     "data": {
      "text/plain": [
       "dtype: dict\n",
       "Rows: 166752\n",
       "[{'and': 3L, 'love': 1L, 'it': 2L, 'highly': 1L, 'osocozy': 1L, 'bags': 1L, 'holder.': 1L, 'moist': 1L, 'does': 1L, 'recommend': 1L, 'was': 1L, 'wipes': 1L, 'it.': 1L, 'early': 1L, 'disappointed.': 1L, 'not': 2L, 'now': 1L, 'wipe': 1L, 'keps': 1L, 'wise': 1L, 'i': 1L, 'leak.': 1L, 'planet': 1L, 'my': 2L, 'came': 1L}, {'and': 2L, 'quilt': 1L, 'it': 1L, 'comfortable': 1L, 'warmer': 1L, 'size': 1L, 'anyone': 1L, 'for': 1L, 'looking': 1L, 'to': 1L, 'recommend': 1L, 'type': 1L, 'full': 1L, 'very': 1L, 'looks...fit': 1L, 'than': 1L, 'perfectly...would': 1L, 'this': 1L, 'of': 1L, 'bed': 1L, 'the': 1L, 'soft': 1L}, {'ingenious': 1L, 'and': 3L, 'love': 2L, 'positive,': 1L, 'is': 4L, 'it': 1L, 'losing': 1L, 'fairy.': 1L, 'have': 1L, 'in': 2L, 'rid': 1L, 'what': 1L, 'her': 1L, 'how': 1L, 'to': 1L, 'much': 1L, 'has': 1L, 'approach': 2L, 'worth': 1L, 'she': 1L, 'tool.': 1L, 'product': 2L, 'clever': 1L, 'chart': 1L, 'else': 1L, 'most': 1L, 'artwork,': 1L, 'ownership': 1L, 'not': 1L, 'little': 1L, 'purchase.': 1L, 'herself,': 1L, 'a': 2L, 'about': 1L, 'daughter': 1L, 'like': 1L, 'anything': 1L, 'getting': 1L, 'this': 3L, 'of': 3L, 'proud': 1L, 'well': 1L, 'this,': 1L, 'i': 3L, 'back,': 1L, 'so': 1L, 'binky.': 2L, 'loves': 1L, 'found': 1L, 'the': 7L, 'my': 1L}, {'and': 2L, 'parents!!': 1L, 'all': 2L, 'puppet.': 1L, 'help': 1L, 'cried': 1L, 'is': 3L, 'it': 1L, 'soo': 1L, 'rock!!': 1L, 'way': 1L, 'have': 1L, 'pacifier': 1L, 'my': 1L, 'your': 1L, 'tried': 1L, 'from': 1L, 'for': 2L, 'their': 2L, 'when': 1L, 'to': 5L, 'going': 1L, 'easy': 1L, 'pacifier,': 1L, 'you': 2L, 'save': 1L, 'until': 1L, \"love's\": 1L, 'book!': 1L, 'them': 4L, 'buy': 1L, 'ween': 1L, 'book,': 1L, 'part': 1L, 'understand': 1L, 'it.this': 1L, 'binky': 1L, 'an': 1L, 'with': 1L, 'must': 1L, 'a': 2L, 'great': 1L, 'kids': 2L, 'off': 1L, 'gift': 1L, 'this': 1L, 'many': 1L, 'work': 1L, 'non-stop': 1L, 'thumbuddy': 1L, 'will': 1L, 'i': 2L, 'expecting': 1L, 'allow': 1L, 'of': 1L, 'found': 1L, 'fairy': 1L, 'where': 1L, 'headaches.thanks': 1L}, {'and': 2L, 'cute': 1L, 'help': 2L, 'doll': 1L, 'is': 2L, \"didn't\": 1L, 'it': 1L, 'house,': 1L, 'highly': 1L, 'product': 1L, 'have': 1L, 'pacifier': 1L, 'comes.': 1L, 'your': 1L, 'special': 1L, 'happens': 1L, 'what': 1L, 'thumb': 1L, 'would': 1L, 'to': 6L, 'lots': 1L, 'explain': 1L, 'when': 2L, 'habit.': 1L, 'any': 2L, 'how': 1L, 'book': 2L, 'item.': 1L, 'recommend': 1L, 'pacifier.': 1L, 'adorable': 1L, 'we': 2L, 'sucking': 1L, 'parent': 1L, 'our': 2L, 'stop': 1L, 'great': 1L, 'movies': 1L, 'break': 1L, 'job': 1L, 'important': 1L, 'child': 1L, 'telling': 1L, 'using': 1L, 'binky': 3L, 'trying': 1L, 'with': 1L, 'the': 6L, 'a': 2L, 'loss': 1L, 'about': 2L, 'made': 1L, 'daughter': 1L, 'her': 1L, 'gift': 1L, 'i': 1L, 'of': 2L, 'favorite': 1L, 'their': 1L, 'this': 2L, 'prepare': 1L, 'does': 1L, 'fairy': 3L, 'or': 1L, 'came': 1L, 'for': 2L}, {'shop': 1L, 'be': 1L, 'is': 1L, 'it': 1L, 'as': 1L, 'spaces': 1L, 'at': 1L, 'in': 1L, 'before': 1L, 'from': 1L, 'for': 1L, '&': 1L, '29.95!': 1L, 'barnes': 1L, 'currently': 1L, 'able': 1L, 'aside': 1L, 'tightly': 1L, 'to': 1L, 'add': 1L, 'listed': 1L, 'you': 2L, 'lovely': 1L, 'noble': 1L, 'photos/cards': 1L, 'around': 1L, 'may': 1L, 'designated': 1L, 'book,': 1L, 'book.': 1L, 'bound': 1L, 'not': 1L, 'purchase,': 1L, 'of': 1L, 'so': 1L, 'alot': 1L, \"it's\": 1L, 'the': 2L}, {'feeding,': 1L, 'and': 2L, 'all': 1L, 'right': 1L, 'able': 1L, 'we': 2L, 'two': 1L, 'because': 1L, 'sleep': 1L, 'questions': 1L, 'perfect': 1L, 'her': 1L, 'doctor': 1L, 'when': 1L, 'there!': 1L, 'for': 2L, 'to': 1L, 'new': 1L, 'easier': 1L, 'life': 1L, 'schedule': 1L, 'track': 1L, 'it': 1L, 'diaper': 1L, 'half': 1L, 'ask': 1L, \"baby's\": 1L, 'change': 1L, 'had': 1L, 'a': 1L, 'about': 1L, 'made': 1L, 'would': 1L, 'of': 2L, 'months': 1L, 'keep': 1L, 'habits': 1L, 'were': 1L, 'life.': 1L, 'the': 2L, 'parents.': 1L, 'first': 1L}, {'and': 1L, 'help': 1L, 'give': 1L, 'is': 1L, 'mine': 1L, 'decided': 1L, 'are': 1L, 'if': 1L, 'pinterest': 1L, 'pinned': 1L, 'to': 1L, 'feedings,': 1L, 'new': 1L, 'you': 2L, 'friend': 1L, 'product': 1L, 'like!': 1L, 'track': 1L, 'fantastic!': 1L, 'whirl!': 1L, 'it': 2L, 'diaper': 1L, 'a': 3L, 'on': 1L, 'i': 1L, 'of': 2L, 'parent,': 1L, 'keep': 1L, 'will': 1L, 'this': 2L, 'so': 1L, 'the': 1L, 'changes': 1L}, {'journal.': 1L, 'all': 1L, 'standarad': 1L, 'another': 1L, 'informed': 1L, 'is': 2L, 'some': 1L, 'it': 1L, 'one': 1L, 'not': 2L, 'because': 1L, 'at': 1L, 'have': 1L, 'in': 1L, 'happen': 1L, 'your': 1L, 'out': 1L, 'options.i': 1L, \"you're\": 1L, 'what': 1L, 'for': 1L, 'record': 1L, 'ordering': 1L, 'there': 1L, 'when': 2L, 'while': 1L, 'been': 2L, 'the': 1L, 'to': 4L, 'only': 1L, '5': 1L, 'easy': 1L, 'recommend': 1L, 'has': 1L, 'home.': 1L, 'events': 1L, 'more': 1L, 'wants': 1L, 'we': 1L, 'someone': 1L, 'run': 1L, 'way': 1L, 'that': 1L, 'who': 1L, 'stay': 1L, 'reason': 1L, 'pre-printed': 1L, 'key': 1L, 'baby': 2L, 'highly': 1L, 'with': 1L, 'pages': 1L, 'a': 1L, 'on': 1L, 'would': 1L, 'this': 3L, 'plan': 1L, 'could': 1L, 'up': 1L, 'i': 1L, 'home.the': 1L, 'of': 2L, 'an': 1L, \"i'm\": 1L, 'my': 2L, 'think': 1L, \"isn't\": 1L, 'nanny': 1L}, {'all': 1L, 'forget': 1L, 'just': 1L, \"daughter's\": 1L, 'sleep': 1L, 'milk': 1L, 'weekly': 1L, 'layout': 1L, 'had': 1L, 'hot': 1L, 'to': 11L, 'add': 1L, 'easy': 1L, 'has': 2L, 'real': 1L, 'complaint': 1L, 'etc.)': 1L, 'food': 1L, 'overall': 1L, 'sleep,': 1L, 'nanny,': 1L, 'now': 1L, 'older).my': 1L, 'today)': 1L, 'instructions': 1L, 'notes': 1L, 'all,': 1L, 'leave': 1L, 'she': 3L, 'night': 1L, 'often': 1L, 'back': 1L, 'design': 1L, 'our': 2L, 'out': 1L, 'what': 1L, 'and/or': 1L, 'for': 2L, 'space': 1L, 'sun': 1L, 'comments': 2L, 'time,': 1L, \"nanny's\": 1L, 'day,': 1L, 'reply': 1L, 'previous': 1L, 'screen': 1L, 'knowing': 1L, 'we': 1L, 'eating': 1L, 'schedule': 1L, 'journal': 1L, 'communicate': 1L, 'nanny': 2L, 'rash,': 1L, 'ask': 1L, 'on': 3L, 'about': 1L, '(please': 1L, 'column': 1L, 'of': 4L, 'amount': 1L, 'changes': 1L, 'or': 2L, 'love': 2L, \"baby's\": 2L, 'time--tummy': 1L, 'highly': 1L, 'specifics': 1L, 'morning.': 1L, 'use': 2L, 'notes.': 1L, 'her': 2L, \"it's\": 1L, 'there': 1L, 'took,': 1L, 'quickly': 1L, 'recommend': 1L, 'tracker.': 1L, '(i.e.': 3L, 'naturally': 1L, 'only': 1L, 'that': 2L, \"didn't\": 1L, 'stick': 1L, 'baby': 4L, 'with': 1L, 'specify': 1L, 'rush': 1L, 'this': 2L, 'tell': 1L, 'etc)': 1L, 'my': 2L, 'and': 5L, 'activities.': 1L, 'is': 2L, 'post-its': 1L, 'moved': 1L, 'it': 3L, 'as': 2L, 'want': 1L, 'in': 5L, 'everyday': 1L, 'fill': 1L, 'patterns': 1L, 'make': 1L, '-': 1L, 'walk': 1L, 'also': 1L, 'nap': 1L, 'other': 2L, 'details': 2L, 'gets': 1L, 'play': 1L, 'track': 2L, 'uses': 1L, 'lunch,': 1L, 'a': 1L, 'no': 1L, 'i': 7L, 'sometimes': 1L, 'well': 1L, 'park,': 1L, 'time': 1L, 'very': 1L, 'the': 9L}, {'and': 1L, 'this': 3L, 'is': 1L, 'mom,': 1L, 'back': 1L, 'changes,': 1L, 'in': 1L, 'perfect!': 1L, 'would': 1L, 'doctor': 1L, \"it's\": 1L, 'to': 1L, 'enough': 1L, 'book': 2L, 'easy': 1L, 'recommend': 1L, 'feedings,': 1L, 'new': 2L, 'that': 1L, 'track': 1L, 'it': 1L, 'moms.': 1L, 'diaper': 2L, \"i'm\": 1L, 'sleep.': 1L, 'throw': 1L, 'a': 1L, 'made': 1L, 'for': 2L, 'i': 1L, 'of': 1L, 'so': 1L, 'keep': 1L, 'visits.': 1L, 'definitely': 1L, 'plus': 1L, 'time': 1L, 'small': 1L, 'the': 1L, 'first': 1L}, {'all': 1L, 'just': 1L, 'when': 2L, 'one.': 1L, 'front': 1L, 'paper': 1L, '6pm': 1L, 'provided.': 1L, 'before': 1L, 'perfect': 2L, 'fit': 1L, 'how': 2L, 'information.': 1L, 'day,': 1L, 'him': 1L, 'better': 1L, 'to': 9L, 'only': 1L, 'pretty': 2L, 'has': 1L, 'gave': 1L, 'real': 1L, 'shorthand,': 1L, '7': 2L, 'emergency': 1L, 'get': 1L, 'very': 1L, 'big': 1L, 'me': 1L, 'they': 1L, 'not': 1L, 'now': 1L, 'complain': 1L, 'entire': 1L, 'helpful': 1L, 'try': 1L, 'situation.': 1L, 'she': 4L, 'also,': 1L, 'each': 1L, 'small': 1L, 'works': 1L, 'page': 1L, \"isn't\": 1L, 'incomplete/inaccurate': 1L, 'because': 1L, 'me,': 1L, 'wohld': 1L, 'some': 2L, 'home': 1L, 'leave': 1L, 'for': 7L, 'space': 2L, 'section': 1L, 'behind': 1L, 'goes': 1L, 'ends': 1L, 'use': 2L, 'reported': 1L, 'phone.': 1L, 'nanny': 2L, 'wanted': 2L, 'on': 1L, 'about': 1L, 'her': 1L, 'getting': 2L, 'of': 6L, 'could': 1L, \"it's\": 1L, \"i'm\": 2L, 'out.': 1L, 'control': 1L, 'useful': 1L, 'info.': 1L, 'app': 1L, 'daycare/nanny/caregiver': 1L, '6.': 1L, 'deal.': 1L, 'down': 1L, 'little': 2L, 'from': 2L, 'additional': 1L, 'would': 2L, 'transfer': 1L, 'format.': 1L, 'there': 1L, 'two': 1L, 'much': 1L, 'too': 1L, 'way': 1L, '6': 1L, '6pm.': 1L, 'was': 2L, 'baby.': 1L, 'park': 1L, 'but': 2L, 'phone': 1L, 'with': 2L, 'info': 2L, 'this': 5L, 'originally': 1L, 'up': 1L, 'reviews': 1L, 'suppose': 1L, 'starts': 1L, 'problem': 1L, 'my': 4L, 'example': 1L, 'at': 2L, 'and': 5L, 'is': 3L, 'changes.': 1L, 'it': 2L, 'an': 2L, 'complaint:': 1L, 'something': 1L, 'have': 1L, 'in': 1L, 'if': 1L, 'information': 3L, 'documents': 1L, 'end': 1L, 'provide': 1L, 'solution!': 1L, '-': 6L, 'write': 1L, 'also': 2L, 'other': 1L, 'pad': 2L, 'take': 2L, 'you': 2L, 'fill': 1L, 'day': 1L, 'difficult': 1L, 'track': 1L, 'notebook': 1L, 'pouch': 1L, 'pages': 1L, 'a': 8L, '7am': 2L, 'tracking': 1L, 'remember': 1L, 'i': 7L, 'naps/feedings/diaper': 1L, 'contact': 1L, 'time': 1L, 'the': 15L, 'wanted.': 1L}, {'it.': 1L, 'info': 1L, 'what': 1L, 'exactly': 1L, 'useful': 1L, 'and': 1L, 'for': 1L, 'space': 1L, 'i': 1L, 'come': 1L, 'is': 1L, 'wanted!!': 1L, 'with': 1L, 'it': 1L, 'photos,': 1L, 'monthly': 1L, 'a': 1L, 'lot': 1L, 'of': 1L, 'stickers': 1L}, {'and': 3L, 'there': 1L, 'useful': 1L, 'calender': 2L, 'just': 1L, 'photo': 1L, 'is': 3L, 'placed.': 1L, 'it': 3L, 'whatever': 1L, 'one': 1L, 'date': 1L, 'as': 4L, 'well.': 1L, 'likes': 1L, 'have': 2L, 'fine': 1L, 'event': 1L, 'special': 1L, 'before': 1L, 'baby': 1L, 'write': 1L, 'what': 1L, 'do.': 1L, 'would': 1L, 'also': 1L, 'not': 1L, 'stickers': 1L, 'weight,': 1L, 'for': 5L, 'day.': 1L, 'to': 3L, 'only': 1L, 'does': 1L, 'asterisks': 1L, 'has': 1L, 'sticker': 1L, 'friend': 1L, 'happened': 1L, 'be': 1L, 'complaint': 1L, 'colorful': 1L, 'that': 2L, 'very': 2L, 'some': 1L, 'like,': 1L, 'but': 1L, 'boxes': 1L, 'son.': 1L, 'put': 1L, 'writing.': 1L, 'a': 3L, 'on': 2L, 'myself': 1L, 'room': 3L, 'i': 4L, 'many': 1L, 'second': 1L, 'height,': 1L, 'this': 1L, 'she': 1L, 'each': 2L, 'found': 1L, 'the': 1L, 'bought': 2L, 'my': 2L, 'page': 2L}, {'and': 1L, 'the': 2L, 'all': 1L, 'love': 1L, 'like': 1L, 'i': 2L, 'of': 2L, \"baby's\": 1L, 'little': 1L, 'too.': 1L, 'keep': 1L, 'this': 1L, 'track': 1L, 'can': 1L, 'you': 1L, 'stickers': 1L, 'illustrations,': 1L, 'firsts.': 1L, 'calender,': 1L}, {'and': 1L, 'this': 2L, 'there': 1L, 'one': 3L, 'second': 1L, 'are': 1L, 'calender': 1L, 'year': 1L, 'still': 1L, 'find': 1L, 'note': 1L, 'for': 2L, 'things': 1L, 'him.': 1L, 'better': 1L, 'to': 2L, 'only': 1L, 'got': 1L, 'cause': 1L, 'was': 2L, 'after': 1L, 'year.': 1L, 'they': 1L, 'wanted': 1L, 'than': 1L, 'i': 3L, 'many': 1L, 'could': 1L, 'turn': 1L, 'continue': 1L, 'so': 1L, 'did': 1L, 'the': 4L, 'first': 2L, '1.': 1L}, {'and': 5L, 'all': 3L, 'have': 1L, 'moments': 1L, 'in': 1L, 'it': 1L, 'second': 1L, 'something': 1L, 'questions': 1L, 'year': 2L, 'calendar': 2L, 'still': 1L, 'stickers': 1L, 'enjoyed': 1L, 'special': 2L, 'really': 2L, 'layout': 1L, 'want': 1L, 'to': 2L, \"it's\": 1L, 'since': 1L, '-': 2L, 'least': 1L, 'day.': 1L, 'doing': 1L, 'amazing': 1L, 'much': 1L, 'you': 1L, 'might': 1L, \"son's\": 1L, 'his': 1L, 'moments!': 1L, 'that': 1L, 'completed': 1L, 'tracking': 1L, 'every': 1L, 'milestone': 1L, 'not': 1L, 'wanted': 1L, 'those': 1L, 'like': 1L, 'a': 1L, 'milestones': 1L, 'for': 1L, 'i': 3L, 'of': 2L, \"he's\": 1L, 'simple': 1L, 'keep': 1L, 'recording': 1L, 'while': 1L, 'continue': 1L, 'so': 2L, 'things': 1L, 'fun': 1L, 'the': 4L, 'first': 1L, 'my': 1L, 'at': 1L}, {'and': 2L, 'cute': 1L, 'there': 2L, 'is': 1L, 'something': 1L, 'our': 1L, 'keep': 1L, 'out': 1L, 'option.': 1L, 'what': 1L, 'wanted': 1L, 'get': 1L, 'to': 2L, 'does': 1L, 'we': 2L, \"child's\": 1L, 'track': 1L, 'exactly': 1L, \"aren't\": 1L, 'a': 1L, 'milestones': 1L, 'this': 2L, 'of': 1L, 'choices': 1L, 'many': 1L, 'other': 1L, 'wanted.': 1L}, {'and': 3L, 'all': 1L, 'memories.': 1L, 'reference': 1L, 'do': 2L, 'is': 3L, 'hard': 1L, 'some': 1L, 'it': 2L, 'one': 1L, 'milestones...and': 1L, 'put': 1L, 'as': 2L, 'vs': 1L, 'have': 1L, 'year': 1L, 'calendar': 1L, 'find': 1L, 'down': 1L, 'out': 1L, 'little': 1L, 'to': 5L, 'much': 1L, 'that': 1L, 'had': 1L, 'two': 1L, 'write': 1L, 'everything': 1L, 'enough': 1L, 'book': 1L, 'way': 1L, 'finding': 1L, 'you': 1L, 'fill': 1L, 'across': 1L, 'so!': 1L, 'picture': 1L, 'only': 1L, 'jot': 1L, 'squares': 1L, 'on': 1L, 'track': 1L, 'big': 1L, 'spot': 1L, 'book.': 1L, 'great!': 1L, 'they': 1L, 'baby': 2L, 'years': 1L, 'change': 1L, 'a': 6L, 'ones!': 1L, 'great': 1L, 'has': 1L, 'in': 2L, 'like': 1L, 'this': 3L, 'of': 1L, 'later': 1L, 'well': 1L, 'second': 1L, 'keep': 1L, 'large': 1L, 'i': 5L, 'easier': 1L, 'calendar,': 1L, 'so': 2L, 'can': 2L, \"month's\": 1L, 'time': 1L, 'the': 5L, 'came': 1L, 'first': 1L}, {'and': 1L, 'cute': 1L, 'because': 2L, 'just': 1L, 'second-year': 2L, 'is': 1L, 'lack': 1L, 'some': 1L, 'it': 2L, 'one': 3L, 'certain': 1L, 'calendar.': 1L, 'finish': 1L, 'are': 1L, 'purchased': 1L, 'in': 1L, 'general,': 1L, 'calendar': 1L, 'stickers': 1L, 'really': 1L, 'for': 4L, 'come': 1L, 'old-fashioned': 1L, 'had': 1L, 'pages': 2L, 'write': 1L, 'to': 1L, 'only': 2L, 'other': 1L, 'pretty': 1L, 'hopefully': 1L, 'selection': 1L, 'got': 1L, 'out': 1L, 'was': 2L, 'an': 1L, 'available': 1L, 'son': 1L, 'looking.': 1L, 'okay': 1L, 'which': 1L, 'with': 3L, 'pens.': 1L, 'calendars': 2L, 'makes': 1L, 'they': 1L, \"aren't\": 1L, 'disappointed': 1L, 'purchasers.': 1L, 'a': 1L, 'on': 2L, 'daughter.': 1L, 'hard': 1L, 'i': 4L, 'of': 2L, 'ones.': 1L, 'will': 1L, 'this': 1L, 'future': 1L, 'so': 1L, 'glossy': 1L, \"it's\": 1L, 'very': 1L, 'the': 6L, 'my': 2L}, {'and': 4L, 'cute': 1L, 'stop': 1L, 'on': 2L, 'love': 1L, 'reocording': 1L, 'just': 1L, 'is': 2L, \"nature's\": 1L, 'year': 4L, 'one.': 1L, 'highly': 1L, 'helped': 1L, 'not': 1L, 'second': 2L, 'are': 2L, 'want': 1L, '1st': 1L, 'calendar': 2L, 'stickers': 1L, 'calendar!': 1L, 'out': 1L, 'perfect': 1L, 'recording': 1L, 'gender.': 1L, 'for': 3L, \"it's\": 1L, 'own.': 1L, 'there': 2L, 'to': 2L, 'wonderful': 1L, 'lullabies': 1L, 'recommend': 1L, 'might': 1L, 'events': 2L, \"son's\": 1L, 'continuing': 1L, 'his': 1L, 'that': 2L, 'with': 1L, \"didn't\": 1L, 'calendars': 1L, 'keeping.': 1L, 'plenty': 1L, 'baby': 1L, 'now': 1L, 'super': 1L, 'he': 1L, 'me': 1L, 'loved': 1L, 'milestones': 1L, 'brat': 1L, 'i': 4L, 'of': 6L, 'this': 2L, 'daily': 1L, 'thought': 1L, 'record': 2L, 'plus': 1L, 'either': 1L, 'have': 1L, 'life.': 1L, 'the': 1L, 'my': 2L, 'think': 1L, 'first': 1L}, {'and': 2L, 'dont': 1L, 'just': 1L, 'sticker': 1L, 'it': 1L, 'as': 1L, 'spaces': 1L, 'down,': 1L, 'have': 1L, 'actually': 1L, 'stickers': 1L, 'out': 1L, 'option.': 1L, 'comes': 1L, 'use': 1L, 'for': 3L, 'sit': 1L, 'scrap': 1L, 'mark': 1L, 'to': 3L, 'enough': 1L, 'ton': 1L, 'easy': 1L, 'scrapbook': 1L, 'borders': 1L, 'is': 1L, 'booking': 1L, 'well.': 1L, 'lot': 1L, 'very': 1L, 'who': 1L, 'new': 1L, 'includes': 1L, 'photos': 1L, 'haul': 1L, 'milestone': 1L, 'with': 1L, 'a': 3L, 'moms': 1L, 'especially': 1L, 'wife': 1L, 'this': 1L, 'of': 2L, 'photos,': 1L, 'calender.': 1L, 'supplies': 1L, 'firsts.': 1L, 'loves': 1L, 'time': 1L, 'the': 1L, 'options': 1L, 'etc,': 1L}, {'and': 2L, 'one-year': 1L, 'work': 1L, 'art': 1L, '-': 2L, 'keepsake.': 1L, '1st': 1L, 'nearing': 1L, 'son': 1L, 'calendar.': 1L, 'second': 1L, 'ago.': 1L, 'thanks': 1L, 'year': 3L, 'tender': 1L, 'calendar': 1L, 'stickers': 1L, 'fill': 1L, 'i': 1L, 'her': 3L, 'record': 1L, 'had': 1L, 'looking': 1L, 'to': 4L, 'wonderful': 1L, 'sweet': 1L, 'fill.': 1L, 'was': 3L, 'over': 1L, 'nice': 1L, 'it.': 1L, 'his': 2L, 'get': 1L, 'amazon': 1L, 'birthday': 1L, 'baby': 1L, 'unique': 1L, 'pages': 1L, 'milestones.': 1L, 'helpful': 1L, 'a': 6L, 'daughter': 1L, 'for': 3L, 'gift': 1L, 'this': 1L, 'when': 1L, 'up': 1L, 'able': 1L, 'old!': 1L, 'did': 1L, 'she': 3L, 'loves': 1L, 'my': 1L, 'receive': 1L, 'first': 2L}, {'and': 1L, 'remembering': 1L, 'tired': 1L, 'ate,': 1L, 'helped': 1L, 'not': 1L, 'as': 1L, 'through': 1L, 'long': 1L, 'mom,': 1L, 'useful!': 1L, 'inexpedient,': 1L, 'two': 1L, 'months.': 1L, 'how': 1L, 'new': 1L, 'a': 1L, 'me': 1L, 'baby': 1L, 'extremely': 1L, 'ago': 1L, 'this': 1L, 'definitely': 1L, 'the': 1L, 'first': 1L}, {'and': 2L, 'because': 1L, 'family': 1L, 'people': 1L, \"baby's\": 1L, 'is': 1L, 'some': 1L, 'it': 1L, 'one': 1L, 'see': 1L, 'washable!': 1L, 'in': 1L, 'star': 1L, 'your': 1L, 'perfect': 1L, 'just': 1L, 'less': 1L, '-': 1L, '1': 1L, 'to': 1L, 'white': 1L, 'gave': 1L, 'diversity': 1L, 'not': 1L, ';)': 1L, 'than': 1L, 'like': 1L, 'books,': 1L, 'of': 1L, 'favorite': 1L, 'i': 1L, \"i'd\": 1L, 'the': 1L, 'typical': 1L, 'first': 1L}, {'family': 1L, 'over': 1L, 'it': 2L, 'seat': 1L, 'hook': 1L, 'members.': 1L, 'go': 1L, 'your': 1L, 'attach': 1L, '-': 1L, 'to': 3L, 'book': 1L, 'way': 1L, 'has': 1L, 'wont': 1L, 'get': 1L, 'lost.': 1L, 'how': 1L, 'a': 1L, 'great': 1L, 'like': 1L, 'i': 1L, 'car': 1L, 'stroller': 1L, 'the': 1L, 'or': 1L}, {'beautiful': 1L, 'saying': 1L, 'love': 1L, 'it': 1L, 'are': 1L, 'little': 2L, 'interacting': 1L, 'when': 1L, 'actually': 1L, 'to': 1L, 'you': 1L, 'it.': 1L, 'then': 1L, 'attention': 1L, 'story': 1L, 'book.': 1L, 'and': 2L, 'finished': 1L, 'baby': 2L, 'hold': 1L, 'with': 1L, 'pages': 1L, 'a': 1L, 'on': 1L, 'great': 1L, 'short': 1L, 'you....keeps': 1L, 'i': 1L, 'of': 1L, 'turn': 1L, 'can': 1L, 'the': 4L}, {'and': 1L, 'page.': 1L, 'says': 1L, 'cute': 1L, 'is': 1L, 'money.': 1L, 'it': 2L, 'born': 1L, 'are': 1L, 'open': 1L, 'before.': 1L, 'for': 1L, \"it's\": 1L, 'there': 1L, 'to': 4L, 'book': 1L, 'worth': 1L, 'be': 1L, '9+': 1L, 'very': 1L, 'use': 1L, 'but': 1L, 'every': 1L, 'baby': 1L, 'wait': 1L, 'box': 1L, 'on': 2L, 'i': 1L, 'months': 1L, 'this': 1L, 'try': 1L, 'interactive!': 1L, 'so': 2L, 'flaps': 1L, 'the': 2L, 'my': 1L, \"can't\": 1L}, {'and': 3L, 'chew': 1L, 'one-year-old': 1L, 'house!': 1L, 'love': 1L, 'just': 1L, 'simple': 1L, 'over': 1L, 'it': 3L, 'rip': 1L, 'carry': 1L, 'paper': 1L, 'learning': 1L, 'chunks': 1L, 'our': 1L, '\"puppy,\"': 1L, 'open': 1L, 'out': 1L, '\"daddy,\"': 1L, 'for': 1L, 'all': 1L, \"it's\": 1L, 'bite': 1L, 'book': 2L, 'board': 1L, 'got': 1L, 'is': 1L, 'nice': 1L, 'it.': 2L, 'we': 2L, 'that': 2L, 'she': 5L, 'little': 1L, 'it,': 2L, 'one.': 1L, 'words': 1L, 'pull': 1L, 'a': 2L, 'on': 2L, 'like': 3L, 'this': 1L, 'of': 1L, 'flaps': 1L, 'so': 1L, 'can': 2L, 'loves': 2L, '\"mommy,\"': 1L, 'the': 2L, 'etc.': 1L, 'or': 1L, \"can't\": 1L}, {'and': 2L, 'overnight.': 1L, 'is': 2L, 'detergent.': 1L, 'older.': 1L, '6months': 1L, 'in': 1L, 'perfect': 1L, 'and/or': 1L, 'for': 1L, 'material.': 1L, 'only': 1L, 'book': 2L, 'was': 1L, 'then': 1L, 'colorful': 1L, \"didn't\": 1L, 'let': 1L, 'dunked': 1L, 'strong': 1L, 'pages': 1L, 'dry': 1L, 'like': 1L, 'i': 2L, 'smell': 1L, 'thing': 1L, 'of': 1L, 'dyes': 1L, 'the': 6L}, {'page.': 1L, \"couldn't\": 1L, 'be': 1L, 'is': 1L, 'moving': 1L, 'books': 2L, 'drool...so': 1L, 'another': 1L, 'your': 1L, 'flap': 1L, 'perfect': 1L, 'looking': 1L, 'what': 1L, 'adds': 1L, 'for': 3L, 'been': 1L, 'plastic': 1L, 'baby!': 1L, 'to': 1L, 'book': 3L, 'babies!': 1L, \"old's\": 1L, 'which': 1L, 'options.': 1L, 'damaged': 1L, 'cloth': 2L, 'part': 1L, 'every': 1L, 'by': 1L, '10-month': 1L, 'a': 1L, 'on': 1L, 'great': 1L, 'level': 1L, 'this': 2L, \"i'd\": 1L, 'were': 1L, 'fun': 1L, 'book--a': 1L, 'interactive': 1L, 'my': 3L, 'or': 2L, 'usual': 1L}, {'all': 1L, 'being': 1L, 'course': 1L, 'still': 1L, 'perfect': 1L, 'now': 2L, \"he's\": 1L, 'to': 1L, 'only': 2L, 'board': 1L, 'teaching': 1L, 'his': 2L, 'lamaze': 2L, 'nearly': 1L, 'they': 1L, 'not': 2L, 'one': 2L, 'like': 1L, 'this': 4L, 'them,': 1L, 'enjoy': 1L, 'chew': 1L, 'because': 1L, 'books': 1L, 'are': 2L, 'out': 1L, 'for': 4L, 'parent.i': 1L, 'does': 1L, 'reading': 1L, 'discovery': 1L, 'peek': 1L, 'we': 2L, 'of': 3L, 'book,': 1L, 'members': 1L, 'infant.': 1L, 'on': 1L, 'about': 1L, 'etc.': 1L, \"i'd\": 1L, 'liked': 1L, 'love': 1L, 'family': 1L, 'son': 3L, 'names': 1L, \"doesn't\": 1L, 'additional': 1L, 'would': 1L, 'two': 1L, 'lot': 1L, 'was': 3L, 'flap': 1L, 'series,': 1L, 'that': 3L, 'much,': 1L, 'but': 4L, 'lift': 1L, 'child': 1L, 'with': 2L, 'he': 3L, 'loved': 1L, 'look': 1L, 'books,': 1L, 'cat,': 1L, 'as': 3L, 'well.': 1L, 'learn': 1L, 'fun': 2L, 'favorites.': 1L, 'my': 3L, 'and': 6L, 'sister,': 1L, \"didn't\": 1L, 'it': 6L, 'an': 1L, 'say': 1L, 'issue.': 1L, 'at': 1L, 'have': 1L, 'grandparents,': 1L, 'book': 2L, 'destroy': 1L, 'used': 1L, 'again.': 1L, 'farm': 1L, 'a': 3L, 'i': 1L, 'dog': 1L, 'boo,': 1L, 'the': 5L, 'playing': 1L}, {'and': 1L, 'it': 3L, 'our': 1L, 'for': 1L, '&': 1L, 'own.': 1L, 'when': 1L, 'to': 1L, 'him,': 1L, 'book': 1L, 'enjoys': 2L, 'has': 1L, '...': 1L, 'his': 1L, 'loved': 1L, 'read': 1L, 'baby': 1L, 'now': 1L, 'with': 1L, 'he': 1L, 'a': 1L, 'on': 1L, 'this': 1L, 'i': 1L, 'while': 1L, 'loves': 1L, 'playing': 1L}, {}, {'a': 1L, 'brushing': 1L, 'play': 1L, 'kids': 1L, ':)': 1L, 'almost': 1L, 'with': 1L, 'haha': 1L, 'son': 1L, 'too': 1L, 'to': 1L, 'book': 1L, 'let': 1L, 'likes': 1L, 'of': 1L, 'the': 1L, \"elmo's\": 1L, 'my': 1L, 'teeth.': 1L, 'nice': 1L}, {'and': 3L, 'imaginative': 1L, 'old': 1L, 'grandchildren.': 1L, 'it': 2L, 'through': 1L, 'are': 1L, 'year': 1L, 'go': 1L, 'love': 1L, 'would': 1L, 'sit': 1L, 'pictures': 1L, 'young': 1L, '.': 1L, 'to': 1L, 'book': 1L, 'themselves': 1L, 'appeal': 1L, 'was': 1L, 'buy': 1L, 'again!': 1L, 'birthday': 1L, 'they': 1L, 'children.': 1L, '2': 1L, 'by': 1L, 'present': 1L, 'a': 1L, 'for': 1L, 'this': 2L, 'will': 1L, 'the': 1L, 'my': 1L, 'page': 2L}, {'and': 3L, 'cute': 1L, 'rating': 1L, 'have': 1L, 'just': 1L, 'give': 1L, 'battery': 1L, 'is': 1L, \"disappointment....it's\": 1L, 'it': 6L, 'dead': 1L, 'down': 1L, 'batteries': 1L, 'growled': 1L, 'other': 1L, 'something': 1L, 'giggled': 1L, 'in': 1L, 'handle': 1L, 'saw': 1L, 'find': 1L, 'simple': 1L, 'if': 2L, 'even': 1L, 'would': 2L, 'no': 1L, \"it's\": 1L, 'absolutely': 1L, 'when': 1L, 'now!': 1L, 'actually': 1L, 'to': 2L, 'going': 1L, '5': 1L, 'take': 1L, 'mail': 1L, 'adorable': 1L, 'kenzie,': 1L, 'star': 1L, 'was': 2L, 'bear': 1L, 'back': 1L, 'how': 1L, 'but': 1L, 'got': 1L, 'was!': 1L, 'such': 1L, 'new': 1L, 'day': 1L, 'a': 4L, 'super': 1L, 'like': 1L, 'gift': 1L, 'this': 1L, 'my': 1L, 'could': 1L, 'as': 2L, 'excited': 1L, 'granddaughter,': 1L, 'i': 6L, 'suppose': 1L, 'place': 1L, 'the': 3L, 'to!': 2L, 'where': 1L, 'or': 1L, \"can't\": 1L}, {'and': 4L, 'soft': 1L, 'all': 1L, 'would': 1L, 'hides': 1L, 'elmo': 3L, 'too.': 1L, 'is': 5L, 'it': 2L, 'one': 1L, 'illustrated': 1L, 'baby': 1L, 'featured': 1L, 'street': 1L, 'are': 1L, 'another': 1L, 'beautifully': 1L, 'fun,': 1L, '(which': 1L, 'page,': 1L, 'seemed': 1L, 'perfect': 1L, 'little': 1L, 'lovers': 1L, 'because': 1L, 'price).': 1L, 'for': 3L, 'twinkle': 1L, 'absolutely': 1L, 'character': 1L, 'right:': 1L, 'also': 2L, 'time.': 1L, 'book': 3L, 'which': 1L, 'recommend': 1L, 'he': 1L, 'was': 1L, 'happy': 1L, 'available': 1L, 'centric': 1L, '\"reads\"': 1L, 'to': 1L, 'that': 1L, 'each': 1L, 'amazon': 1L, '\"twinkle,': 1L, 'everywhere': 1L, 'characters': 1L, 'street/elmo': 1L, 'the': 3L, 'great,': 1L, 'a': 1L, 'on': 2L, 'great': 1L, 'main': 1L, 'takes': 1L, 'her.': 1L, 'i': 2L, 'my': 2L, 'say': 1L, 'elmo\"': 1L, 'sesame': 2L, 'this': 2L, 'while': 1L, 'so': 2L, 'loves': 1L, 'of': 2L, \"i'm\": 1L, 'nice': 1L, 'interactive,': 1L, 'other': 1L}, {'and': 2L, 'bright': 1L, 'love': 1L, 'is': 1L, 'colors': 1L, 'are': 1L, 'any': 1L, \"doesn't\": 1L, 'for': 2L, 'two': 1L, 'book': 1L, 'lastly,': 1L, 'baby,': 1L, 'bought': 1L, 'who': 1L, 'baby': 1L, 'showers!': 1L, 'recent': 1L, 'great': 1L, 'i': 1L, 'soft': 1L, 'elmo!': 1L, 'the': 2L, 'interactive,': 1L, 'beautiful.': 1L}, {'and': 2L, 'another': 1L, 'elmo': 1L, 'is': 2L, 'one': 1L, 'creative.': 1L, 'softplay': 1L, 'fun,': 1L, 'birds': 1L, 'variety': 1L, 'two': 1L, 'to': 1L, 'only': 1L, 'book': 2L, 'has': 1L, 'bird': 1L, 'more': 2L, 'we': 2L, 'get': 1L, 'big': 2L, 'book,': 1L, 'but': 1L, 'wanted': 1L, 'friends': 1L, 'like': 1L, 'this': 1L, 'books.': 1L, 'found': 1L, 'the': 3L}, {'and': 1L, 'a': 1L, 'little': 1L, 'soft.': 1L, 'safe.': 1L, 'for': 1L, 'cute': 1L, 'this': 1L, \"it's\": 2L, 'is': 2L, 'easy': 1L, 'story': 1L, 'book.': 1L, 'handle.': 1L, 'to': 1L, 'it': 1L, 'peek-a-boo': 1L, 'baby': 1L}, {'and': 7L, 'old': 1L, 'elmo': 1L, 'is': 1L, 'laughs': 1L, 'we': 3L, 'month': 1L, 'say': 1L, 'books': 1L, 'have': 1L, 'find': 1L, 'different': 1L, '&#34;peekaboo': 1L, 'for': 1L, 'few': 1L, 'to': 1L, '3': 1L, '5': 1L, 'stars': 1L, 'it': 1L, 'over': 2L, 'sure.': 1L, 'smiles': 1L, 'it,': 1L, 'elmo!&#34;': 1L, 'colorful': 1L, 'read': 1L, 'book.': 1L, 'read.': 1L, 'most': 1L, 'every': 1L, 'baby': 1L, 'son': 1L, 'he': 1L, 'a': 1L, 'adores': 1L, 'this': 2L, 'my': 1L, 'so': 1L, 'loves': 1L, 'time': 1L, 'fun': 1L, 'the': 1L, 'soft': 1L}, {'book!': 2L, 'great': 1L, 'colorful': 1L, 'for': 1L, '&': 1L, 'very': 1L, 'make': 1L, 'bright': 1L, 'son': 1L, 'this': 2L, 'toddlers.': 1L, 'cute': 1L, 'loves': 1L, 'babies': 1L, 'illustrations': 1L, 'the': 1L, 'my': 1L, 'interactive': 1L}, {'and': 2L, 'over.': 1L, 'all': 1L, 'love': 2L, 'they': 8L, 'safe.': 1L, 'elmo': 1L, 'mos,': 1L, 'play': 1L, 'high': 1L, 'as': 1L, 'are': 3L, 'still': 1L, 'if': 1L, 'use': 1L, 'now': 1L, 'for': 1L, 'how': 1L, 'before': 1L, 'when': 2L, 'two': 1L, 'to': 2L, 'time.': 1L, '9': 1L, 'got': 1L, 'reading': 1L, 'bought': 1L, 'soft,': 1L, 'we': 1L, 'buy': 1L, 'blocks': 1L, 'see': 1L, 'book,': 1L, 'it': 1L, 'them': 1L, 'granddauchildren': 1L, 'kiss': 1L, 'fall': 1L, 'baby': 1L, 'falls': 1L, 'with': 2L, 'stack': 1L, 'a': 1L, 'on': 1L, 'elmo.': 1L, 'i': 1L, 'present.': 1L, 'so': 1L, 'can': 1L, 'were': 1L, 'fun': 1L, 'them.': 2L, 'the': 4L, 'them,': 1L, 'having': 1L}, {'and': 5L, 'chew': 1L, 'all': 1L, 'the,': 2L, 'have': 1L, 'over': 2L, \"didn't\": 1L, 'baby': 1L, 'teething': 1L, 'crawling.': 1L, 'letting': 1L, 'bank.': 1L, 'for': 3L, 'to': 2L, 'their': 1L, 'encourage': 1L, 'setting': 1L, 'ruining': 1L, 'babies': 1L, 'christmas': 1L, 'them': 2L, 'great': 3L, 'about': 1L, 'break': 1L, 'they': 1L, 'rolling': 1L, 'entertaining': 1L, 'younger': 1L, 'off': 1L, 'gift': 1L, 'these': 1L, 'worrying': 1L, 'droll': 1L, 'i': 1L, 'without': 1L, 'were': 2L, 'them.': 1L, 'the': 2L, 'side': 1L}, {'a': 1L, 'boring.': 1L, 'would': 1L, 'to': 1L, 'i': 1L, 'of': 1L, 'is': 2L, 'money.': 1L, 'it': 2L, 'this': 1L, 'granddaughter.': 1L, 'book': 1L, 'nothing': 1L, 'recommend': 1L, 'not': 1L, 'waste': 1L, 'my': 1L, 'stimulate': 1L}, {'old': 1L, 'want': 1L, 'show': 1L, 'is': 2L, 'hard': 1L, 'it': 1L, 'one': 1L, 'not': 1L, 'books': 1L, 'looks': 1L, 'have': 1L, 'year': 1L, 'images': 1L, 'our': 1L, 'find': 1L, 'looking': 1L, 'what': 3L, 'animals/objects': 1L, 'unrealistic': 1L, '1': 1L, 'to': 2L, 'for!!when': 1L, 'is,': 1L, '\"lion\"': 1L, 'many': 1L, 'real': 2L, 'we': 3L, 'fantastic.': 1L, 'that': 1L, 'portrayals': 1L, 'like,': 1L, 'exactly': 1L, 'lion...': 1L, 'but': 1L, 'cloth': 1L, 'were': 1L, 'nothing': 1L, 'teach': 1L, 'with': 1L, 'him': 1L, 'like': 1L, 'a': 4L, 'on': 1L, 'actual': 1L, 'look': 1L, 'this': 1L, 'lion.': 1L, 'so': 2L, 'them!': 1L, 'of': 1L, 'drawing': 1L}, {'is': 1L, 'something': 1L, 'cute...so': 1L, '&#34;': 1L, 'for': 1L, 'no': 1L, 'memories': 1L, 'there': 1L, 'young': 1L, 'destroying..many': 1L, 'reading': 1L, 'happy': 2L, 'them': 1L, 'very': 1L, 'little': 1L, 'chance': 1L, 'they': 1L, 'child,': 1L, 'of': 1L, 'read&#34;': 1L, 'can': 1L, 'the': 1L, 'or': 1L}, {'and': 1L, 'be': 1L, 'great': 1L, 'love': 1L, 'daughter': 1L, 'this': 1L, \"it's\": 1L, 'when': 1L, 'it!': 1L, 'will': 1L, 'me': 1L, 'so': 1L, 'a': 2L, 'our': 1L, 'fun': 1L, 'born.': 1L, 'calendar': 1L, 'bought': 1L, 'was': 1L, 'friend': 1L, 'momento.': 1L}, {'a': 2L, 'and': 1L, 'little': 1L, 'milestones': 1L, 'especially': 1L, 'for': 1L, 'all': 1L, 'with': 1L, 'of': 1L, 'first-time': 1L, 'one,': 1L, 'up': 1L, 'keep': 1L, 'to': 1L, 'mom.': 1L, 'easy': 1L, 'quick': 1L, 'the': 1L, 'busy,': 1L, 'first': 1L}, {'remembering': 1L, 'and': 4L, 'reviews.': 1L, 'pictures.': 1L, 'personalization': 1L, 'am': 1L, 'back': 1L, 'month': 1L, 'down': 1L, 'year': 1L, 'calendar': 1L, 'throughout': 1L, 'perfect': 1L, 'based': 1L, 'for': 3L, 'to': 1L, 'memories': 1L, 'did.': 1L, \"baby's\": 1L, 'spots': 1L, 'jotting': 1L, 'also': 1L, 'high': 1L, 'low': 1L, 'has': 1L, 'happy': 1L, 'be': 1L, 'on.': 1L, 'that': 1L, '&#34;firsts&#34;.': 1L, 'quick': 1L, 'one': 1L, 'a': 1L, 'on': 2L, 'dates': 1L, 'look': 1L, 'i': 3L, 'of': 1L, 'will': 1L, 'this': 1L, 'so': 1L, 'searched': 1L, 'fun': 1L, 'the': 2L, 'settled': 1L, 'first': 1L}, {'enjoy': 1L, 'would': 1L, 'give': 1L, 'children.': 1L, 'is': 2L, 'it': 1L, 'one': 1L, 'born': 1L, 'as': 3L, 'are': 1L, 'want': 1L, 'from': 1L, 'i': 1L, 'for': 2L, 'their': 1L, 'had': 1L, 'looking': 1L, 'to': 3L, 'parents': 2L, 'themselves.': 1L, 'new': 1L, 'you': 1L, 'start': 1L, '&#34;firsts&#34;': 1L, 'good': 1L, 'that': 1L, 'very': 2L, 'calendars': 1L, 'chart': 1L, 'soon': 1L, '&#34;firsts&#34;.': 1L, 'five': 1L, 'they': 3L, 'baby': 1L, 'now': 1L, 'beginning': 1L, 'mother.': 1L, 'a': 2L, 'especially': 1L, 'gift': 1L, 'this': 1L, 'of': 2L, 'up': 1L, 'these': 1L, 'so': 1L, 'can': 1L, 'each': 1L, 'the': 3L, 'my': 1L}, {}, {'and': 2L, 'it.': 1L, 'all': 1L, 'love': 1L, 'version': 1L, 'absolutely': 1L, 'it': 1L, 'born': 1L, 'purchased': 1L, 'in': 1L, 'for': 1L, 'when': 1L, 'same': 1L, 'to': 1L, 'book': 1L, 'scripture': 1L, 'daughter-in-law': 1L, 'again.': 1L, 'was': 2L, 'thrilled': 1L, 'baby': 1L, 'he': 1L, 'boy': 1L, 'grandson': 1L, 'i': 1L, 'of': 1L, 'receive': 1L, 'the': 3L, 'my': 2L}, {'simple': 1L, 'down.': 1L, 'verses': 1L, 'as': 1L, 'at': 1L, 'in': 1L, 'pages.': 1L, 'law.': 1L, 'for': 1L, 'bottom': 1L, 'memories': 1L, 'to': 1L, 'bought': 1L, 'it.': 1L, 'but': 1L, 'important': 1L, 'put': 1L, 'a': 2L, 'loved': 2L, 'daughter': 1L, 'gift': 1L, 'i': 1L, 'of': 1L, 'place': 1L, 'she': 1L, 'the': 1L, 'my': 1L}, {'and': 4L, 'cute': 1L, 'liked': 1L, 'when': 2L, 'is': 3L, 'gift!': 1L, 'one.': 1L, 'one': 1L, 'locks': 1L, 'want': 1L, 'your': 2L, 'perfect': 1L, 'little': 2L, 'for': 4L, 'also': 1L, 'memories': 1L, 'had': 1L, 'hair....etc!': 1L, 'to': 2L, 'asking': 1L, 'foot': 1L, 'which': 1L, 'main': 1L, 'questions.': 1L, 'you': 1L, 'has': 1L, 'book!': 1L, 'we': 1L, 'prints': 1L, 'even': 1L, 'it': 2L, 'reason': 1L, 'keepsakes': 1L, 'baby': 3L, 'hand': 1L, 'why': 1L, 'bigger': 1L, 'a': 2L, 'loved': 1L, 'great': 1L, 'gets': 1L, 'remember': 1L, 'places': 1L, 'born': 1L, 'this': 2L, 'of': 1L, 'put': 1L, 'omg.....we': 1L, 'shower': 1L, 'so': 1L, 'place': 1L, 'pockets': 1L, 'starts': 1L, 'the': 2L, 'first': 1L}, {'pink': 1L, 'pastel': 1L, 'life': 1L, 'love': 1L, 'to': 1L, 'i': 1L, 'with': 1L, 'cherished': 1L, 'book,': 1L, 'great': 1L, 'granddaughters': 1L, 'record': 1L, 'beautiful': 2L, 'in': 1L, 'it': 1L, 'the': 1L, 'color.': 1L, 'my': 1L, 'times': 1L}, {'and': 2L, 'mini': 1L, 'happy!': 1L, 'is': 2L, 'one.': 1L, 'an': 1L, 'firsts...and': 1L, 'really': 1L, 'maternity': 1L, 'hair,': 1L, 'in': 1L, 'fill': 1L, 'perfect': 1L, 'bracelet...really': 1L, 'for': 1L, 'with': 1L, 'family,': 1L, 'looking': 1L, 'to': 2L, 'book': 1L, 'lot': 1L, ':': 1L, 'was': 1L, 'happy': 1L, 'preserve': 1L, 'flammish)': 1L, 'french': 1L, 'baby': 1L, 'purchase.': 1L, 'info': 1L, 'i': 1L, 'of': 1L, 'this': 2L, 'pockets': 1L, 'english': 1L, 'the': 2L, 'daddy': 1L, \"(i'm\": 1L}, {'and': 2L, 'photographs': 1L, 'detailed': 1L, 'everyone': 1L, 'is': 1L, 'child': 1L, 'it': 1L, 'serving': 1L, 'through': 1L, 'are': 1L, 'questions': 1L, 'in': 1L, '\"my': 1L, 'its': 1L, 'perfect': 1L, 'kindergartener.': 1L, 'for': 2L, 'record': 2L, 'your': 2L, 'kindergarten': 2L, 'to': 3L, 'book': 2L, 'way': 1L, 'recommend': 1L, 'answer': 1L, 'receiving': 1L, 'was': 1L, 'surprised': 1L, \"one's\": 1L, 'entitled,': 1L, \"parent.i'd\": 1L, \"child's\": 1L, 'very': 1L, 'memory': 1L, 'upon': 1L, 'important': 1L, 'purpose': 1L, 'life.': 1L, 'with': 1L, 'pleasantly': 1L, 'a': 1L, 'i': 1L, 'of': 1L, 'experience': 1L, 'this': 2L, 'while': 1L, 'time': 1L, 'fun': 1L, 'year\".': 1L, 'the': 4L, 'descriptions': 1L}, {'and': 1L, 'already': 1L, 'it': 1L, 'years': 1L, 'see': 1L, 'questions': 1L, 'stumbled': 1L, 'how': 1L, 'answering': 1L, 'answered': 1L, 'memory': 1L, 'questions.': 1L, 'has': 1L, 'be': 1L, 'to': 2L, 'started': 1L, 'upon': 1L, 'back': 1L, 'son': 1L, 'the': 1L, 'glad': 1L, 'he': 1L, 'a': 1L, 'great': 1L, 'look': 1L, 'i': 2L, 'later': 1L, 'think': 1L, 'will': 1L, 'these': 1L, 'so': 1L, \"i'm\": 1L, 'my': 1L, 'gem.': 1L}, {'and': 1L, 'page.': 1L, 'old': 1L, 'just': 2L, 'character': 1L, 'is': 1L, 'it': 1L, 'son.': 1L, 'month': 1L, 'as': 1L, 'have': 1L, 'toy': 1L, \"he's\": 1L, 'when': 1L, 'long': 1L, 'pages': 1L, 'few': 2L, 'enough': 1L, 'book': 2L, 'stuffed': 1L, 'elephant': 1L, 'neat': 1L, 'be': 1L, 'we': 1L, 'attention': 1L, 'to': 3L, '6': 1L, 'realization': 1L, 'words': 1L, 'with': 1L, 'between': 1L, 'association': 1L, 'a': 2L, 'short': 1L, 'older': 1L, 'of': 2L, 'well': 1L, 'see': 1L, 'keep': 1L, 'will': 1L, 'so': 1L, 'each': 1L, 'the': 7L, 'my': 1L}, {'and': 1L, 'is': 1L, 'gift.': 1L, 'pretty,.': 1L, 'for': 1L, 'also': 1L, 'recommend': 1L, 'gives': 1L, 'be': 1L, 'used': 1L, 'very': 1L, 'it': 3L, 'years...i': 1L, 'a': 3L, 'great': 1L, 'made': 1L, 'this': 1L, 'light': 1L, 'well': 1L, 'will': 1L, 'highly.': 1L, 'nice': 1L, 'makes': 1L}, {'affordable': 1L, 'try': 1L, '!easy': 1L, 'and': 2L, 'for': 1L, 'wall': 1L, 'spring': 1L, 'a': 1L, '...fine': 1L, 'up': 1L, '**********': 1L, 'room..': 1L, 'decals': 1L, 'this': 1L, ',fun': 1L, 'brightens': 1L, '5+': 1L, 'quality': 1L, 'project': 1L, 'any': 1L, 'out': 1L}, {'all': 1L, 'because': 1L, 'reason:small': 1L, 'wall': 1L, 'money': 1L, 'is': 1L, 'it': 1L, 'one': 1L, 'second': 1L, 'in': 2L, 'apply': 1L, 'flowers': 1L, 'flower': 1L, 'floor': 1L, 'when': 1L, 'to': 1L, 'only': 1L, 'you': 1L, 'waste': 1L, 'roll.': 1L, 'most': 1L, 'fell': 1L, 'know': 1L, 'pieceyou': 1L, 'day': 1L, 'a': 1L, 'on': 2L, 'sizehard': 1L, 'of': 1L, 'see': 1L, 'morning': 1L, 'will': 1L, 'part': 1L, 'how': 1L, 'the': 4L}, {'and': 1L, 'wall': 1L, 'coming': 1L, 'decals': 1L, 'as': 1L, 'thick': 1L, 'recommend.': 1L, 'again': 1L, 'would': 2L, 'literally': 1L, 'stayed': 1L, 'plastic': 1L, 'stuck': 1L, '5': 1L, 'was': 1L, 'then': 1L, 'almost': 1L, 'started': 1L, 'peeling': 1L, 'like': 1L, 'stick!': 1L, 'not': 2L, 'off': 1L, 'off.': 1L, 'purchase': 1L, 'about': 1L, 'applying': 1L, 'for': 1L, 'i': 1L, 'them!': 1L, 'were': 2L, 'the': 3L, 'minutes': 1L, 'or': 1L}, {'and': 3L, 'fantastic': 1L, 'themed': 1L, 'winnie': 1L, 'paintwork.': 1L, 'cost': 1L, 'at': 1L, 'in': 1L, '&#34;look&#34;': 1L, 'stickers': 2L, 'impressed': 1L, 'decor': 1L, 'with.': 1L, \"don't\": 1L, '-': 1L, 'seamless': 1L, 'to': 1L, 'that': 1L, 'easy': 1L, 'new': 1L, 'was': 1L, 'a': 1L, 'option': 1L, 'get': 1L, 'very': 4L, 'stick': 1L, 'they': 2L, 'not': 1L, 'pooh': 1L, 'wall': 2L, 'like': 1L, 'zealand': 1L, 'on': 3L, 'look': 1L, 'effective': 1L, 'i': 2L, 'all.': 1L, 'could': 1L, 'these': 2L, 'were': 2L, 'professional': 1L, 'the': 3L}, {'page.': 1L, 'on': 1L, 'about': 1L, 'said': 1L, 'and': 1L, 'i': 2L, 'came': 1L, 'ir': 1L, 'grat': 1L, 'satisfied': 1L, 'reccomend': 1L, 'very': 1L, 'as': 1L, 'product,': 2L, 'it': 1L, 'follow': 1L, 'more.': 1L, 'highly': 1L, 'design,': 1L, 'the': 2L, 'buying': 1L}, {'love': 1L, 'chain': 1L, 'jesus': 1L, 'lives!': 1L, 'in': 1L, 'need': 1L, 'our': 1L, 'divine': 3L, 'your': 1L, 'jesuswho': 1L, 'for': 1L, 'pray': 1L, 'god': 1L, 'to': 1L, 'offers': 1L, 'neck.': 1L, 'you': 1L, 'nice': 1L, 'an': 1L, 'around': 1L, 'mercy': 2L, 'very': 1L, 'it!': 1L, 'pendant': 1L, 'mercy.': 1L, 'now': 1L, 'him': 1L, 'on': 1L, 'of': 2L, 'country.': 1L, 'us': 1L, 'ocean': 1L, 'represents': 1L, 'my': 1L}, {\"i'll\": 1L, 'soft': 1L, 'right': 1L, 'love': 1L, 'simple': 1L, 'wipes.': 2L, 'are': 3L, 'changes.': 1L, 'our': 1L, 'done.': 1L, 'find': 1L, 'and': 4L, 'for': 2L, 'ordering': 1L, 'get': 1L, 'now!': 1L, 'actually': 1L, 'other': 1L, 'more': 1L, 'a': 2L, 'them': 2L, 'million': 1L, 'that': 1L, 'price': 1L, 'after': 1L, 'uses': 1L, 'know': 1L, 'they': 3L, 'baby': 1L, 'during': 1L, 'reusable': 1L, 'dry': 1L, 'great': 1L, 'these': 1L, 'of': 1L, 'days': 1L, 'i': 2L, 'so': 1L, 'clean': 1L, \"i'm\": 1L, 'my': 1L, 'diaper': 2L}, {'and': 2L, 'thought,': 1L, 'smaller': 1L, 'just': 1L, 'is': 1L, 'it': 2L, 'wall.': 1L, 'looks': 1L, 'measurements.': 1L, 'what': 1L, 'was': 2L, 'nice': 1L, 'that': 1L, 'but': 1L, 'not': 1L, 'bit': 1L, 'than': 1L, 'a': 1L, 'on': 1L, 'great': 1L, 'i': 1L, 'fault': 1L, 'taking': 1L, 'the': 1L, 'my': 2L}, {'and': 2L, 'old': 1L, 'significantly': 1L, 'them': 1L, 'one': 1L, 'high': 1L, 'as': 1L, 'are': 1L, 'broken': 1L, 'year': 1L, 'seem': 1L, 'open': 3L, 'size': 1L, 'given': 1L, 'for': 1L, 'needed': 1L, 'package...': 1L, 'that': 1L, 'able': 1L, 'their': 1L, 'only': 1L, 'of': 2L, 'safety': 1L, 'normal': 1L, '6': 1L, 'pins': 3L, 'new': 1L, 'learned': 1L, 'has': 1L, 'was': 2L, 'bought': 1L, 'we': 2L, 'his': 1L, 'to': 4L, 'though': 1L, 'price': 1L, 'night': 1L, 'use': 1L, 'clothes.': 1L, 'break': 1L, 'how': 1L, 'bit': 1L, 'son': 1L, 'than': 1L, 'he': 2L, 'a': 1L, 'on': 1L, 'open.': 1L, 'autistic': 1L, 'sturdy': 1L, 'these': 1L, 'recall': 1L, \"hasn't\": 1L, 'shipping': 1L, 'side': 1L, 'i': 1L, 'reasonable': 1L, 'time': 1L, 'the': 4L, 'more': 2L, 'my': 1L, 'or': 1L, 'once': 1L}, {'and': 1L, 'duty--able': 1L, 'quality--worked': 1L, 'good': 1L, 'fine--heavy': 1L, 'to': 1L, 'in': 1L, 'no': 1L, 'these': 1L, 'others': 1L, 'needed': 1L, 'as': 1L, 'used': 1L, 'way': 1L, 'were': 1L, 'need': 1L, 'be': 1L, 'my': 1L, 'any': 1L, 'filled': 1L}, {'and': 1L, 'a': 3L, 'great': 2L, 'has': 1L, 'colors': 1L, 'for': 1L, 'dozen.': 1L, 'that': 1L, 'lots': 1L, 'of': 1L, 'easy': 1L, 'bargain': 1L, 'to': 1L, 'bright': 1L, 'safety': 1L, 'pin': 1L, 'uses.': 1L, 'with': 1L, 'find': 1L}, {'and': 1L, 'not': 1L, 'are': 2L, 'in': 1L, 'thick': 1L, 'little': 1L, 'fabric': 1L, 'no': 2L, 'fortunately': 1L, 'there': 1L, 'to': 1L, 'flimsy': 1L, 'stuck.': 1L, 'pins': 2L, 'was': 2L, 'them': 1L, 'used': 1L, 'on.': 1L, 'involved,': 1L, 'received': 1L, 'diaper': 1L, 'baby': 1L, 'attractive,': 1L, 'hold': 1L, 'on': 1L, 'i': 2L, 'metal': 1L, 'up': 1L, 'did': 1L, 'while': 1L, 'so': 1L, 'the': 4L}, {'honduras,': 1L, 'honduras': 1L, 'sent.': 1L, 'is': 1L, 'it': 1L, 'kits': 1L, 'have': 1L, 'in': 2L, 'our': 1L, 'find': 1L, 'also': 1L, 'with': 1L, 'appreciated': 1L, 'to': 3L, 'pins': 2L, 'sent': 1L, 'difficult': 1L, 'do': 1L, 'we': 2L, 'diapers': 1L, 'cloth': 1L, 'diaper': 2L, 'they': 2L, 'not': 1L, '&#34;pampers&#34;.': 1L, 'hold': 1L, '&#34;disposable&#34;': 1L, 'went': 1L, 'age.': 1L, 'these': 1L, 'the': 3L, 'missionaries.': 1L}, {'and': 3L, 'dressmaker': 1L, 'since': 1L, 'have': 1L, 'pin': 1L, 'up': 1L, 'it': 1L, 'socks': 2L, 'years': 1L, 'course': 1L, 'through': 2L, 'a': 1L, 'using': 1L, 'open': 1L, 'your': 1L, 'cycle.': 1L, 'yet.': 1L, 'little': 1L, 'working': 1L, 'to': 4L, 'that': 1L, 'been': 1L, 'pins,': 1L, 'needed': 1L, 'recommended': 1L, 'tended': 1L, 'pins': 2L, 'perfectly': 1L, 'was': 2L, 'do': 1L, 'staying': 1L, 'tried': 1L, 'get': 1L, 'never': 1L, \"thery're\": 1L, 'washing.': 1L, '&#34;friended': 1L, 'we': 2L, 'but': 3L, 'they': 2L, 'during': 1L, 'brass': 1L, 'one': 1L, 'matter': 1L, 'tricky': 1L, 'open,': 1L, 'has': 1L, 'like': 1L, 'lost': 1L, 'wash': 2L, 'up&#34;.': 1L, 'of': 2L, 'wife': 1L, 'suggested': 1L, 'together': 2L, 'keep': 1L, 'idea.': 1L, 'i': 2L, 'can': 1L, 'many': 1L, 'them.': 1L, 'the': 4L, 'my': 2L, 'fact': 1L, 'diaper': 2L}, {'and': 4L, 'the': 11L, 'reviews.': 1L, 'have': 1L, 'pin': 2L, \"don't\": 1L, 'clothespins,': 1L, 'sock': 1L, 'into': 1L, 'each': 1L, 'am': 1L, 'idea': 1L, 'socks': 6L, 'one': 1L, 'as': 2L, 'done': 1L, 'are': 2L, 'another': 1L, 'reviewer': 1L, 'my': 2L, 'dried,': 1L, 'still': 1L, 'saved': 1L, 'hamper': 1L, 'out': 1L, 'washer,': 1L, 'these': 1L, 'use': 1L, 'now': 1L, 'just': 2L, 'open': 1L, 'line.': 1L, 'with': 2L, 'noted,': 1L, 'had': 1L, 'matching': 1L, 'to': 2L, 'feet.': 1L, 'lot': 1L, 'before': 1L, 'hamper,': 1L, 'has': 1L, 'it.': 1L, 'dry': 2L, 'them': 1L, 'after': 1L, 'on.': 1L, 'stay': 1L, 'read': 1L, 'hang': 2L, 'of': 4L, 'shelf.': 1L, 'great': 2L, 'here': 1L, 'it': 1L, 'by': 1L, 'pins': 1L, 'mismatched': 1L, 'they': 2L, 'put': 1L, 'line': 1L, 'washing.': 1L, 'come': 1L, 'grab': 1L, 'glad': 1L, 'a': 3L, 'on': 5L, 'about': 1L, 'for': 1L, 'lost': 1L, 'this': 2L, 'wish': 1L, 'side': 1L, 'leave': 1L, 'i': 7L, 'without': 1L, 'dirty': 1L, 'time': 1L, 'life.': 1L, 'problem': 1L, 'whole': 1L, 'or': 1L, 'once': 1L}, {'fabric.': 1L, 'work': 1L, 'old': 1L, 'is': 1L, 'hard': 1L, 'it': 1L, 'through': 1L, 'at': 1L, 'still': 1L, 'pins,': 1L, 'recommend.': 1L, 'would': 1L, 'thicker': 1L, 'to': 1L, 'which': 1L, 'steel': 1L, 'have.': 1L, 'very': 1L, 'part': 1L, 'diaper': 1L, 'not': 2L, 'strong': 1L, 'a': 1L, 'unlike': 1L, 'i': 1L, 'all,': 1L, 'the': 2L}, {'there': 1L, 'am': 1L, 'back': 1L, 'really': 1L, 'are': 2L, 'have': 1L, 'in': 1L, '10.': 1L, 'should': 1L, 'out': 1L, 'thought': 1L, 'use': 1L, 'that': 1L, 'when': 1L, 'mark': 1L, 'to': 2L, 'only': 2L, 'going': 1L, 'safety': 1L, 'pins': 1L, 'pins.': 1L, 'was': 1L, 'be': 1L, 'them': 1L, 'dozen': 1L, 'pins..turns': 1L, 'overpriced.': 1L, 'regular': 1L, 'they': 1L, 'crochet': 1L, 'sad..and': 1L, 'a': 1L, 'getting': 1L, 'i': 8L, 'yarn': 1L, 'counted': 1L, 'will': 1L, 'so': 1L, 'picture..as': 1L, 'the': 2L, 'think': 1L}, {'because': 1L, 'anymore.': 1L, 'tabs': 1L, 'is': 1L, 'am': 1L, 'them': 1L, 'through': 2L, 'bend': 1L, 'sharp': 1L, 'said,': 1L, \"doesn't\": 1L, 'pain.': 1L, 'which': 1L, 'dislike': 1L, '=': 2L, 'ends': 1L, 'that': 2L, 'pushing': 1L, 'diapers': 2L, 'velcro': 2L, 'easier.': 1L, 'sides': 1L, 'a': 1L, 'on': 1L, 'pierce': 1L, 'like': 1L, 'older': 1L, 'i': 1L, 'work': 1L, 'the': 2L, 'my': 2L}, {'a': 1L, 'useful': 1L, 'to': 2L, 'no': 1L, 'this': 1L, 'item': 1L, 'is': 1L, 'hard': 1L, '-': 1L, 'locally!': 1L, 'matter': 1L, 'have': 1L, 'diaper': 1L, 'purpose...': 1L, 'pins': 1L, 'the': 1L, 'find': 1L, 'are': 1L}, {'do': 1L, 'them': 1L, 'peel': 1L, 'start': 1L, 'these': 1L, 'soon': 1L, 'wall.': 2L, 'to': 3L, 'as': 2L, 'stick': 2L, 'they': 1L, 'not': 1L, 'you': 1L, 'the': 2L}, {'money': 1L, 'frustrating!': 1L, 'when': 1L, 'is': 1L, \"wouldn't\": 1L, 'it': 2L, 'sticky': 1L, 'ended': 1L, 'at': 1L, 'bedroom': 1L, 'bedroom!': 1L, 'glue': 1L, 'wall...very': 1L, 'for': 1L, 'not': 1L, 'girls': 1L, 'to': 3L, 'disappointing.': 1L, 'got': 1L, 'waste': 1L, 'was': 2L, 'excited': 1L, 'it.': 1L, 'floor!': 1L, 'product': 1L, 'get': 1L, 'very': 2L, 'back': 1L, 'every': 1L, 'baby': 1L, 'picking': 1L, 'pieces': 1L, 'super': 1L, 'on': 1L, 'off': 1L, 'all!': 1L, 'i': 4L, 'of': 1L, 'into': 1L, 'up': 2L, 'walked': 1L, 'having': 1L, 'this': 1L, 'so': 1L, 'time': 2L, 'the': 5L, 'my': 1L, 'or': 1L}, {'and': 3L, 'heart': 1L, 'because': 1L, 'blessed': 1L, 'pope': 2L, 'photo': 1L, 'is': 2L, 'am': 1L, 'it': 4L, 'as': 1L, 'in': 3L, 'ordered': 1L, 'between': 1L, 'to': 1L, 'again': 1L, 'strong': 1L, 'just': 1L, 'would': 1L, 'untier': 1L, 'giving': 1L, 'disappointed': 1L, 'whom': 1L, 'francis.': 1L, 'recommend': 1L, 'has': 1L, 'was': 1L, 'knotted': 1L, 'friend': 2L, 'lady': 1L, 'fathers.': 1L, 'buy': 1L, 'devotion.': 1L, 'crystal,': 1L, 'our': 2L, 'novena': 1L, 'beat.': 1L, 'made': 1L, 'not': 1L, 'along': 1L, 'francis': 1L, 'with': 2L, 'by': 1L, 'copy': 1L, 'a': 4L, 'lovely': 1L, 'rosary': 2L, 'for': 2L, 'undoer)': 1L, 'i': 4L, 'of': 3L, 'looked': 1L, 'this': 3L, 'definitely': 1L, '(or': 1L, 'the': 3L, 'my': 1L, 'beautiful,': 1L, 'knots,': 1L}, {'and': 2L, 'all': 1L, 'right': 1L, 'price.': 1L, 'just': 1L, 'scapular': 1L, 'some': 1L, 'an': 1L, 'quality': 1L, 'for': 2L, 'to': 1L, 'more': 1L, 'wearing': 1L, 'brown': 1L, 'around': 1L, 'blessing': 1L, 'precious.': 1L, 'excellent': 1L, 'a': 1L, 'neck': 1L, 'makes': 1L, 'value': 1L, 'item': 1L, 'the': 5L, 'such.': 1L, 'or': 1L, 'orattaching': 1L}, {'and': 2L, 'slid': 1L, 'tough': 2L, 'fit.': 1L, 'over': 1L, 'am': 1L, 'product': 1L, 'hair': 1L, 'snug': 1L, 'are': 2L, 'have': 2L, 'love': 1L, 'shipping!': 1L, 'satisfied': 1L, 'pleased': 1L, 'size': 1L, 'fit': 1L, 'bangle': 1L, 'had': 1L, 'fitting': 1L, 'fast': 1L, '.': 1L, 'to': 3L, 'lotion.': 1L, 'whew': 1L, 'bangles': 1L, 'small.': 1L, 'was': 1L, 'hand.': 1L, 'them': 1L, 'get': 1L, 'got': 1L, 'were': 1L, 'overall': 1L, 'however': 1L, 'but': 2L, 'like': 1L, 'if': 1L, 'adult': 1L, 'they': 4L, 'hands': 1L, 'bit': 1L, 'hand': 1L, 'with': 3L, 'bigger': 1L, 'kid': 1L, 'a': 3L, 'on': 2L, 'for': 1L, 'i': 5L, \"wouldn't\": 1L, 'large': 1L, 'these': 1L, 'stay.': 1L, 'also.': 1L, 'product.': 1L, 'small': 2L, 'wrist': 1L, 'the': 3L, 'my': 1L, 'on!!': 1L}, {'and': 2L, 'set': 1L, 'old': 1L, 'cooking.': 1L, 'for': 1L, '2': 1L, 'lot': 1L, 'has': 1L, 'was': 1L, 'granddaughter': 1L, 'with': 1L, 'a': 1L, 'great': 1L, 'yr.': 1L, 'this': 1L, 'of': 1L, 'pretend': 1L, 'she': 1L, 'fun': 1L, 'the': 1L, 'my': 1L, 'playing': 1L}, {'and': 1L, 'is': 1L, 'wash': 1L, 'are': 1L, 'also': 1L, 'useful.': 1L, 'to': 1L, 'easy': 1L, 'awesome.': 1L, 'them': 1L, 'dry.': 1L, 'very': 2L, 'price': 1L, 'much.': 1L, 'bibs.': 1L, 'they': 1L, 'friends': 1L, 'those': 1L, 'like': 2L, 'i': 1L, 'the': 1L, 'my': 1L}, {'beautiful': 1L, 'old': 1L, 'too.': 1L, 'curls': 1L, 'is': 1L, 'wash': 1L, 'good': 1L, 'in': 1L, 'messy': 1L, 'mouth.': 1L, 'provided': 1L, '20': 1L, 'for': 1L, 'to': 2L, 'front': 1L, 'boy': 1L, 'when': 1L, 'eaters,': 1L, 'bibs,': 1L, 'easy': 1L, 'elbows': 1L, 'his': 2L, 'missing': 1L, 'very': 1L, 'who': 1L, 'pasta': 2L, 'pocket': 1L, 'marinara': 1L, 'protections': 1L, 'fall': 1L, 'fingers.': 1L, 'bibs': 1L, 'with': 1L, 'eat': 1L, 'a': 1L, 'loved': 1L, 'daughter': 1L, 'grandson': 1L, 'this': 2L, 'months': 1L, 'loves': 1L, 'the': 2L, 'my': 2L, 'or': 1L}, {'perfect': 1L, 'and': 1L, 'i': 1L, 'collection!': 1L, 'collect': 1L, 'this': 2L, 'tree!': 1L, 'is': 2L, 'it': 1L, 'for': 1L, 'nativity': 2L, 'to': 2L, 'add': 1L, 'cute': 1L, 'a': 1L, 'ornaments': 1L, 'ornament,': 1L, 'such': 1L, 'my': 2L, \"can't\": 1L, 'wait': 1L}, {'and': 2L, 'help': 1L, 'is': 2L, 'it': 1L, 'used': 1L, 'pees': 1L, 'really': 1L, 'feeding': 1L, 'poops': 1L, 'make': 1L, 'to': 3L, 'enough.': 1L, 'month.': 1L, 'wet': 1L, 'you': 1L, 'if': 1L, 'book!': 1L, 'we': 1L, 'sure': 1L, 'eating': 1L, 'that': 1L, 'track': 2L, 'breastfeed': 1L, 'diapers': 1L, 'baby': 1L, 'during': 1L, 'great': 1L, 'helpful': 1L, 'this': 1L, 'of': 2L, 'us': 1L, 'keep': 2L, 'patterns': 1L, 'first': 1L}, {'and': 3L, 'love': 1L, 'just': 1L, 'info.': 1L, 'use.': 1L, 'is': 2L, 'life': 1L, 'adoption,': 1L, 'are': 1L, 'have': 1L, 'perfect': 2L, 'home': 1L, 'to': 2L, 'fill': 1L, 'up.': 1L, 'for': 4L, 'also': 1L, 'travel': 1L, 'there': 1L, 'when': 1L, 'needed': 1L, 'book': 3L, 'memory': 1L, 'schedule.': 2L, 'more': 1L, 'be': 3L, 'we': 2L, 'complete': 1L, 'emergency': 1L, 'track': 2L, 'saver!': 1L, 'after': 1L, 'spot': 1L, \"baby's\": 2L, 'how': 1L, 'important': 1L, 'beginning': 1L, 'adopting': 1L, 'buying': 1L, 'a': 4L, 'going': 1L, 'keeping': 1L, 'i': 5L, 'of': 2L, 'terrible': 1L, 'keep': 1L, 'will': 2L, 'this': 3L, 'traveling,': 1L, 'definitely': 1L, 'babysitter': 1L, 'at': 2L, 'the': 3L, 'or': 1L, 'numbers': 1L}, {'love': 3L, 'activities': 1L, 'when': 1L, 'too,': 1L, 'soon': 1L, 'one': 1L, 'as': 3L, 'sleep': 1L, 'another': 1L, 'need': 1L, 'your': 2L, 'really': 1L, 'up.': 1L, 'for': 4L, '\"remember\"': 1L, 'daycare,': 1L, \"baby's\": 1L, 'day.': 1L, 'how': 1L, 'much': 1L, 'tracker': 1L, 'provider': 1L, 'new': 1L, 'you': 2L, 'was': 1L, 'bought': 1L, 'it!!': 1L, 'used': 1L, 'to': 1L, 'get': 1L, 'got!!': 1L, 'moms-': 1L, 'about': 1L, 'it': 4L, 'no': 1L, 'got': 1L, 'baby': 2L, 'last': 1L, 'gift,': 1L, 'with': 1L, 'be!!': 1L, 'a': 1L, 'also': 1L, 'great': 2L, 'ate': 1L, 'communicate': 1L, 'clock': 1L, 'round': 1L, 'so': 1L, 'can': 1L, 'to-': 1L, 'care-': 1L, 'the': 2L, 'my': 1L, 'or': 1L, 'first': 1L}, {'and': 2L, 'over.': 1L, 'major': 1L, 'because': 1L, 'love': 1L, 'all': 3L, 'simple': 1L, 'had': 1L, 'is': 1L, \"didn't\": 1L, 'life': 1L, 'really': 1L, '(and': 1L, 'down': 1L, 'course': 1L, 'as': 1L, 'sure': 1L, 'happened.': 1L, 'been': 2L, 'have': 2L, 'in': 1L, 'caregiver': 1L, 'to': 5L, 'out': 1L, 'even': 1L, 'funny': 1L, 'little': 1L, 'routines': 1L, 'i': 6L, 'would': 1L, 'how': 1L, 'though,': 1L, 'things': 1L, 'that': 2L, 'able': 1L, 'finally': 1L, 'months),': 1L, 'day': 1L, 'everything': 1L, 'enough': 1L, 'book': 2L, 'easy': 1L, 'time': 1L, 'probably': 1L, 'has': 1L, 'was': 2L, 'until': 1L, 'a': 2L, 'saver!!': 1L, 'his': 3L, 'jot': 1L, 'way': 2L, 'get': 1L, 'knew': 1L, 'great/easy': 1L, 'after': 1L, 'what': 1L, 'it': 2L, 'forgotten!': 1L, 'it,': 1L, 'know': 1L, 'they': 1L, 'baby': 1L, '2': 1L, 'beginning': 1L, \"baby's\": 1L, 'me': 3L, 'on': 1L, 'about': 1L, 'milestones': 1L, 'for': 3L, 'went.': 1L, 'this': 2L, 'of': 4L, \"wouldn't\": 1L, 'work': 1L, 'record': 1L, 'so': 1L, 'transfer': 1L, 'let': 1L, 'the': 3L, 'my': 1L}, {'and': 2L, 'useful': 1L, 'being': 1L, 'am': 2L, 'it': 4L, 'one': 2L, 'newborn': 1L, 'not': 1L, 'as': 1L, 'at': 1L, 'have': 1L, 'looks.': 1L, 'remember,': 1L, 'looked': 1L, 'needs': 1L, 'from': 2L, 'for': 1L, 'everything': 1L, 'had': 1L, 'looking': 1L, 'very': 1L, '4': 1L, 'saw.': 1L, 'tracker.': 1L, 'was': 1L, 'hope': 1L, 'happy': 1L, 'it.': 1L, 'ends': 1L, 'used': 1L, 'to': 1L, 'that': 1L, 'read': 1L, 'what': 1L, 'but': 1L, 'delivery': 1L, 'baby': 1L, 'with': 1L, 'weeks': 1L, 'a': 1L, 'down': 1L, 'like': 1L, 'this': 1L, 'of': 1L, 'up': 1L, 'reviews': 1L, 'i': 6L, 'write': 1L, 'so': 1L, 'the': 1L, 'bought': 1L, 'my': 1L, 'first': 1L}, {'and': 4L, 'development,': 1L, 'have': 1L, 'people': 1L, 'too.': 1L, \"baby's\": 1L, 'some': 1L, 'it': 3L, 'one': 3L, 'see': 1L, 'are': 1L, 'another': 2L, 'our': 1L, 'story,': 1L, 'bought': 1L, 'what': 1L, 'rummage': 1L, 'visiting': 1L, 'things': 1L, 'section': 1L, 'family,': 1L, 'when': 1L, 'useful,': 1L, 'write': 2L, 'also': 1L, 'that': 3L, 'much': 1L, 'helps': 1L, '\"notes\"': 1L, 'so': 2L, 'sale': 1L, 'has': 1L, 'filled': 1L, 'more': 1L, 'be': 2L, 'we': 2L, 'etc.)': 1L, 'to': 3L, \"i've\": 1L, 'use': 1L, 'like': 1L, 'helping': 1L, 'feels': 1L, '\"dad\"': 1L, 'baby': 1L, 'almost': 1L, 'with': 1L, 'day': 2L, 'buying': 1L, 'room': 1L, 'a': 1L, 'loved': 1L, 'about': 1L, 'several': 1L, 'especially': 1L, 'this': 1L, '(ex:': 1L, 'having': 1L, 'will': 1L, 'i': 2L, 'connected.': 1L, 'plus': 1L, 'at': 1L, 'found': 2L, 'the': 3L, 'happened': 1L, 'etc.': 1L, 'book': 1L, 'soon!': 1L}, {'and': 1L, 'all': 1L, 'winner': 1L, '...': 1L, 'absolutely': 1L, 'is': 2L, 'am': 1L, 'iparenting': 1L, 'an': 1L, 'as': 1L, 'from': 1L, 'work.': 1L, 'media': 1L, 'starts!': 1L, 'better': 1L, 'tracker': 1L, '5': 1L, 'it': 2L, 'got': 1L, 'seen.': 1L, 'worth': 1L, 'then': 1L, 'good': 1L, \"i've\": 1L, 'organized': 1L, 'much': 1L, 'part': 1L, 'reason.': 1L, 'others': 1L, 'baby': 1L, 'extremely': 1L, 'a': 1L, 'for': 2L, 'getting': 1L, 'i': 2L, 'of': 1L, 'package': 1L, 'well': 1L, \"'new\": 1L, 'this': 2L, 'expecting': 1L, '$$.': 1L, \"parents'\": 1L, 'friends!': 1L, 'the': 2L, 'my': 2L}, {'and': 6L, 'the': 1L, 'activities': 1L, \"baby's\": 2L, 'is': 2L, 'in': 1L, 'am': 1L, 'it': 4L, 'one': 1L, 'down': 2L, 'something': 1L, 'another': 1L, 'feedings': 1L, 'beyond': 1L, 'perfect!': 1L, 'your': 1L, 'out': 1L, 'looking': 1L, 'i': 4L, 'for': 3L, 'area': 1L, 'ordering': 1L, 'with': 1L, 'extra': 1L, 'when': 1L, 'months.': 1L, 'write': 2L, 'to': 4L, '3': 1L, 'patterns': 1L, 'lot': 1L, 'dr': 1L, 'new': 1L, 'reminder': 1L, 'has': 2L, 'was': 1L, 'happy': 1L, 'be': 1L, 'run': 1L, 'that': 1L, 'track': 1L, 'patterns.': 1L, 'appointments': 1L, 'diaper': 1L, 'mom': 1L, 'medications.': 1L, 'an': 1L, 'extremely': 1L, 'pages': 1L, 'a': 3L, 'great': 1L, 'like': 1L, 'anything': 1L, 'this': 1L, 'of': 2L, 'space': 1L, 'daily': 1L, 'will': 1L, 'record': 1L, 'sleeping.': 1L, \"i'm\": 1L, 'my': 1L, 'book': 1L, 'changes,': 1L}, {'and': 1L, 'love': 1L, 'helpful': 1L, 'for': 2L, 'this': 2L, 'easy': 1L, 'first': 1L, 'keep': 1L, 'to': 1L, 'book': 1L, 'track': 1L, 'pediatrician': 1L, 'mom': 1L, 'time': 1L, '....super': 1L, 'sooooooooo': 1L, 'appts': 1L, '..especially': 1L}, {'and': 1L, 'set': 1L, 'often': 1L, 'share': 1L, 'it': 2L, 'for': 1L, 'doctor': 1L, 'to': 3L, 'book': 1L, 'was': 2L, 'baby.': 1L, 'used': 1L, 'eating': 1L, 'track': 1L, 'took': 1L, 'how': 2L, 'appointments': 1L, 'important': 1L, 'everything.': 1L, 'loved': 1L, 'about': 1L, 'i': 3L, 'always': 1L, 'up': 1L, 'keep': 1L, 'this': 1L, 'year.': 1L, 'she': 1L, 'of': 1L, 'everything': 1L, 'the': 1L, 'first': 1L}, ... ]"
      ]
     },
     "execution_count": 33,
     "metadata": {},
     "output_type": "execute_result"
    }
   ],
   "source": [
    "products['word_count']"
   ]
  },
  {
   "cell_type": "code",
   "execution_count": 34,
   "metadata": {
    "collapsed": false
   },
   "outputs": [
    {
     "data": {
      "text/plain": [
       "{'and': 3L,\n",
       " 'bags': 1L,\n",
       " 'came': 1L,\n",
       " 'disappointed.': 1L,\n",
       " 'does': 1L,\n",
       " 'early': 1L,\n",
       " 'highly': 1L,\n",
       " 'holder.': 1L,\n",
       " 'i': 1L,\n",
       " 'it': 2L,\n",
       " 'it.': 1L,\n",
       " 'keps': 1L,\n",
       " 'leak.': 1L,\n",
       " 'love': 1L,\n",
       " 'moist': 1L,\n",
       " 'my': 2L,\n",
       " 'not': 2L,\n",
       " 'now': 1L,\n",
       " 'osocozy': 1L,\n",
       " 'planet': 1L,\n",
       " 'recommend': 1L,\n",
       " 'was': 1L,\n",
       " 'wipe': 1L,\n",
       " 'wipes': 1L,\n",
       " 'wise': 1L}"
      ]
     },
     "execution_count": 34,
     "metadata": {},
     "output_type": "execute_result"
    }
   ],
   "source": [
    "products['word_count'][0]"
   ]
  },
  {
   "cell_type": "code",
   "execution_count": 38,
   "metadata": {
    "collapsed": false
   },
   "outputs": [],
   "source": [
    "count = products['word_count']"
   ]
  },
  {
   "cell_type": "code",
   "execution_count": 39,
   "metadata": {
    "collapsed": false
   },
   "outputs": [
    {
     "data": {
      "text/plain": [
       "dtype: dict\n",
       "Rows: 166752\n",
       "[{'and': 3L, 'love': 1L, 'it': 2L, 'highly': 1L, 'osocozy': 1L, 'bags': 1L, 'holder.': 1L, 'moist': 1L, 'does': 1L, 'recommend': 1L, 'was': 1L, 'wipes': 1L, 'it.': 1L, 'early': 1L, 'disappointed.': 1L, 'not': 2L, 'now': 1L, 'wipe': 1L, 'keps': 1L, 'wise': 1L, 'i': 1L, 'leak.': 1L, 'planet': 1L, 'my': 2L, 'came': 1L}, {'and': 2L, 'quilt': 1L, 'it': 1L, 'comfortable': 1L, 'warmer': 1L, 'size': 1L, 'anyone': 1L, 'for': 1L, 'looking': 1L, 'to': 1L, 'recommend': 1L, 'type': 1L, 'full': 1L, 'very': 1L, 'looks...fit': 1L, 'than': 1L, 'perfectly...would': 1L, 'this': 1L, 'of': 1L, 'bed': 1L, 'the': 1L, 'soft': 1L}, {'ingenious': 1L, 'and': 3L, 'love': 2L, 'positive,': 1L, 'is': 4L, 'it': 1L, 'losing': 1L, 'fairy.': 1L, 'have': 1L, 'in': 2L, 'rid': 1L, 'what': 1L, 'her': 1L, 'how': 1L, 'to': 1L, 'much': 1L, 'has': 1L, 'approach': 2L, 'worth': 1L, 'she': 1L, 'tool.': 1L, 'product': 2L, 'clever': 1L, 'chart': 1L, 'else': 1L, 'most': 1L, 'artwork,': 1L, 'ownership': 1L, 'not': 1L, 'little': 1L, 'purchase.': 1L, 'herself,': 1L, 'a': 2L, 'about': 1L, 'daughter': 1L, 'like': 1L, 'anything': 1L, 'getting': 1L, 'this': 3L, 'of': 3L, 'proud': 1L, 'well': 1L, 'this,': 1L, 'i': 3L, 'back,': 1L, 'so': 1L, 'binky.': 2L, 'loves': 1L, 'found': 1L, 'the': 7L, 'my': 1L}, {'and': 2L, 'parents!!': 1L, 'all': 2L, 'puppet.': 1L, 'help': 1L, 'cried': 1L, 'is': 3L, 'it': 1L, 'soo': 1L, 'rock!!': 1L, 'way': 1L, 'have': 1L, 'pacifier': 1L, 'my': 1L, 'your': 1L, 'tried': 1L, 'from': 1L, 'for': 2L, 'their': 2L, 'when': 1L, 'to': 5L, 'going': 1L, 'easy': 1L, 'pacifier,': 1L, 'you': 2L, 'save': 1L, 'until': 1L, \"love's\": 1L, 'book!': 1L, 'them': 4L, 'buy': 1L, 'ween': 1L, 'book,': 1L, 'part': 1L, 'understand': 1L, 'it.this': 1L, 'binky': 1L, 'an': 1L, 'with': 1L, 'must': 1L, 'a': 2L, 'great': 1L, 'kids': 2L, 'off': 1L, 'gift': 1L, 'this': 1L, 'many': 1L, 'work': 1L, 'non-stop': 1L, 'thumbuddy': 1L, 'will': 1L, 'i': 2L, 'expecting': 1L, 'allow': 1L, 'of': 1L, 'found': 1L, 'fairy': 1L, 'where': 1L, 'headaches.thanks': 1L}, {'and': 2L, 'cute': 1L, 'help': 2L, 'doll': 1L, 'is': 2L, \"didn't\": 1L, 'it': 1L, 'house,': 1L, 'highly': 1L, 'product': 1L, 'have': 1L, 'pacifier': 1L, 'comes.': 1L, 'your': 1L, 'special': 1L, 'happens': 1L, 'what': 1L, 'thumb': 1L, 'would': 1L, 'to': 6L, 'lots': 1L, 'explain': 1L, 'when': 2L, 'habit.': 1L, 'any': 2L, 'how': 1L, 'book': 2L, 'item.': 1L, 'recommend': 1L, 'pacifier.': 1L, 'adorable': 1L, 'we': 2L, 'sucking': 1L, 'parent': 1L, 'our': 2L, 'stop': 1L, 'great': 1L, 'movies': 1L, 'break': 1L, 'job': 1L, 'important': 1L, 'child': 1L, 'telling': 1L, 'using': 1L, 'binky': 3L, 'trying': 1L, 'with': 1L, 'the': 6L, 'a': 2L, 'loss': 1L, 'about': 2L, 'made': 1L, 'daughter': 1L, 'her': 1L, 'gift': 1L, 'i': 1L, 'of': 2L, 'favorite': 1L, 'their': 1L, 'this': 2L, 'prepare': 1L, 'does': 1L, 'fairy': 3L, 'or': 1L, 'came': 1L, 'for': 2L}, {'shop': 1L, 'be': 1L, 'is': 1L, 'it': 1L, 'as': 1L, 'spaces': 1L, 'at': 1L, 'in': 1L, 'before': 1L, 'from': 1L, 'for': 1L, '&': 1L, '29.95!': 1L, 'barnes': 1L, 'currently': 1L, 'able': 1L, 'aside': 1L, 'tightly': 1L, 'to': 1L, 'add': 1L, 'listed': 1L, 'you': 2L, 'lovely': 1L, 'noble': 1L, 'photos/cards': 1L, 'around': 1L, 'may': 1L, 'designated': 1L, 'book,': 1L, 'book.': 1L, 'bound': 1L, 'not': 1L, 'purchase,': 1L, 'of': 1L, 'so': 1L, 'alot': 1L, \"it's\": 1L, 'the': 2L}, {'feeding,': 1L, 'and': 2L, 'all': 1L, 'right': 1L, 'able': 1L, 'we': 2L, 'two': 1L, 'because': 1L, 'sleep': 1L, 'questions': 1L, 'perfect': 1L, 'her': 1L, 'doctor': 1L, 'when': 1L, 'there!': 1L, 'for': 2L, 'to': 1L, 'new': 1L, 'easier': 1L, 'life': 1L, 'schedule': 1L, 'track': 1L, 'it': 1L, 'diaper': 1L, 'half': 1L, 'ask': 1L, \"baby's\": 1L, 'change': 1L, 'had': 1L, 'a': 1L, 'about': 1L, 'made': 1L, 'would': 1L, 'of': 2L, 'months': 1L, 'keep': 1L, 'habits': 1L, 'were': 1L, 'life.': 1L, 'the': 2L, 'parents.': 1L, 'first': 1L}, {'and': 1L, 'help': 1L, 'give': 1L, 'is': 1L, 'mine': 1L, 'decided': 1L, 'are': 1L, 'if': 1L, 'pinterest': 1L, 'pinned': 1L, 'to': 1L, 'feedings,': 1L, 'new': 1L, 'you': 2L, 'friend': 1L, 'product': 1L, 'like!': 1L, 'track': 1L, 'fantastic!': 1L, 'whirl!': 1L, 'it': 2L, 'diaper': 1L, 'a': 3L, 'on': 1L, 'i': 1L, 'of': 2L, 'parent,': 1L, 'keep': 1L, 'will': 1L, 'this': 2L, 'so': 1L, 'the': 1L, 'changes': 1L}, {'journal.': 1L, 'all': 1L, 'standarad': 1L, 'another': 1L, 'informed': 1L, 'is': 2L, 'some': 1L, 'it': 1L, 'one': 1L, 'not': 2L, 'because': 1L, 'at': 1L, 'have': 1L, 'in': 1L, 'happen': 1L, 'your': 1L, 'out': 1L, 'options.i': 1L, \"you're\": 1L, 'what': 1L, 'for': 1L, 'record': 1L, 'ordering': 1L, 'there': 1L, 'when': 2L, 'while': 1L, 'been': 2L, 'the': 1L, 'to': 4L, 'only': 1L, '5': 1L, 'easy': 1L, 'recommend': 1L, 'has': 1L, 'home.': 1L, 'events': 1L, 'more': 1L, 'wants': 1L, 'we': 1L, 'someone': 1L, 'run': 1L, 'way': 1L, 'that': 1L, 'who': 1L, 'stay': 1L, 'reason': 1L, 'pre-printed': 1L, 'key': 1L, 'baby': 2L, 'highly': 1L, 'with': 1L, 'pages': 1L, 'a': 1L, 'on': 1L, 'would': 1L, 'this': 3L, 'plan': 1L, 'could': 1L, 'up': 1L, 'i': 1L, 'home.the': 1L, 'of': 2L, 'an': 1L, \"i'm\": 1L, 'my': 2L, 'think': 1L, \"isn't\": 1L, 'nanny': 1L}, {'all': 1L, 'forget': 1L, 'just': 1L, \"daughter's\": 1L, 'sleep': 1L, 'milk': 1L, 'weekly': 1L, 'layout': 1L, 'had': 1L, 'hot': 1L, 'to': 11L, 'add': 1L, 'easy': 1L, 'has': 2L, 'real': 1L, 'complaint': 1L, 'etc.)': 1L, 'food': 1L, 'overall': 1L, 'sleep,': 1L, 'nanny,': 1L, 'now': 1L, 'older).my': 1L, 'today)': 1L, 'instructions': 1L, 'notes': 1L, 'all,': 1L, 'leave': 1L, 'she': 3L, 'night': 1L, 'often': 1L, 'back': 1L, 'design': 1L, 'our': 2L, 'out': 1L, 'what': 1L, 'and/or': 1L, 'for': 2L, 'space': 1L, 'sun': 1L, 'comments': 2L, 'time,': 1L, \"nanny's\": 1L, 'day,': 1L, 'reply': 1L, 'previous': 1L, 'screen': 1L, 'knowing': 1L, 'we': 1L, 'eating': 1L, 'schedule': 1L, 'journal': 1L, 'communicate': 1L, 'nanny': 2L, 'rash,': 1L, 'ask': 1L, 'on': 3L, 'about': 1L, '(please': 1L, 'column': 1L, 'of': 4L, 'amount': 1L, 'changes': 1L, 'or': 2L, 'love': 2L, \"baby's\": 2L, 'time--tummy': 1L, 'highly': 1L, 'specifics': 1L, 'morning.': 1L, 'use': 2L, 'notes.': 1L, 'her': 2L, \"it's\": 1L, 'there': 1L, 'took,': 1L, 'quickly': 1L, 'recommend': 1L, 'tracker.': 1L, '(i.e.': 3L, 'naturally': 1L, 'only': 1L, 'that': 2L, \"didn't\": 1L, 'stick': 1L, 'baby': 4L, 'with': 1L, 'specify': 1L, 'rush': 1L, 'this': 2L, 'tell': 1L, 'etc)': 1L, 'my': 2L, 'and': 5L, 'activities.': 1L, 'is': 2L, 'post-its': 1L, 'moved': 1L, 'it': 3L, 'as': 2L, 'want': 1L, 'in': 5L, 'everyday': 1L, 'fill': 1L, 'patterns': 1L, 'make': 1L, '-': 1L, 'walk': 1L, 'also': 1L, 'nap': 1L, 'other': 2L, 'details': 2L, 'gets': 1L, 'play': 1L, 'track': 2L, 'uses': 1L, 'lunch,': 1L, 'a': 1L, 'no': 1L, 'i': 7L, 'sometimes': 1L, 'well': 1L, 'park,': 1L, 'time': 1L, 'very': 1L, 'the': 9L}, {'and': 1L, 'this': 3L, 'is': 1L, 'mom,': 1L, 'back': 1L, 'changes,': 1L, 'in': 1L, 'perfect!': 1L, 'would': 1L, 'doctor': 1L, \"it's\": 1L, 'to': 1L, 'enough': 1L, 'book': 2L, 'easy': 1L, 'recommend': 1L, 'feedings,': 1L, 'new': 2L, 'that': 1L, 'track': 1L, 'it': 1L, 'moms.': 1L, 'diaper': 2L, \"i'm\": 1L, 'sleep.': 1L, 'throw': 1L, 'a': 1L, 'made': 1L, 'for': 2L, 'i': 1L, 'of': 1L, 'so': 1L, 'keep': 1L, 'visits.': 1L, 'definitely': 1L, 'plus': 1L, 'time': 1L, 'small': 1L, 'the': 1L, 'first': 1L}, {'all': 1L, 'just': 1L, 'when': 2L, 'one.': 1L, 'front': 1L, 'paper': 1L, '6pm': 1L, 'provided.': 1L, 'before': 1L, 'perfect': 2L, 'fit': 1L, 'how': 2L, 'information.': 1L, 'day,': 1L, 'him': 1L, 'better': 1L, 'to': 9L, 'only': 1L, 'pretty': 2L, 'has': 1L, 'gave': 1L, 'real': 1L, 'shorthand,': 1L, '7': 2L, 'emergency': 1L, 'get': 1L, 'very': 1L, 'big': 1L, 'me': 1L, 'they': 1L, 'not': 1L, 'now': 1L, 'complain': 1L, 'entire': 1L, 'helpful': 1L, 'try': 1L, 'situation.': 1L, 'she': 4L, 'also,': 1L, 'each': 1L, 'small': 1L, 'works': 1L, 'page': 1L, \"isn't\": 1L, 'incomplete/inaccurate': 1L, 'because': 1L, 'me,': 1L, 'wohld': 1L, 'some': 2L, 'home': 1L, 'leave': 1L, 'for': 7L, 'space': 2L, 'section': 1L, 'behind': 1L, 'goes': 1L, 'ends': 1L, 'use': 2L, 'reported': 1L, 'phone.': 1L, 'nanny': 2L, 'wanted': 2L, 'on': 1L, 'about': 1L, 'her': 1L, 'getting': 2L, 'of': 6L, 'could': 1L, \"it's\": 1L, \"i'm\": 2L, 'out.': 1L, 'control': 1L, 'useful': 1L, 'info.': 1L, 'app': 1L, 'daycare/nanny/caregiver': 1L, '6.': 1L, 'deal.': 1L, 'down': 1L, 'little': 2L, 'from': 2L, 'additional': 1L, 'would': 2L, 'transfer': 1L, 'format.': 1L, 'there': 1L, 'two': 1L, 'much': 1L, 'too': 1L, 'way': 1L, '6': 1L, '6pm.': 1L, 'was': 2L, 'baby.': 1L, 'park': 1L, 'but': 2L, 'phone': 1L, 'with': 2L, 'info': 2L, 'this': 5L, 'originally': 1L, 'up': 1L, 'reviews': 1L, 'suppose': 1L, 'starts': 1L, 'problem': 1L, 'my': 4L, 'example': 1L, 'at': 2L, 'and': 5L, 'is': 3L, 'changes.': 1L, 'it': 2L, 'an': 2L, 'complaint:': 1L, 'something': 1L, 'have': 1L, 'in': 1L, 'if': 1L, 'information': 3L, 'documents': 1L, 'end': 1L, 'provide': 1L, 'solution!': 1L, '-': 6L, 'write': 1L, 'also': 2L, 'other': 1L, 'pad': 2L, 'take': 2L, 'you': 2L, 'fill': 1L, 'day': 1L, 'difficult': 1L, 'track': 1L, 'notebook': 1L, 'pouch': 1L, 'pages': 1L, 'a': 8L, '7am': 2L, 'tracking': 1L, 'remember': 1L, 'i': 7L, 'naps/feedings/diaper': 1L, 'contact': 1L, 'time': 1L, 'the': 15L, 'wanted.': 1L}, {'it.': 1L, 'info': 1L, 'what': 1L, 'exactly': 1L, 'useful': 1L, 'and': 1L, 'for': 1L, 'space': 1L, 'i': 1L, 'come': 1L, 'is': 1L, 'wanted!!': 1L, 'with': 1L, 'it': 1L, 'photos,': 1L, 'monthly': 1L, 'a': 1L, 'lot': 1L, 'of': 1L, 'stickers': 1L}, {'and': 3L, 'there': 1L, 'useful': 1L, 'calender': 2L, 'just': 1L, 'photo': 1L, 'is': 3L, 'placed.': 1L, 'it': 3L, 'whatever': 1L, 'one': 1L, 'date': 1L, 'as': 4L, 'well.': 1L, 'likes': 1L, 'have': 2L, 'fine': 1L, 'event': 1L, 'special': 1L, 'before': 1L, 'baby': 1L, 'write': 1L, 'what': 1L, 'do.': 1L, 'would': 1L, 'also': 1L, 'not': 1L, 'stickers': 1L, 'weight,': 1L, 'for': 5L, 'day.': 1L, 'to': 3L, 'only': 1L, 'does': 1L, 'asterisks': 1L, 'has': 1L, 'sticker': 1L, 'friend': 1L, 'happened': 1L, 'be': 1L, 'complaint': 1L, 'colorful': 1L, 'that': 2L, 'very': 2L, 'some': 1L, 'like,': 1L, 'but': 1L, 'boxes': 1L, 'son.': 1L, 'put': 1L, 'writing.': 1L, 'a': 3L, 'on': 2L, 'myself': 1L, 'room': 3L, 'i': 4L, 'many': 1L, 'second': 1L, 'height,': 1L, 'this': 1L, 'she': 1L, 'each': 2L, 'found': 1L, 'the': 1L, 'bought': 2L, 'my': 2L, 'page': 2L}, {'and': 1L, 'the': 2L, 'all': 1L, 'love': 1L, 'like': 1L, 'i': 2L, 'of': 2L, \"baby's\": 1L, 'little': 1L, 'too.': 1L, 'keep': 1L, 'this': 1L, 'track': 1L, 'can': 1L, 'you': 1L, 'stickers': 1L, 'illustrations,': 1L, 'firsts.': 1L, 'calender,': 1L}, {'and': 1L, 'this': 2L, 'there': 1L, 'one': 3L, 'second': 1L, 'are': 1L, 'calender': 1L, 'year': 1L, 'still': 1L, 'find': 1L, 'note': 1L, 'for': 2L, 'things': 1L, 'him.': 1L, 'better': 1L, 'to': 2L, 'only': 1L, 'got': 1L, 'cause': 1L, 'was': 2L, 'after': 1L, 'year.': 1L, 'they': 1L, 'wanted': 1L, 'than': 1L, 'i': 3L, 'many': 1L, 'could': 1L, 'turn': 1L, 'continue': 1L, 'so': 1L, 'did': 1L, 'the': 4L, 'first': 2L, '1.': 1L}, {'and': 5L, 'all': 3L, 'have': 1L, 'moments': 1L, 'in': 1L, 'it': 1L, 'second': 1L, 'something': 1L, 'questions': 1L, 'year': 2L, 'calendar': 2L, 'still': 1L, 'stickers': 1L, 'enjoyed': 1L, 'special': 2L, 'really': 2L, 'layout': 1L, 'want': 1L, 'to': 2L, \"it's\": 1L, 'since': 1L, '-': 2L, 'least': 1L, 'day.': 1L, 'doing': 1L, 'amazing': 1L, 'much': 1L, 'you': 1L, 'might': 1L, \"son's\": 1L, 'his': 1L, 'moments!': 1L, 'that': 1L, 'completed': 1L, 'tracking': 1L, 'every': 1L, 'milestone': 1L, 'not': 1L, 'wanted': 1L, 'those': 1L, 'like': 1L, 'a': 1L, 'milestones': 1L, 'for': 1L, 'i': 3L, 'of': 2L, \"he's\": 1L, 'simple': 1L, 'keep': 1L, 'recording': 1L, 'while': 1L, 'continue': 1L, 'so': 2L, 'things': 1L, 'fun': 1L, 'the': 4L, 'first': 1L, 'my': 1L, 'at': 1L}, {'and': 2L, 'cute': 1L, 'there': 2L, 'is': 1L, 'something': 1L, 'our': 1L, 'keep': 1L, 'out': 1L, 'option.': 1L, 'what': 1L, 'wanted': 1L, 'get': 1L, 'to': 2L, 'does': 1L, 'we': 2L, \"child's\": 1L, 'track': 1L, 'exactly': 1L, \"aren't\": 1L, 'a': 1L, 'milestones': 1L, 'this': 2L, 'of': 1L, 'choices': 1L, 'many': 1L, 'other': 1L, 'wanted.': 1L}, {'and': 3L, 'all': 1L, 'memories.': 1L, 'reference': 1L, 'do': 2L, 'is': 3L, 'hard': 1L, 'some': 1L, 'it': 2L, 'one': 1L, 'milestones...and': 1L, 'put': 1L, 'as': 2L, 'vs': 1L, 'have': 1L, 'year': 1L, 'calendar': 1L, 'find': 1L, 'down': 1L, 'out': 1L, 'little': 1L, 'to': 5L, 'much': 1L, 'that': 1L, 'had': 1L, 'two': 1L, 'write': 1L, 'everything': 1L, 'enough': 1L, 'book': 1L, 'way': 1L, 'finding': 1L, 'you': 1L, 'fill': 1L, 'across': 1L, 'so!': 1L, 'picture': 1L, 'only': 1L, 'jot': 1L, 'squares': 1L, 'on': 1L, 'track': 1L, 'big': 1L, 'spot': 1L, 'book.': 1L, 'great!': 1L, 'they': 1L, 'baby': 2L, 'years': 1L, 'change': 1L, 'a': 6L, 'ones!': 1L, 'great': 1L, 'has': 1L, 'in': 2L, 'like': 1L, 'this': 3L, 'of': 1L, 'later': 1L, 'well': 1L, 'second': 1L, 'keep': 1L, 'large': 1L, 'i': 5L, 'easier': 1L, 'calendar,': 1L, 'so': 2L, 'can': 2L, \"month's\": 1L, 'time': 1L, 'the': 5L, 'came': 1L, 'first': 1L}, {'and': 1L, 'cute': 1L, 'because': 2L, 'just': 1L, 'second-year': 2L, 'is': 1L, 'lack': 1L, 'some': 1L, 'it': 2L, 'one': 3L, 'certain': 1L, 'calendar.': 1L, 'finish': 1L, 'are': 1L, 'purchased': 1L, 'in': 1L, 'general,': 1L, 'calendar': 1L, 'stickers': 1L, 'really': 1L, 'for': 4L, 'come': 1L, 'old-fashioned': 1L, 'had': 1L, 'pages': 2L, 'write': 1L, 'to': 1L, 'only': 2L, 'other': 1L, 'pretty': 1L, 'hopefully': 1L, 'selection': 1L, 'got': 1L, 'out': 1L, 'was': 2L, 'an': 1L, 'available': 1L, 'son': 1L, 'looking.': 1L, 'okay': 1L, 'which': 1L, 'with': 3L, 'pens.': 1L, 'calendars': 2L, 'makes': 1L, 'they': 1L, \"aren't\": 1L, 'disappointed': 1L, 'purchasers.': 1L, 'a': 1L, 'on': 2L, 'daughter.': 1L, 'hard': 1L, 'i': 4L, 'of': 2L, 'ones.': 1L, 'will': 1L, 'this': 1L, 'future': 1L, 'so': 1L, 'glossy': 1L, \"it's\": 1L, 'very': 1L, 'the': 6L, 'my': 2L}, {'and': 4L, 'cute': 1L, 'stop': 1L, 'on': 2L, 'love': 1L, 'reocording': 1L, 'just': 1L, 'is': 2L, \"nature's\": 1L, 'year': 4L, 'one.': 1L, 'highly': 1L, 'helped': 1L, 'not': 1L, 'second': 2L, 'are': 2L, 'want': 1L, '1st': 1L, 'calendar': 2L, 'stickers': 1L, 'calendar!': 1L, 'out': 1L, 'perfect': 1L, 'recording': 1L, 'gender.': 1L, 'for': 3L, \"it's\": 1L, 'own.': 1L, 'there': 2L, 'to': 2L, 'wonderful': 1L, 'lullabies': 1L, 'recommend': 1L, 'might': 1L, 'events': 2L, \"son's\": 1L, 'continuing': 1L, 'his': 1L, 'that': 2L, 'with': 1L, \"didn't\": 1L, 'calendars': 1L, 'keeping.': 1L, 'plenty': 1L, 'baby': 1L, 'now': 1L, 'super': 1L, 'he': 1L, 'me': 1L, 'loved': 1L, 'milestones': 1L, 'brat': 1L, 'i': 4L, 'of': 6L, 'this': 2L, 'daily': 1L, 'thought': 1L, 'record': 2L, 'plus': 1L, 'either': 1L, 'have': 1L, 'life.': 1L, 'the': 1L, 'my': 2L, 'think': 1L, 'first': 1L}, {'and': 2L, 'dont': 1L, 'just': 1L, 'sticker': 1L, 'it': 1L, 'as': 1L, 'spaces': 1L, 'down,': 1L, 'have': 1L, 'actually': 1L, 'stickers': 1L, 'out': 1L, 'option.': 1L, 'comes': 1L, 'use': 1L, 'for': 3L, 'sit': 1L, 'scrap': 1L, 'mark': 1L, 'to': 3L, 'enough': 1L, 'ton': 1L, 'easy': 1L, 'scrapbook': 1L, 'borders': 1L, 'is': 1L, 'booking': 1L, 'well.': 1L, 'lot': 1L, 'very': 1L, 'who': 1L, 'new': 1L, 'includes': 1L, 'photos': 1L, 'haul': 1L, 'milestone': 1L, 'with': 1L, 'a': 3L, 'moms': 1L, 'especially': 1L, 'wife': 1L, 'this': 1L, 'of': 2L, 'photos,': 1L, 'calender.': 1L, 'supplies': 1L, 'firsts.': 1L, 'loves': 1L, 'time': 1L, 'the': 1L, 'options': 1L, 'etc,': 1L}, {'and': 2L, 'one-year': 1L, 'work': 1L, 'art': 1L, '-': 2L, 'keepsake.': 1L, '1st': 1L, 'nearing': 1L, 'son': 1L, 'calendar.': 1L, 'second': 1L, 'ago.': 1L, 'thanks': 1L, 'year': 3L, 'tender': 1L, 'calendar': 1L, 'stickers': 1L, 'fill': 1L, 'i': 1L, 'her': 3L, 'record': 1L, 'had': 1L, 'looking': 1L, 'to': 4L, 'wonderful': 1L, 'sweet': 1L, 'fill.': 1L, 'was': 3L, 'over': 1L, 'nice': 1L, 'it.': 1L, 'his': 2L, 'get': 1L, 'amazon': 1L, 'birthday': 1L, 'baby': 1L, 'unique': 1L, 'pages': 1L, 'milestones.': 1L, 'helpful': 1L, 'a': 6L, 'daughter': 1L, 'for': 3L, 'gift': 1L, 'this': 1L, 'when': 1L, 'up': 1L, 'able': 1L, 'old!': 1L, 'did': 1L, 'she': 3L, 'loves': 1L, 'my': 1L, 'receive': 1L, 'first': 2L}, {'and': 1L, 'remembering': 1L, 'tired': 1L, 'ate,': 1L, 'helped': 1L, 'not': 1L, 'as': 1L, 'through': 1L, 'long': 1L, 'mom,': 1L, 'useful!': 1L, 'inexpedient,': 1L, 'two': 1L, 'months.': 1L, 'how': 1L, 'new': 1L, 'a': 1L, 'me': 1L, 'baby': 1L, 'extremely': 1L, 'ago': 1L, 'this': 1L, 'definitely': 1L, 'the': 1L, 'first': 1L}, {'and': 2L, 'because': 1L, 'family': 1L, 'people': 1L, \"baby's\": 1L, 'is': 1L, 'some': 1L, 'it': 1L, 'one': 1L, 'see': 1L, 'washable!': 1L, 'in': 1L, 'star': 1L, 'your': 1L, 'perfect': 1L, 'just': 1L, 'less': 1L, '-': 1L, '1': 1L, 'to': 1L, 'white': 1L, 'gave': 1L, 'diversity': 1L, 'not': 1L, ';)': 1L, 'than': 1L, 'like': 1L, 'books,': 1L, 'of': 1L, 'favorite': 1L, 'i': 1L, \"i'd\": 1L, 'the': 1L, 'typical': 1L, 'first': 1L}, {'family': 1L, 'over': 1L, 'it': 2L, 'seat': 1L, 'hook': 1L, 'members.': 1L, 'go': 1L, 'your': 1L, 'attach': 1L, '-': 1L, 'to': 3L, 'book': 1L, 'way': 1L, 'has': 1L, 'wont': 1L, 'get': 1L, 'lost.': 1L, 'how': 1L, 'a': 1L, 'great': 1L, 'like': 1L, 'i': 1L, 'car': 1L, 'stroller': 1L, 'the': 1L, 'or': 1L}, {'beautiful': 1L, 'saying': 1L, 'love': 1L, 'it': 1L, 'are': 1L, 'little': 2L, 'interacting': 1L, 'when': 1L, 'actually': 1L, 'to': 1L, 'you': 1L, 'it.': 1L, 'then': 1L, 'attention': 1L, 'story': 1L, 'book.': 1L, 'and': 2L, 'finished': 1L, 'baby': 2L, 'hold': 1L, 'with': 1L, 'pages': 1L, 'a': 1L, 'on': 1L, 'great': 1L, 'short': 1L, 'you....keeps': 1L, 'i': 1L, 'of': 1L, 'turn': 1L, 'can': 1L, 'the': 4L}, {'and': 1L, 'page.': 1L, 'says': 1L, 'cute': 1L, 'is': 1L, 'money.': 1L, 'it': 2L, 'born': 1L, 'are': 1L, 'open': 1L, 'before.': 1L, 'for': 1L, \"it's\": 1L, 'there': 1L, 'to': 4L, 'book': 1L, 'worth': 1L, 'be': 1L, '9+': 1L, 'very': 1L, 'use': 1L, 'but': 1L, 'every': 1L, 'baby': 1L, 'wait': 1L, 'box': 1L, 'on': 2L, 'i': 1L, 'months': 1L, 'this': 1L, 'try': 1L, 'interactive!': 1L, 'so': 2L, 'flaps': 1L, 'the': 2L, 'my': 1L, \"can't\": 1L}, {'and': 3L, 'chew': 1L, 'one-year-old': 1L, 'house!': 1L, 'love': 1L, 'just': 1L, 'simple': 1L, 'over': 1L, 'it': 3L, 'rip': 1L, 'carry': 1L, 'paper': 1L, 'learning': 1L, 'chunks': 1L, 'our': 1L, '\"puppy,\"': 1L, 'open': 1L, 'out': 1L, '\"daddy,\"': 1L, 'for': 1L, 'all': 1L, \"it's\": 1L, 'bite': 1L, 'book': 2L, 'board': 1L, 'got': 1L, 'is': 1L, 'nice': 1L, 'it.': 2L, 'we': 2L, 'that': 2L, 'she': 5L, 'little': 1L, 'it,': 2L, 'one.': 1L, 'words': 1L, 'pull': 1L, 'a': 2L, 'on': 2L, 'like': 3L, 'this': 1L, 'of': 1L, 'flaps': 1L, 'so': 1L, 'can': 2L, 'loves': 2L, '\"mommy,\"': 1L, 'the': 2L, 'etc.': 1L, 'or': 1L, \"can't\": 1L}, {'and': 2L, 'overnight.': 1L, 'is': 2L, 'detergent.': 1L, 'older.': 1L, '6months': 1L, 'in': 1L, 'perfect': 1L, 'and/or': 1L, 'for': 1L, 'material.': 1L, 'only': 1L, 'book': 2L, 'was': 1L, 'then': 1L, 'colorful': 1L, \"didn't\": 1L, 'let': 1L, 'dunked': 1L, 'strong': 1L, 'pages': 1L, 'dry': 1L, 'like': 1L, 'i': 2L, 'smell': 1L, 'thing': 1L, 'of': 1L, 'dyes': 1L, 'the': 6L}, {'page.': 1L, \"couldn't\": 1L, 'be': 1L, 'is': 1L, 'moving': 1L, 'books': 2L, 'drool...so': 1L, 'another': 1L, 'your': 1L, 'flap': 1L, 'perfect': 1L, 'looking': 1L, 'what': 1L, 'adds': 1L, 'for': 3L, 'been': 1L, 'plastic': 1L, 'baby!': 1L, 'to': 1L, 'book': 3L, 'babies!': 1L, \"old's\": 1L, 'which': 1L, 'options.': 1L, 'damaged': 1L, 'cloth': 2L, 'part': 1L, 'every': 1L, 'by': 1L, '10-month': 1L, 'a': 1L, 'on': 1L, 'great': 1L, 'level': 1L, 'this': 2L, \"i'd\": 1L, 'were': 1L, 'fun': 1L, 'book--a': 1L, 'interactive': 1L, 'my': 3L, 'or': 2L, 'usual': 1L}, {'all': 1L, 'being': 1L, 'course': 1L, 'still': 1L, 'perfect': 1L, 'now': 2L, \"he's\": 1L, 'to': 1L, 'only': 2L, 'board': 1L, 'teaching': 1L, 'his': 2L, 'lamaze': 2L, 'nearly': 1L, 'they': 1L, 'not': 2L, 'one': 2L, 'like': 1L, 'this': 4L, 'them,': 1L, 'enjoy': 1L, 'chew': 1L, 'because': 1L, 'books': 1L, 'are': 2L, 'out': 1L, 'for': 4L, 'parent.i': 1L, 'does': 1L, 'reading': 1L, 'discovery': 1L, 'peek': 1L, 'we': 2L, 'of': 3L, 'book,': 1L, 'members': 1L, 'infant.': 1L, 'on': 1L, 'about': 1L, 'etc.': 1L, \"i'd\": 1L, 'liked': 1L, 'love': 1L, 'family': 1L, 'son': 3L, 'names': 1L, \"doesn't\": 1L, 'additional': 1L, 'would': 1L, 'two': 1L, 'lot': 1L, 'was': 3L, 'flap': 1L, 'series,': 1L, 'that': 3L, 'much,': 1L, 'but': 4L, 'lift': 1L, 'child': 1L, 'with': 2L, 'he': 3L, 'loved': 1L, 'look': 1L, 'books,': 1L, 'cat,': 1L, 'as': 3L, 'well.': 1L, 'learn': 1L, 'fun': 2L, 'favorites.': 1L, 'my': 3L, 'and': 6L, 'sister,': 1L, \"didn't\": 1L, 'it': 6L, 'an': 1L, 'say': 1L, 'issue.': 1L, 'at': 1L, 'have': 1L, 'grandparents,': 1L, 'book': 2L, 'destroy': 1L, 'used': 1L, 'again.': 1L, 'farm': 1L, 'a': 3L, 'i': 1L, 'dog': 1L, 'boo,': 1L, 'the': 5L, 'playing': 1L}, {'and': 1L, 'it': 3L, 'our': 1L, 'for': 1L, '&': 1L, 'own.': 1L, 'when': 1L, 'to': 1L, 'him,': 1L, 'book': 1L, 'enjoys': 2L, 'has': 1L, '...': 1L, 'his': 1L, 'loved': 1L, 'read': 1L, 'baby': 1L, 'now': 1L, 'with': 1L, 'he': 1L, 'a': 1L, 'on': 1L, 'this': 1L, 'i': 1L, 'while': 1L, 'loves': 1L, 'playing': 1L}, {}, {'a': 1L, 'brushing': 1L, 'play': 1L, 'kids': 1L, ':)': 1L, 'almost': 1L, 'with': 1L, 'haha': 1L, 'son': 1L, 'too': 1L, 'to': 1L, 'book': 1L, 'let': 1L, 'likes': 1L, 'of': 1L, 'the': 1L, \"elmo's\": 1L, 'my': 1L, 'teeth.': 1L, 'nice': 1L}, {'and': 3L, 'imaginative': 1L, 'old': 1L, 'grandchildren.': 1L, 'it': 2L, 'through': 1L, 'are': 1L, 'year': 1L, 'go': 1L, 'love': 1L, 'would': 1L, 'sit': 1L, 'pictures': 1L, 'young': 1L, '.': 1L, 'to': 1L, 'book': 1L, 'themselves': 1L, 'appeal': 1L, 'was': 1L, 'buy': 1L, 'again!': 1L, 'birthday': 1L, 'they': 1L, 'children.': 1L, '2': 1L, 'by': 1L, 'present': 1L, 'a': 1L, 'for': 1L, 'this': 2L, 'will': 1L, 'the': 1L, 'my': 1L, 'page': 2L}, {'and': 3L, 'cute': 1L, 'rating': 1L, 'have': 1L, 'just': 1L, 'give': 1L, 'battery': 1L, 'is': 1L, \"disappointment....it's\": 1L, 'it': 6L, 'dead': 1L, 'down': 1L, 'batteries': 1L, 'growled': 1L, 'other': 1L, 'something': 1L, 'giggled': 1L, 'in': 1L, 'handle': 1L, 'saw': 1L, 'find': 1L, 'simple': 1L, 'if': 2L, 'even': 1L, 'would': 2L, 'no': 1L, \"it's\": 1L, 'absolutely': 1L, 'when': 1L, 'now!': 1L, 'actually': 1L, 'to': 2L, 'going': 1L, '5': 1L, 'take': 1L, 'mail': 1L, 'adorable': 1L, 'kenzie,': 1L, 'star': 1L, 'was': 2L, 'bear': 1L, 'back': 1L, 'how': 1L, 'but': 1L, 'got': 1L, 'was!': 1L, 'such': 1L, 'new': 1L, 'day': 1L, 'a': 4L, 'super': 1L, 'like': 1L, 'gift': 1L, 'this': 1L, 'my': 1L, 'could': 1L, 'as': 2L, 'excited': 1L, 'granddaughter,': 1L, 'i': 6L, 'suppose': 1L, 'place': 1L, 'the': 3L, 'to!': 2L, 'where': 1L, 'or': 1L, \"can't\": 1L}, {'and': 4L, 'soft': 1L, 'all': 1L, 'would': 1L, 'hides': 1L, 'elmo': 3L, 'too.': 1L, 'is': 5L, 'it': 2L, 'one': 1L, 'illustrated': 1L, 'baby': 1L, 'featured': 1L, 'street': 1L, 'are': 1L, 'another': 1L, 'beautifully': 1L, 'fun,': 1L, '(which': 1L, 'page,': 1L, 'seemed': 1L, 'perfect': 1L, 'little': 1L, 'lovers': 1L, 'because': 1L, 'price).': 1L, 'for': 3L, 'twinkle': 1L, 'absolutely': 1L, 'character': 1L, 'right:': 1L, 'also': 2L, 'time.': 1L, 'book': 3L, 'which': 1L, 'recommend': 1L, 'he': 1L, 'was': 1L, 'happy': 1L, 'available': 1L, 'centric': 1L, '\"reads\"': 1L, 'to': 1L, 'that': 1L, 'each': 1L, 'amazon': 1L, '\"twinkle,': 1L, 'everywhere': 1L, 'characters': 1L, 'street/elmo': 1L, 'the': 3L, 'great,': 1L, 'a': 1L, 'on': 2L, 'great': 1L, 'main': 1L, 'takes': 1L, 'her.': 1L, 'i': 2L, 'my': 2L, 'say': 1L, 'elmo\"': 1L, 'sesame': 2L, 'this': 2L, 'while': 1L, 'so': 2L, 'loves': 1L, 'of': 2L, \"i'm\": 1L, 'nice': 1L, 'interactive,': 1L, 'other': 1L}, {'and': 2L, 'bright': 1L, 'love': 1L, 'is': 1L, 'colors': 1L, 'are': 1L, 'any': 1L, \"doesn't\": 1L, 'for': 2L, 'two': 1L, 'book': 1L, 'lastly,': 1L, 'baby,': 1L, 'bought': 1L, 'who': 1L, 'baby': 1L, 'showers!': 1L, 'recent': 1L, 'great': 1L, 'i': 1L, 'soft': 1L, 'elmo!': 1L, 'the': 2L, 'interactive,': 1L, 'beautiful.': 1L}, {'and': 2L, 'another': 1L, 'elmo': 1L, 'is': 2L, 'one': 1L, 'creative.': 1L, 'softplay': 1L, 'fun,': 1L, 'birds': 1L, 'variety': 1L, 'two': 1L, 'to': 1L, 'only': 1L, 'book': 2L, 'has': 1L, 'bird': 1L, 'more': 2L, 'we': 2L, 'get': 1L, 'big': 2L, 'book,': 1L, 'but': 1L, 'wanted': 1L, 'friends': 1L, 'like': 1L, 'this': 1L, 'books.': 1L, 'found': 1L, 'the': 3L}, {'and': 1L, 'a': 1L, 'little': 1L, 'soft.': 1L, 'safe.': 1L, 'for': 1L, 'cute': 1L, 'this': 1L, \"it's\": 2L, 'is': 2L, 'easy': 1L, 'story': 1L, 'book.': 1L, 'handle.': 1L, 'to': 1L, 'it': 1L, 'peek-a-boo': 1L, 'baby': 1L}, {'and': 7L, 'old': 1L, 'elmo': 1L, 'is': 1L, 'laughs': 1L, 'we': 3L, 'month': 1L, 'say': 1L, 'books': 1L, 'have': 1L, 'find': 1L, 'different': 1L, '&#34;peekaboo': 1L, 'for': 1L, 'few': 1L, 'to': 1L, '3': 1L, '5': 1L, 'stars': 1L, 'it': 1L, 'over': 2L, 'sure.': 1L, 'smiles': 1L, 'it,': 1L, 'elmo!&#34;': 1L, 'colorful': 1L, 'read': 1L, 'book.': 1L, 'read.': 1L, 'most': 1L, 'every': 1L, 'baby': 1L, 'son': 1L, 'he': 1L, 'a': 1L, 'adores': 1L, 'this': 2L, 'my': 1L, 'so': 1L, 'loves': 1L, 'time': 1L, 'fun': 1L, 'the': 1L, 'soft': 1L}, {'book!': 2L, 'great': 1L, 'colorful': 1L, 'for': 1L, '&': 1L, 'very': 1L, 'make': 1L, 'bright': 1L, 'son': 1L, 'this': 2L, 'toddlers.': 1L, 'cute': 1L, 'loves': 1L, 'babies': 1L, 'illustrations': 1L, 'the': 1L, 'my': 1L, 'interactive': 1L}, {'and': 2L, 'over.': 1L, 'all': 1L, 'love': 2L, 'they': 8L, 'safe.': 1L, 'elmo': 1L, 'mos,': 1L, 'play': 1L, 'high': 1L, 'as': 1L, 'are': 3L, 'still': 1L, 'if': 1L, 'use': 1L, 'now': 1L, 'for': 1L, 'how': 1L, 'before': 1L, 'when': 2L, 'two': 1L, 'to': 2L, 'time.': 1L, '9': 1L, 'got': 1L, 'reading': 1L, 'bought': 1L, 'soft,': 1L, 'we': 1L, 'buy': 1L, 'blocks': 1L, 'see': 1L, 'book,': 1L, 'it': 1L, 'them': 1L, 'granddauchildren': 1L, 'kiss': 1L, 'fall': 1L, 'baby': 1L, 'falls': 1L, 'with': 2L, 'stack': 1L, 'a': 1L, 'on': 1L, 'elmo.': 1L, 'i': 1L, 'present.': 1L, 'so': 1L, 'can': 1L, 'were': 1L, 'fun': 1L, 'them.': 2L, 'the': 4L, 'them,': 1L, 'having': 1L}, {'and': 5L, 'chew': 1L, 'all': 1L, 'the,': 2L, 'have': 1L, 'over': 2L, \"didn't\": 1L, 'baby': 1L, 'teething': 1L, 'crawling.': 1L, 'letting': 1L, 'bank.': 1L, 'for': 3L, 'to': 2L, 'their': 1L, 'encourage': 1L, 'setting': 1L, 'ruining': 1L, 'babies': 1L, 'christmas': 1L, 'them': 2L, 'great': 3L, 'about': 1L, 'break': 1L, 'they': 1L, 'rolling': 1L, 'entertaining': 1L, 'younger': 1L, 'off': 1L, 'gift': 1L, 'these': 1L, 'worrying': 1L, 'droll': 1L, 'i': 1L, 'without': 1L, 'were': 2L, 'them.': 1L, 'the': 2L, 'side': 1L}, {'a': 1L, 'boring.': 1L, 'would': 1L, 'to': 1L, 'i': 1L, 'of': 1L, 'is': 2L, 'money.': 1L, 'it': 2L, 'this': 1L, 'granddaughter.': 1L, 'book': 1L, 'nothing': 1L, 'recommend': 1L, 'not': 1L, 'waste': 1L, 'my': 1L, 'stimulate': 1L}, {'old': 1L, 'want': 1L, 'show': 1L, 'is': 2L, 'hard': 1L, 'it': 1L, 'one': 1L, 'not': 1L, 'books': 1L, 'looks': 1L, 'have': 1L, 'year': 1L, 'images': 1L, 'our': 1L, 'find': 1L, 'looking': 1L, 'what': 3L, 'animals/objects': 1L, 'unrealistic': 1L, '1': 1L, 'to': 2L, 'for!!when': 1L, 'is,': 1L, '\"lion\"': 1L, 'many': 1L, 'real': 2L, 'we': 3L, 'fantastic.': 1L, 'that': 1L, 'portrayals': 1L, 'like,': 1L, 'exactly': 1L, 'lion...': 1L, 'but': 1L, 'cloth': 1L, 'were': 1L, 'nothing': 1L, 'teach': 1L, 'with': 1L, 'him': 1L, 'like': 1L, 'a': 4L, 'on': 1L, 'actual': 1L, 'look': 1L, 'this': 1L, 'lion.': 1L, 'so': 2L, 'them!': 1L, 'of': 1L, 'drawing': 1L}, {'is': 1L, 'something': 1L, 'cute...so': 1L, '&#34;': 1L, 'for': 1L, 'no': 1L, 'memories': 1L, 'there': 1L, 'young': 1L, 'destroying..many': 1L, 'reading': 1L, 'happy': 2L, 'them': 1L, 'very': 1L, 'little': 1L, 'chance': 1L, 'they': 1L, 'child,': 1L, 'of': 1L, 'read&#34;': 1L, 'can': 1L, 'the': 1L, 'or': 1L}, {'and': 1L, 'be': 1L, 'great': 1L, 'love': 1L, 'daughter': 1L, 'this': 1L, \"it's\": 1L, 'when': 1L, 'it!': 1L, 'will': 1L, 'me': 1L, 'so': 1L, 'a': 2L, 'our': 1L, 'fun': 1L, 'born.': 1L, 'calendar': 1L, 'bought': 1L, 'was': 1L, 'friend': 1L, 'momento.': 1L}, {'a': 2L, 'and': 1L, 'little': 1L, 'milestones': 1L, 'especially': 1L, 'for': 1L, 'all': 1L, 'with': 1L, 'of': 1L, 'first-time': 1L, 'one,': 1L, 'up': 1L, 'keep': 1L, 'to': 1L, 'mom.': 1L, 'easy': 1L, 'quick': 1L, 'the': 1L, 'busy,': 1L, 'first': 1L}, {'remembering': 1L, 'and': 4L, 'reviews.': 1L, 'pictures.': 1L, 'personalization': 1L, 'am': 1L, 'back': 1L, 'month': 1L, 'down': 1L, 'year': 1L, 'calendar': 1L, 'throughout': 1L, 'perfect': 1L, 'based': 1L, 'for': 3L, 'to': 1L, 'memories': 1L, 'did.': 1L, \"baby's\": 1L, 'spots': 1L, 'jotting': 1L, 'also': 1L, 'high': 1L, 'low': 1L, 'has': 1L, 'happy': 1L, 'be': 1L, 'on.': 1L, 'that': 1L, '&#34;firsts&#34;.': 1L, 'quick': 1L, 'one': 1L, 'a': 1L, 'on': 2L, 'dates': 1L, 'look': 1L, 'i': 3L, 'of': 1L, 'will': 1L, 'this': 1L, 'so': 1L, 'searched': 1L, 'fun': 1L, 'the': 2L, 'settled': 1L, 'first': 1L}, {'enjoy': 1L, 'would': 1L, 'give': 1L, 'children.': 1L, 'is': 2L, 'it': 1L, 'one': 1L, 'born': 1L, 'as': 3L, 'are': 1L, 'want': 1L, 'from': 1L, 'i': 1L, 'for': 2L, 'their': 1L, 'had': 1L, 'looking': 1L, 'to': 3L, 'parents': 2L, 'themselves.': 1L, 'new': 1L, 'you': 1L, 'start': 1L, '&#34;firsts&#34;': 1L, 'good': 1L, 'that': 1L, 'very': 2L, 'calendars': 1L, 'chart': 1L, 'soon': 1L, '&#34;firsts&#34;.': 1L, 'five': 1L, 'they': 3L, 'baby': 1L, 'now': 1L, 'beginning': 1L, 'mother.': 1L, 'a': 2L, 'especially': 1L, 'gift': 1L, 'this': 1L, 'of': 2L, 'up': 1L, 'these': 1L, 'so': 1L, 'can': 1L, 'each': 1L, 'the': 3L, 'my': 1L}, {}, {'and': 2L, 'it.': 1L, 'all': 1L, 'love': 1L, 'version': 1L, 'absolutely': 1L, 'it': 1L, 'born': 1L, 'purchased': 1L, 'in': 1L, 'for': 1L, 'when': 1L, 'same': 1L, 'to': 1L, 'book': 1L, 'scripture': 1L, 'daughter-in-law': 1L, 'again.': 1L, 'was': 2L, 'thrilled': 1L, 'baby': 1L, 'he': 1L, 'boy': 1L, 'grandson': 1L, 'i': 1L, 'of': 1L, 'receive': 1L, 'the': 3L, 'my': 2L}, {'simple': 1L, 'down.': 1L, 'verses': 1L, 'as': 1L, 'at': 1L, 'in': 1L, 'pages.': 1L, 'law.': 1L, 'for': 1L, 'bottom': 1L, 'memories': 1L, 'to': 1L, 'bought': 1L, 'it.': 1L, 'but': 1L, 'important': 1L, 'put': 1L, 'a': 2L, 'loved': 2L, 'daughter': 1L, 'gift': 1L, 'i': 1L, 'of': 1L, 'place': 1L, 'she': 1L, 'the': 1L, 'my': 1L}, {'and': 4L, 'cute': 1L, 'liked': 1L, 'when': 2L, 'is': 3L, 'gift!': 1L, 'one.': 1L, 'one': 1L, 'locks': 1L, 'want': 1L, 'your': 2L, 'perfect': 1L, 'little': 2L, 'for': 4L, 'also': 1L, 'memories': 1L, 'had': 1L, 'hair....etc!': 1L, 'to': 2L, 'asking': 1L, 'foot': 1L, 'which': 1L, 'main': 1L, 'questions.': 1L, 'you': 1L, 'has': 1L, 'book!': 1L, 'we': 1L, 'prints': 1L, 'even': 1L, 'it': 2L, 'reason': 1L, 'keepsakes': 1L, 'baby': 3L, 'hand': 1L, 'why': 1L, 'bigger': 1L, 'a': 2L, 'loved': 1L, 'great': 1L, 'gets': 1L, 'remember': 1L, 'places': 1L, 'born': 1L, 'this': 2L, 'of': 1L, 'put': 1L, 'omg.....we': 1L, 'shower': 1L, 'so': 1L, 'place': 1L, 'pockets': 1L, 'starts': 1L, 'the': 2L, 'first': 1L}, {'pink': 1L, 'pastel': 1L, 'life': 1L, 'love': 1L, 'to': 1L, 'i': 1L, 'with': 1L, 'cherished': 1L, 'book,': 1L, 'great': 1L, 'granddaughters': 1L, 'record': 1L, 'beautiful': 2L, 'in': 1L, 'it': 1L, 'the': 1L, 'color.': 1L, 'my': 1L, 'times': 1L}, {'and': 2L, 'mini': 1L, 'happy!': 1L, 'is': 2L, 'one.': 1L, 'an': 1L, 'firsts...and': 1L, 'really': 1L, 'maternity': 1L, 'hair,': 1L, 'in': 1L, 'fill': 1L, 'perfect': 1L, 'bracelet...really': 1L, 'for': 1L, 'with': 1L, 'family,': 1L, 'looking': 1L, 'to': 2L, 'book': 1L, 'lot': 1L, ':': 1L, 'was': 1L, 'happy': 1L, 'preserve': 1L, 'flammish)': 1L, 'french': 1L, 'baby': 1L, 'purchase.': 1L, 'info': 1L, 'i': 1L, 'of': 1L, 'this': 2L, 'pockets': 1L, 'english': 1L, 'the': 2L, 'daddy': 1L, \"(i'm\": 1L}, {'and': 2L, 'photographs': 1L, 'detailed': 1L, 'everyone': 1L, 'is': 1L, 'child': 1L, 'it': 1L, 'serving': 1L, 'through': 1L, 'are': 1L, 'questions': 1L, 'in': 1L, '\"my': 1L, 'its': 1L, 'perfect': 1L, 'kindergartener.': 1L, 'for': 2L, 'record': 2L, 'your': 2L, 'kindergarten': 2L, 'to': 3L, 'book': 2L, 'way': 1L, 'recommend': 1L, 'answer': 1L, 'receiving': 1L, 'was': 1L, 'surprised': 1L, \"one's\": 1L, 'entitled,': 1L, \"parent.i'd\": 1L, \"child's\": 1L, 'very': 1L, 'memory': 1L, 'upon': 1L, 'important': 1L, 'purpose': 1L, 'life.': 1L, 'with': 1L, 'pleasantly': 1L, 'a': 1L, 'i': 1L, 'of': 1L, 'experience': 1L, 'this': 2L, 'while': 1L, 'time': 1L, 'fun': 1L, 'year\".': 1L, 'the': 4L, 'descriptions': 1L}, {'and': 1L, 'already': 1L, 'it': 1L, 'years': 1L, 'see': 1L, 'questions': 1L, 'stumbled': 1L, 'how': 1L, 'answering': 1L, 'answered': 1L, 'memory': 1L, 'questions.': 1L, 'has': 1L, 'be': 1L, 'to': 2L, 'started': 1L, 'upon': 1L, 'back': 1L, 'son': 1L, 'the': 1L, 'glad': 1L, 'he': 1L, 'a': 1L, 'great': 1L, 'look': 1L, 'i': 2L, 'later': 1L, 'think': 1L, 'will': 1L, 'these': 1L, 'so': 1L, \"i'm\": 1L, 'my': 1L, 'gem.': 1L}, {'and': 1L, 'page.': 1L, 'old': 1L, 'just': 2L, 'character': 1L, 'is': 1L, 'it': 1L, 'son.': 1L, 'month': 1L, 'as': 1L, 'have': 1L, 'toy': 1L, \"he's\": 1L, 'when': 1L, 'long': 1L, 'pages': 1L, 'few': 2L, 'enough': 1L, 'book': 2L, 'stuffed': 1L, 'elephant': 1L, 'neat': 1L, 'be': 1L, 'we': 1L, 'attention': 1L, 'to': 3L, '6': 1L, 'realization': 1L, 'words': 1L, 'with': 1L, 'between': 1L, 'association': 1L, 'a': 2L, 'short': 1L, 'older': 1L, 'of': 2L, 'well': 1L, 'see': 1L, 'keep': 1L, 'will': 1L, 'so': 1L, 'each': 1L, 'the': 7L, 'my': 1L}, {'and': 1L, 'is': 1L, 'gift.': 1L, 'pretty,.': 1L, 'for': 1L, 'also': 1L, 'recommend': 1L, 'gives': 1L, 'be': 1L, 'used': 1L, 'very': 1L, 'it': 3L, 'years...i': 1L, 'a': 3L, 'great': 1L, 'made': 1L, 'this': 1L, 'light': 1L, 'well': 1L, 'will': 1L, 'highly.': 1L, 'nice': 1L, 'makes': 1L}, {'affordable': 1L, 'try': 1L, '!easy': 1L, 'and': 2L, 'for': 1L, 'wall': 1L, 'spring': 1L, 'a': 1L, '...fine': 1L, 'up': 1L, '**********': 1L, 'room..': 1L, 'decals': 1L, 'this': 1L, ',fun': 1L, 'brightens': 1L, '5+': 1L, 'quality': 1L, 'project': 1L, 'any': 1L, 'out': 1L}, {'all': 1L, 'because': 1L, 'reason:small': 1L, 'wall': 1L, 'money': 1L, 'is': 1L, 'it': 1L, 'one': 1L, 'second': 1L, 'in': 2L, 'apply': 1L, 'flowers': 1L, 'flower': 1L, 'floor': 1L, 'when': 1L, 'to': 1L, 'only': 1L, 'you': 1L, 'waste': 1L, 'roll.': 1L, 'most': 1L, 'fell': 1L, 'know': 1L, 'pieceyou': 1L, 'day': 1L, 'a': 1L, 'on': 2L, 'sizehard': 1L, 'of': 1L, 'see': 1L, 'morning': 1L, 'will': 1L, 'part': 1L, 'how': 1L, 'the': 4L}, {'and': 1L, 'wall': 1L, 'coming': 1L, 'decals': 1L, 'as': 1L, 'thick': 1L, 'recommend.': 1L, 'again': 1L, 'would': 2L, 'literally': 1L, 'stayed': 1L, 'plastic': 1L, 'stuck': 1L, '5': 1L, 'was': 1L, 'then': 1L, 'almost': 1L, 'started': 1L, 'peeling': 1L, 'like': 1L, 'stick!': 1L, 'not': 2L, 'off': 1L, 'off.': 1L, 'purchase': 1L, 'about': 1L, 'applying': 1L, 'for': 1L, 'i': 1L, 'them!': 1L, 'were': 2L, 'the': 3L, 'minutes': 1L, 'or': 1L}, {'and': 3L, 'fantastic': 1L, 'themed': 1L, 'winnie': 1L, 'paintwork.': 1L, 'cost': 1L, 'at': 1L, 'in': 1L, '&#34;look&#34;': 1L, 'stickers': 2L, 'impressed': 1L, 'decor': 1L, 'with.': 1L, \"don't\": 1L, '-': 1L, 'seamless': 1L, 'to': 1L, 'that': 1L, 'easy': 1L, 'new': 1L, 'was': 1L, 'a': 1L, 'option': 1L, 'get': 1L, 'very': 4L, 'stick': 1L, 'they': 2L, 'not': 1L, 'pooh': 1L, 'wall': 2L, 'like': 1L, 'zealand': 1L, 'on': 3L, 'look': 1L, 'effective': 1L, 'i': 2L, 'all.': 1L, 'could': 1L, 'these': 2L, 'were': 2L, 'professional': 1L, 'the': 3L}, {'page.': 1L, 'on': 1L, 'about': 1L, 'said': 1L, 'and': 1L, 'i': 2L, 'came': 1L, 'ir': 1L, 'grat': 1L, 'satisfied': 1L, 'reccomend': 1L, 'very': 1L, 'as': 1L, 'product,': 2L, 'it': 1L, 'follow': 1L, 'more.': 1L, 'highly': 1L, 'design,': 1L, 'the': 2L, 'buying': 1L}, {'love': 1L, 'chain': 1L, 'jesus': 1L, 'lives!': 1L, 'in': 1L, 'need': 1L, 'our': 1L, 'divine': 3L, 'your': 1L, 'jesuswho': 1L, 'for': 1L, 'pray': 1L, 'god': 1L, 'to': 1L, 'offers': 1L, 'neck.': 1L, 'you': 1L, 'nice': 1L, 'an': 1L, 'around': 1L, 'mercy': 2L, 'very': 1L, 'it!': 1L, 'pendant': 1L, 'mercy.': 1L, 'now': 1L, 'him': 1L, 'on': 1L, 'of': 2L, 'country.': 1L, 'us': 1L, 'ocean': 1L, 'represents': 1L, 'my': 1L}, {\"i'll\": 1L, 'soft': 1L, 'right': 1L, 'love': 1L, 'simple': 1L, 'wipes.': 2L, 'are': 3L, 'changes.': 1L, 'our': 1L, 'done.': 1L, 'find': 1L, 'and': 4L, 'for': 2L, 'ordering': 1L, 'get': 1L, 'now!': 1L, 'actually': 1L, 'other': 1L, 'more': 1L, 'a': 2L, 'them': 2L, 'million': 1L, 'that': 1L, 'price': 1L, 'after': 1L, 'uses': 1L, 'know': 1L, 'they': 3L, 'baby': 1L, 'during': 1L, 'reusable': 1L, 'dry': 1L, 'great': 1L, 'these': 1L, 'of': 1L, 'days': 1L, 'i': 2L, 'so': 1L, 'clean': 1L, \"i'm\": 1L, 'my': 1L, 'diaper': 2L}, {'and': 2L, 'thought,': 1L, 'smaller': 1L, 'just': 1L, 'is': 1L, 'it': 2L, 'wall.': 1L, 'looks': 1L, 'measurements.': 1L, 'what': 1L, 'was': 2L, 'nice': 1L, 'that': 1L, 'but': 1L, 'not': 1L, 'bit': 1L, 'than': 1L, 'a': 1L, 'on': 1L, 'great': 1L, 'i': 1L, 'fault': 1L, 'taking': 1L, 'the': 1L, 'my': 2L}, {'and': 2L, 'old': 1L, 'significantly': 1L, 'them': 1L, 'one': 1L, 'high': 1L, 'as': 1L, 'are': 1L, 'broken': 1L, 'year': 1L, 'seem': 1L, 'open': 3L, 'size': 1L, 'given': 1L, 'for': 1L, 'needed': 1L, 'package...': 1L, 'that': 1L, 'able': 1L, 'their': 1L, 'only': 1L, 'of': 2L, 'safety': 1L, 'normal': 1L, '6': 1L, 'pins': 3L, 'new': 1L, 'learned': 1L, 'has': 1L, 'was': 2L, 'bought': 1L, 'we': 2L, 'his': 1L, 'to': 4L, 'though': 1L, 'price': 1L, 'night': 1L, 'use': 1L, 'clothes.': 1L, 'break': 1L, 'how': 1L, 'bit': 1L, 'son': 1L, 'than': 1L, 'he': 2L, 'a': 1L, 'on': 1L, 'open.': 1L, 'autistic': 1L, 'sturdy': 1L, 'these': 1L, 'recall': 1L, \"hasn't\": 1L, 'shipping': 1L, 'side': 1L, 'i': 1L, 'reasonable': 1L, 'time': 1L, 'the': 4L, 'more': 2L, 'my': 1L, 'or': 1L, 'once': 1L}, {'and': 1L, 'duty--able': 1L, 'quality--worked': 1L, 'good': 1L, 'fine--heavy': 1L, 'to': 1L, 'in': 1L, 'no': 1L, 'these': 1L, 'others': 1L, 'needed': 1L, 'as': 1L, 'used': 1L, 'way': 1L, 'were': 1L, 'need': 1L, 'be': 1L, 'my': 1L, 'any': 1L, 'filled': 1L}, {'and': 1L, 'a': 3L, 'great': 2L, 'has': 1L, 'colors': 1L, 'for': 1L, 'dozen.': 1L, 'that': 1L, 'lots': 1L, 'of': 1L, 'easy': 1L, 'bargain': 1L, 'to': 1L, 'bright': 1L, 'safety': 1L, 'pin': 1L, 'uses.': 1L, 'with': 1L, 'find': 1L}, {'and': 1L, 'not': 1L, 'are': 2L, 'in': 1L, 'thick': 1L, 'little': 1L, 'fabric': 1L, 'no': 2L, 'fortunately': 1L, 'there': 1L, 'to': 1L, 'flimsy': 1L, 'stuck.': 1L, 'pins': 2L, 'was': 2L, 'them': 1L, 'used': 1L, 'on.': 1L, 'involved,': 1L, 'received': 1L, 'diaper': 1L, 'baby': 1L, 'attractive,': 1L, 'hold': 1L, 'on': 1L, 'i': 2L, 'metal': 1L, 'up': 1L, 'did': 1L, 'while': 1L, 'so': 1L, 'the': 4L}, {'honduras,': 1L, 'honduras': 1L, 'sent.': 1L, 'is': 1L, 'it': 1L, 'kits': 1L, 'have': 1L, 'in': 2L, 'our': 1L, 'find': 1L, 'also': 1L, 'with': 1L, 'appreciated': 1L, 'to': 3L, 'pins': 2L, 'sent': 1L, 'difficult': 1L, 'do': 1L, 'we': 2L, 'diapers': 1L, 'cloth': 1L, 'diaper': 2L, 'they': 2L, 'not': 1L, '&#34;pampers&#34;.': 1L, 'hold': 1L, '&#34;disposable&#34;': 1L, 'went': 1L, 'age.': 1L, 'these': 1L, 'the': 3L, 'missionaries.': 1L}, {'and': 3L, 'dressmaker': 1L, 'since': 1L, 'have': 1L, 'pin': 1L, 'up': 1L, 'it': 1L, 'socks': 2L, 'years': 1L, 'course': 1L, 'through': 2L, 'a': 1L, 'using': 1L, 'open': 1L, 'your': 1L, 'cycle.': 1L, 'yet.': 1L, 'little': 1L, 'working': 1L, 'to': 4L, 'that': 1L, 'been': 1L, 'pins,': 1L, 'needed': 1L, 'recommended': 1L, 'tended': 1L, 'pins': 2L, 'perfectly': 1L, 'was': 2L, 'do': 1L, 'staying': 1L, 'tried': 1L, 'get': 1L, 'never': 1L, \"thery're\": 1L, 'washing.': 1L, '&#34;friended': 1L, 'we': 2L, 'but': 3L, 'they': 2L, 'during': 1L, 'brass': 1L, 'one': 1L, 'matter': 1L, 'tricky': 1L, 'open,': 1L, 'has': 1L, 'like': 1L, 'lost': 1L, 'wash': 2L, 'up&#34;.': 1L, 'of': 2L, 'wife': 1L, 'suggested': 1L, 'together': 2L, 'keep': 1L, 'idea.': 1L, 'i': 2L, 'can': 1L, 'many': 1L, 'them.': 1L, 'the': 4L, 'my': 2L, 'fact': 1L, 'diaper': 2L}, {'and': 4L, 'the': 11L, 'reviews.': 1L, 'have': 1L, 'pin': 2L, \"don't\": 1L, 'clothespins,': 1L, 'sock': 1L, 'into': 1L, 'each': 1L, 'am': 1L, 'idea': 1L, 'socks': 6L, 'one': 1L, 'as': 2L, 'done': 1L, 'are': 2L, 'another': 1L, 'reviewer': 1L, 'my': 2L, 'dried,': 1L, 'still': 1L, 'saved': 1L, 'hamper': 1L, 'out': 1L, 'washer,': 1L, 'these': 1L, 'use': 1L, 'now': 1L, 'just': 2L, 'open': 1L, 'line.': 1L, 'with': 2L, 'noted,': 1L, 'had': 1L, 'matching': 1L, 'to': 2L, 'feet.': 1L, 'lot': 1L, 'before': 1L, 'hamper,': 1L, 'has': 1L, 'it.': 1L, 'dry': 2L, 'them': 1L, 'after': 1L, 'on.': 1L, 'stay': 1L, 'read': 1L, 'hang': 2L, 'of': 4L, 'shelf.': 1L, 'great': 2L, 'here': 1L, 'it': 1L, 'by': 1L, 'pins': 1L, 'mismatched': 1L, 'they': 2L, 'put': 1L, 'line': 1L, 'washing.': 1L, 'come': 1L, 'grab': 1L, 'glad': 1L, 'a': 3L, 'on': 5L, 'about': 1L, 'for': 1L, 'lost': 1L, 'this': 2L, 'wish': 1L, 'side': 1L, 'leave': 1L, 'i': 7L, 'without': 1L, 'dirty': 1L, 'time': 1L, 'life.': 1L, 'problem': 1L, 'whole': 1L, 'or': 1L, 'once': 1L}, {'fabric.': 1L, 'work': 1L, 'old': 1L, 'is': 1L, 'hard': 1L, 'it': 1L, 'through': 1L, 'at': 1L, 'still': 1L, 'pins,': 1L, 'recommend.': 1L, 'would': 1L, 'thicker': 1L, 'to': 1L, 'which': 1L, 'steel': 1L, 'have.': 1L, 'very': 1L, 'part': 1L, 'diaper': 1L, 'not': 2L, 'strong': 1L, 'a': 1L, 'unlike': 1L, 'i': 1L, 'all,': 1L, 'the': 2L}, {'there': 1L, 'am': 1L, 'back': 1L, 'really': 1L, 'are': 2L, 'have': 1L, 'in': 1L, '10.': 1L, 'should': 1L, 'out': 1L, 'thought': 1L, 'use': 1L, 'that': 1L, 'when': 1L, 'mark': 1L, 'to': 2L, 'only': 2L, 'going': 1L, 'safety': 1L, 'pins': 1L, 'pins.': 1L, 'was': 1L, 'be': 1L, 'them': 1L, 'dozen': 1L, 'pins..turns': 1L, 'overpriced.': 1L, 'regular': 1L, 'they': 1L, 'crochet': 1L, 'sad..and': 1L, 'a': 1L, 'getting': 1L, 'i': 8L, 'yarn': 1L, 'counted': 1L, 'will': 1L, 'so': 1L, 'picture..as': 1L, 'the': 2L, 'think': 1L}, {'because': 1L, 'anymore.': 1L, 'tabs': 1L, 'is': 1L, 'am': 1L, 'them': 1L, 'through': 2L, 'bend': 1L, 'sharp': 1L, 'said,': 1L, \"doesn't\": 1L, 'pain.': 1L, 'which': 1L, 'dislike': 1L, '=': 2L, 'ends': 1L, 'that': 2L, 'pushing': 1L, 'diapers': 2L, 'velcro': 2L, 'easier.': 1L, 'sides': 1L, 'a': 1L, 'on': 1L, 'pierce': 1L, 'like': 1L, 'older': 1L, 'i': 1L, 'work': 1L, 'the': 2L, 'my': 2L}, {'a': 1L, 'useful': 1L, 'to': 2L, 'no': 1L, 'this': 1L, 'item': 1L, 'is': 1L, 'hard': 1L, '-': 1L, 'locally!': 1L, 'matter': 1L, 'have': 1L, 'diaper': 1L, 'purpose...': 1L, 'pins': 1L, 'the': 1L, 'find': 1L, 'are': 1L}, {'do': 1L, 'them': 1L, 'peel': 1L, 'start': 1L, 'these': 1L, 'soon': 1L, 'wall.': 2L, 'to': 3L, 'as': 2L, 'stick': 2L, 'they': 1L, 'not': 1L, 'you': 1L, 'the': 2L}, {'money': 1L, 'frustrating!': 1L, 'when': 1L, 'is': 1L, \"wouldn't\": 1L, 'it': 2L, 'sticky': 1L, 'ended': 1L, 'at': 1L, 'bedroom': 1L, 'bedroom!': 1L, 'glue': 1L, 'wall...very': 1L, 'for': 1L, 'not': 1L, 'girls': 1L, 'to': 3L, 'disappointing.': 1L, 'got': 1L, 'waste': 1L, 'was': 2L, 'excited': 1L, 'it.': 1L, 'floor!': 1L, 'product': 1L, 'get': 1L, 'very': 2L, 'back': 1L, 'every': 1L, 'baby': 1L, 'picking': 1L, 'pieces': 1L, 'super': 1L, 'on': 1L, 'off': 1L, 'all!': 1L, 'i': 4L, 'of': 1L, 'into': 1L, 'up': 2L, 'walked': 1L, 'having': 1L, 'this': 1L, 'so': 1L, 'time': 2L, 'the': 5L, 'my': 1L, 'or': 1L}, {'and': 3L, 'heart': 1L, 'because': 1L, 'blessed': 1L, 'pope': 2L, 'photo': 1L, 'is': 2L, 'am': 1L, 'it': 4L, 'as': 1L, 'in': 3L, 'ordered': 1L, 'between': 1L, 'to': 1L, 'again': 1L, 'strong': 1L, 'just': 1L, 'would': 1L, 'untier': 1L, 'giving': 1L, 'disappointed': 1L, 'whom': 1L, 'francis.': 1L, 'recommend': 1L, 'has': 1L, 'was': 1L, 'knotted': 1L, 'friend': 2L, 'lady': 1L, 'fathers.': 1L, 'buy': 1L, 'devotion.': 1L, 'crystal,': 1L, 'our': 2L, 'novena': 1L, 'beat.': 1L, 'made': 1L, 'not': 1L, 'along': 1L, 'francis': 1L, 'with': 2L, 'by': 1L, 'copy': 1L, 'a': 4L, 'lovely': 1L, 'rosary': 2L, 'for': 2L, 'undoer)': 1L, 'i': 4L, 'of': 3L, 'looked': 1L, 'this': 3L, 'definitely': 1L, '(or': 1L, 'the': 3L, 'my': 1L, 'beautiful,': 1L, 'knots,': 1L}, {'and': 2L, 'all': 1L, 'right': 1L, 'price.': 1L, 'just': 1L, 'scapular': 1L, 'some': 1L, 'an': 1L, 'quality': 1L, 'for': 2L, 'to': 1L, 'more': 1L, 'wearing': 1L, 'brown': 1L, 'around': 1L, 'blessing': 1L, 'precious.': 1L, 'excellent': 1L, 'a': 1L, 'neck': 1L, 'makes': 1L, 'value': 1L, 'item': 1L, 'the': 5L, 'such.': 1L, 'or': 1L, 'orattaching': 1L}, {'and': 2L, 'slid': 1L, 'tough': 2L, 'fit.': 1L, 'over': 1L, 'am': 1L, 'product': 1L, 'hair': 1L, 'snug': 1L, 'are': 2L, 'have': 2L, 'love': 1L, 'shipping!': 1L, 'satisfied': 1L, 'pleased': 1L, 'size': 1L, 'fit': 1L, 'bangle': 1L, 'had': 1L, 'fitting': 1L, 'fast': 1L, '.': 1L, 'to': 3L, 'lotion.': 1L, 'whew': 1L, 'bangles': 1L, 'small.': 1L, 'was': 1L, 'hand.': 1L, 'them': 1L, 'get': 1L, 'got': 1L, 'were': 1L, 'overall': 1L, 'however': 1L, 'but': 2L, 'like': 1L, 'if': 1L, 'adult': 1L, 'they': 4L, 'hands': 1L, 'bit': 1L, 'hand': 1L, 'with': 3L, 'bigger': 1L, 'kid': 1L, 'a': 3L, 'on': 2L, 'for': 1L, 'i': 5L, \"wouldn't\": 1L, 'large': 1L, 'these': 1L, 'stay.': 1L, 'also.': 1L, 'product.': 1L, 'small': 2L, 'wrist': 1L, 'the': 3L, 'my': 1L, 'on!!': 1L}, {'and': 2L, 'set': 1L, 'old': 1L, 'cooking.': 1L, 'for': 1L, '2': 1L, 'lot': 1L, 'has': 1L, 'was': 1L, 'granddaughter': 1L, 'with': 1L, 'a': 1L, 'great': 1L, 'yr.': 1L, 'this': 1L, 'of': 1L, 'pretend': 1L, 'she': 1L, 'fun': 1L, 'the': 1L, 'my': 1L, 'playing': 1L}, {'and': 1L, 'is': 1L, 'wash': 1L, 'are': 1L, 'also': 1L, 'useful.': 1L, 'to': 1L, 'easy': 1L, 'awesome.': 1L, 'them': 1L, 'dry.': 1L, 'very': 2L, 'price': 1L, 'much.': 1L, 'bibs.': 1L, 'they': 1L, 'friends': 1L, 'those': 1L, 'like': 2L, 'i': 1L, 'the': 1L, 'my': 1L}, {'beautiful': 1L, 'old': 1L, 'too.': 1L, 'curls': 1L, 'is': 1L, 'wash': 1L, 'good': 1L, 'in': 1L, 'messy': 1L, 'mouth.': 1L, 'provided': 1L, '20': 1L, 'for': 1L, 'to': 2L, 'front': 1L, 'boy': 1L, 'when': 1L, 'eaters,': 1L, 'bibs,': 1L, 'easy': 1L, 'elbows': 1L, 'his': 2L, 'missing': 1L, 'very': 1L, 'who': 1L, 'pasta': 2L, 'pocket': 1L, 'marinara': 1L, 'protections': 1L, 'fall': 1L, 'fingers.': 1L, 'bibs': 1L, 'with': 1L, 'eat': 1L, 'a': 1L, 'loved': 1L, 'daughter': 1L, 'grandson': 1L, 'this': 2L, 'months': 1L, 'loves': 1L, 'the': 2L, 'my': 2L, 'or': 1L}, {'perfect': 1L, 'and': 1L, 'i': 1L, 'collection!': 1L, 'collect': 1L, 'this': 2L, 'tree!': 1L, 'is': 2L, 'it': 1L, 'for': 1L, 'nativity': 2L, 'to': 2L, 'add': 1L, 'cute': 1L, 'a': 1L, 'ornaments': 1L, 'ornament,': 1L, 'such': 1L, 'my': 2L, \"can't\": 1L, 'wait': 1L}, {'and': 2L, 'help': 1L, 'is': 2L, 'it': 1L, 'used': 1L, 'pees': 1L, 'really': 1L, 'feeding': 1L, 'poops': 1L, 'make': 1L, 'to': 3L, 'enough.': 1L, 'month.': 1L, 'wet': 1L, 'you': 1L, 'if': 1L, 'book!': 1L, 'we': 1L, 'sure': 1L, 'eating': 1L, 'that': 1L, 'track': 2L, 'breastfeed': 1L, 'diapers': 1L, 'baby': 1L, 'during': 1L, 'great': 1L, 'helpful': 1L, 'this': 1L, 'of': 2L, 'us': 1L, 'keep': 2L, 'patterns': 1L, 'first': 1L}, {'and': 3L, 'love': 1L, 'just': 1L, 'info.': 1L, 'use.': 1L, 'is': 2L, 'life': 1L, 'adoption,': 1L, 'are': 1L, 'have': 1L, 'perfect': 2L, 'home': 1L, 'to': 2L, 'fill': 1L, 'up.': 1L, 'for': 4L, 'also': 1L, 'travel': 1L, 'there': 1L, 'when': 1L, 'needed': 1L, 'book': 3L, 'memory': 1L, 'schedule.': 2L, 'more': 1L, 'be': 3L, 'we': 2L, 'complete': 1L, 'emergency': 1L, 'track': 2L, 'saver!': 1L, 'after': 1L, 'spot': 1L, \"baby's\": 2L, 'how': 1L, 'important': 1L, 'beginning': 1L, 'adopting': 1L, 'buying': 1L, 'a': 4L, 'going': 1L, 'keeping': 1L, 'i': 5L, 'of': 2L, 'terrible': 1L, 'keep': 1L, 'will': 2L, 'this': 3L, 'traveling,': 1L, 'definitely': 1L, 'babysitter': 1L, 'at': 2L, 'the': 3L, 'or': 1L, 'numbers': 1L}, {'love': 3L, 'activities': 1L, 'when': 1L, 'too,': 1L, 'soon': 1L, 'one': 1L, 'as': 3L, 'sleep': 1L, 'another': 1L, 'need': 1L, 'your': 2L, 'really': 1L, 'up.': 1L, 'for': 4L, '\"remember\"': 1L, 'daycare,': 1L, \"baby's\": 1L, 'day.': 1L, 'how': 1L, 'much': 1L, 'tracker': 1L, 'provider': 1L, 'new': 1L, 'you': 2L, 'was': 1L, 'bought': 1L, 'it!!': 1L, 'used': 1L, 'to': 1L, 'get': 1L, 'got!!': 1L, 'moms-': 1L, 'about': 1L, 'it': 4L, 'no': 1L, 'got': 1L, 'baby': 2L, 'last': 1L, 'gift,': 1L, 'with': 1L, 'be!!': 1L, 'a': 1L, 'also': 1L, 'great': 2L, 'ate': 1L, 'communicate': 1L, 'clock': 1L, 'round': 1L, 'so': 1L, 'can': 1L, 'to-': 1L, 'care-': 1L, 'the': 2L, 'my': 1L, 'or': 1L, 'first': 1L}, {'and': 2L, 'over.': 1L, 'major': 1L, 'because': 1L, 'love': 1L, 'all': 3L, 'simple': 1L, 'had': 1L, 'is': 1L, \"didn't\": 1L, 'life': 1L, 'really': 1L, '(and': 1L, 'down': 1L, 'course': 1L, 'as': 1L, 'sure': 1L, 'happened.': 1L, 'been': 2L, 'have': 2L, 'in': 1L, 'caregiver': 1L, 'to': 5L, 'out': 1L, 'even': 1L, 'funny': 1L, 'little': 1L, 'routines': 1L, 'i': 6L, 'would': 1L, 'how': 1L, 'though,': 1L, 'things': 1L, 'that': 2L, 'able': 1L, 'finally': 1L, 'months),': 1L, 'day': 1L, 'everything': 1L, 'enough': 1L, 'book': 2L, 'easy': 1L, 'time': 1L, 'probably': 1L, 'has': 1L, 'was': 2L, 'until': 1L, 'a': 2L, 'saver!!': 1L, 'his': 3L, 'jot': 1L, 'way': 2L, 'get': 1L, 'knew': 1L, 'great/easy': 1L, 'after': 1L, 'what': 1L, 'it': 2L, 'forgotten!': 1L, 'it,': 1L, 'know': 1L, 'they': 1L, 'baby': 1L, '2': 1L, 'beginning': 1L, \"baby's\": 1L, 'me': 3L, 'on': 1L, 'about': 1L, 'milestones': 1L, 'for': 3L, 'went.': 1L, 'this': 2L, 'of': 4L, \"wouldn't\": 1L, 'work': 1L, 'record': 1L, 'so': 1L, 'transfer': 1L, 'let': 1L, 'the': 3L, 'my': 1L}, {'and': 2L, 'useful': 1L, 'being': 1L, 'am': 2L, 'it': 4L, 'one': 2L, 'newborn': 1L, 'not': 1L, 'as': 1L, 'at': 1L, 'have': 1L, 'looks.': 1L, 'remember,': 1L, 'looked': 1L, 'needs': 1L, 'from': 2L, 'for': 1L, 'everything': 1L, 'had': 1L, 'looking': 1L, 'very': 1L, '4': 1L, 'saw.': 1L, 'tracker.': 1L, 'was': 1L, 'hope': 1L, 'happy': 1L, 'it.': 1L, 'ends': 1L, 'used': 1L, 'to': 1L, 'that': 1L, 'read': 1L, 'what': 1L, 'but': 1L, 'delivery': 1L, 'baby': 1L, 'with': 1L, 'weeks': 1L, 'a': 1L, 'down': 1L, 'like': 1L, 'this': 1L, 'of': 1L, 'up': 1L, 'reviews': 1L, 'i': 6L, 'write': 1L, 'so': 1L, 'the': 1L, 'bought': 1L, 'my': 1L, 'first': 1L}, {'and': 4L, 'development,': 1L, 'have': 1L, 'people': 1L, 'too.': 1L, \"baby's\": 1L, 'some': 1L, 'it': 3L, 'one': 3L, 'see': 1L, 'are': 1L, 'another': 2L, 'our': 1L, 'story,': 1L, 'bought': 1L, 'what': 1L, 'rummage': 1L, 'visiting': 1L, 'things': 1L, 'section': 1L, 'family,': 1L, 'when': 1L, 'useful,': 1L, 'write': 2L, 'also': 1L, 'that': 3L, 'much': 1L, 'helps': 1L, '\"notes\"': 1L, 'so': 2L, 'sale': 1L, 'has': 1L, 'filled': 1L, 'more': 1L, 'be': 2L, 'we': 2L, 'etc.)': 1L, 'to': 3L, \"i've\": 1L, 'use': 1L, 'like': 1L, 'helping': 1L, 'feels': 1L, '\"dad\"': 1L, 'baby': 1L, 'almost': 1L, 'with': 1L, 'day': 2L, 'buying': 1L, 'room': 1L, 'a': 1L, 'loved': 1L, 'about': 1L, 'several': 1L, 'especially': 1L, 'this': 1L, '(ex:': 1L, 'having': 1L, 'will': 1L, 'i': 2L, 'connected.': 1L, 'plus': 1L, 'at': 1L, 'found': 2L, 'the': 3L, 'happened': 1L, 'etc.': 1L, 'book': 1L, 'soon!': 1L}, {'and': 1L, 'all': 1L, 'winner': 1L, '...': 1L, 'absolutely': 1L, 'is': 2L, 'am': 1L, 'iparenting': 1L, 'an': 1L, 'as': 1L, 'from': 1L, 'work.': 1L, 'media': 1L, 'starts!': 1L, 'better': 1L, 'tracker': 1L, '5': 1L, 'it': 2L, 'got': 1L, 'seen.': 1L, 'worth': 1L, 'then': 1L, 'good': 1L, \"i've\": 1L, 'organized': 1L, 'much': 1L, 'part': 1L, 'reason.': 1L, 'others': 1L, 'baby': 1L, 'extremely': 1L, 'a': 1L, 'for': 2L, 'getting': 1L, 'i': 2L, 'of': 1L, 'package': 1L, 'well': 1L, \"'new\": 1L, 'this': 2L, 'expecting': 1L, '$$.': 1L, \"parents'\": 1L, 'friends!': 1L, 'the': 2L, 'my': 2L}, {'and': 6L, 'the': 1L, 'activities': 1L, \"baby's\": 2L, 'is': 2L, 'in': 1L, 'am': 1L, 'it': 4L, 'one': 1L, 'down': 2L, 'something': 1L, 'another': 1L, 'feedings': 1L, 'beyond': 1L, 'perfect!': 1L, 'your': 1L, 'out': 1L, 'looking': 1L, 'i': 4L, 'for': 3L, 'area': 1L, 'ordering': 1L, 'with': 1L, 'extra': 1L, 'when': 1L, 'months.': 1L, 'write': 2L, 'to': 4L, '3': 1L, 'patterns': 1L, 'lot': 1L, 'dr': 1L, 'new': 1L, 'reminder': 1L, 'has': 2L, 'was': 1L, 'happy': 1L, 'be': 1L, 'run': 1L, 'that': 1L, 'track': 1L, 'patterns.': 1L, 'appointments': 1L, 'diaper': 1L, 'mom': 1L, 'medications.': 1L, 'an': 1L, 'extremely': 1L, 'pages': 1L, 'a': 3L, 'great': 1L, 'like': 1L, 'anything': 1L, 'this': 1L, 'of': 2L, 'space': 1L, 'daily': 1L, 'will': 1L, 'record': 1L, 'sleeping.': 1L, \"i'm\": 1L, 'my': 1L, 'book': 1L, 'changes,': 1L}, {'and': 1L, 'love': 1L, 'helpful': 1L, 'for': 2L, 'this': 2L, 'easy': 1L, 'first': 1L, 'keep': 1L, 'to': 1L, 'book': 1L, 'track': 1L, 'pediatrician': 1L, 'mom': 1L, 'time': 1L, '....super': 1L, 'sooooooooo': 1L, 'appts': 1L, '..especially': 1L}, {'and': 1L, 'set': 1L, 'often': 1L, 'share': 1L, 'it': 2L, 'for': 1L, 'doctor': 1L, 'to': 3L, 'book': 1L, 'was': 2L, 'baby.': 1L, 'used': 1L, 'eating': 1L, 'track': 1L, 'took': 1L, 'how': 2L, 'appointments': 1L, 'important': 1L, 'everything.': 1L, 'loved': 1L, 'about': 1L, 'i': 3L, 'always': 1L, 'up': 1L, 'keep': 1L, 'this': 1L, 'year.': 1L, 'she': 1L, 'of': 1L, 'everything': 1L, 'the': 1L, 'first': 1L}, ... ]"
      ]
     },
     "execution_count": 39,
     "metadata": {},
     "output_type": "execute_result"
    }
   ],
   "source": [
    "count"
   ]
  },
  {
   "cell_type": "code",
   "execution_count": 62,
   "metadata": {
    "collapsed": false
   },
   "outputs": [
    {
     "name": "stdout",
     "output_type": "stream",
     "text": [
      "2002\n",
      "42420\n",
      "873\n",
      "1305\n",
      "40277\n",
      "659\n",
      "3197\n",
      "673\n",
      "345\n",
      "131\n",
      "1057\n"
     ]
    }
   ],
   "source": [
    "from functools import partial\n",
    "def awesome_count(x,c) :\n",
    "    if x in c :\n",
    "        return c[x]\n",
    "    else :\n",
    "        return 0\n",
    "for i in selected_words :\n",
    "    products[i] = products['word_count'].apply(partial(awesome_count,i))\n",
    "    print products[i].sum()"
   ]
  },
  {
   "cell_type": "code",
   "execution_count": 73,
   "metadata": {
    "collapsed": false
   },
   "outputs": [
    {
     "data": {
      "text/plain": [
       "'great'"
      ]
     },
     "execution_count": 73,
     "metadata": {},
     "output_type": "execute_result"
    }
   ],
   "source": [
    "selected_words[1]"
   ]
  },
  {
   "cell_type": "code",
   "execution_count": 55,
   "metadata": {
    "collapsed": false
   },
   "outputs": [
    {
     "data": {
      "text/plain": [
       "2002L"
      ]
     },
     "execution_count": 55,
     "metadata": {},
     "output_type": "execute_result"
    }
   ],
   "source": [
    "products['great'].sum()"
   ]
  },
  {
   "cell_type": "code",
   "execution_count": 63,
   "metadata": {
    "collapsed": false
   },
   "outputs": [
    {
     "data": {
      "text/html": [
       "<pre>Logistic regression:</pre>"
      ],
      "text/plain": [
       "Logistic regression:"
      ]
     },
     "metadata": {},
     "output_type": "execute_result"
    },
    {
     "data": {
      "text/html": [
       "<pre>--------------------------------------------------------</pre>"
      ],
      "text/plain": [
       "--------------------------------------------------------"
      ]
     },
     "metadata": {},
     "output_type": "execute_result"
    },
    {
     "data": {
      "text/html": [
       "<pre>Number of examples          : 133448</pre>"
      ],
      "text/plain": [
       "Number of examples          : 133448"
      ]
     },
     "metadata": {},
     "output_type": "execute_result"
    },
    {
     "data": {
      "text/html": [
       "<pre>Number of classes           : 2</pre>"
      ],
      "text/plain": [
       "Number of classes           : 2"
      ]
     },
     "metadata": {},
     "output_type": "execute_result"
    },
    {
     "data": {
      "text/html": [
       "<pre>Number of feature columns   : 11</pre>"
      ],
      "text/plain": [
       "Number of feature columns   : 11"
      ]
     },
     "metadata": {},
     "output_type": "execute_result"
    },
    {
     "data": {
      "text/html": [
       "<pre>Number of unpacked features : 11</pre>"
      ],
      "text/plain": [
       "Number of unpacked features : 11"
      ]
     },
     "metadata": {},
     "output_type": "execute_result"
    },
    {
     "data": {
      "text/html": [
       "<pre>Number of coefficients    : 12</pre>"
      ],
      "text/plain": [
       "Number of coefficients    : 12"
      ]
     },
     "metadata": {},
     "output_type": "execute_result"
    },
    {
     "data": {
      "text/html": [
       "<pre>Starting Newton Method</pre>"
      ],
      "text/plain": [
       "Starting Newton Method"
      ]
     },
     "metadata": {},
     "output_type": "execute_result"
    },
    {
     "data": {
      "text/html": [
       "<pre>--------------------------------------------------------</pre>"
      ],
      "text/plain": [
       "--------------------------------------------------------"
      ]
     },
     "metadata": {},
     "output_type": "execute_result"
    },
    {
     "data": {
      "text/html": [
       "<pre>+-----------+----------+--------------+-------------------+---------------------+</pre>"
      ],
      "text/plain": [
       "+-----------+----------+--------------+-------------------+---------------------+"
      ]
     },
     "metadata": {},
     "output_type": "execute_result"
    },
    {
     "data": {
      "text/html": [
       "<pre>| Iteration | Passes   | Elapsed Time | Training-accuracy | Validation-accuracy |</pre>"
      ],
      "text/plain": [
       "| Iteration | Passes   | Elapsed Time | Training-accuracy | Validation-accuracy |"
      ]
     },
     "metadata": {},
     "output_type": "execute_result"
    },
    {
     "data": {
      "text/html": [
       "<pre>+-----------+----------+--------------+-------------------+---------------------+</pre>"
      ],
      "text/plain": [
       "+-----------+----------+--------------+-------------------+---------------------+"
      ]
     },
     "metadata": {},
     "output_type": "execute_result"
    },
    {
     "data": {
      "text/html": [
       "<pre>| 1         | 2        | 0.312222     | 0.844299          | 0.842842            |</pre>"
      ],
      "text/plain": [
       "| 1         | 2        | 0.312222     | 0.844299          | 0.842842            |"
      ]
     },
     "metadata": {},
     "output_type": "execute_result"
    },
    {
     "data": {
      "text/html": [
       "<pre>| 2         | 3        | 0.512364     | 0.844186          | 0.842842            |</pre>"
      ],
      "text/plain": [
       "| 2         | 3        | 0.512364     | 0.844186          | 0.842842            |"
      ]
     },
     "metadata": {},
     "output_type": "execute_result"
    },
    {
     "data": {
      "text/html": [
       "<pre>| 3         | 4        | 0.711506     | 0.844276          | 0.843142            |</pre>"
      ],
      "text/plain": [
       "| 3         | 4        | 0.711506     | 0.844276          | 0.843142            |"
      ]
     },
     "metadata": {},
     "output_type": "execute_result"
    },
    {
     "data": {
      "text/html": [
       "<pre>| 4         | 5        | 0.899638     | 0.844269          | 0.843142            |</pre>"
      ],
      "text/plain": [
       "| 4         | 5        | 0.899638     | 0.844269          | 0.843142            |"
      ]
     },
     "metadata": {},
     "output_type": "execute_result"
    },
    {
     "data": {
      "text/html": [
       "<pre>| 5         | 6        | 1.085772     | 0.844269          | 0.843142            |</pre>"
      ],
      "text/plain": [
       "| 5         | 6        | 1.085772     | 0.844269          | 0.843142            |"
      ]
     },
     "metadata": {},
     "output_type": "execute_result"
    },
    {
     "data": {
      "text/html": [
       "<pre>| 6         | 7        | 1.273905     | 0.844269          | 0.843142            |</pre>"
      ],
      "text/plain": [
       "| 6         | 7        | 1.273905     | 0.844269          | 0.843142            |"
      ]
     },
     "metadata": {},
     "output_type": "execute_result"
    },
    {
     "data": {
      "text/html": [
       "<pre>+-----------+----------+--------------+-------------------+---------------------+</pre>"
      ],
      "text/plain": [
       "+-----------+----------+--------------+-------------------+---------------------+"
      ]
     },
     "metadata": {},
     "output_type": "execute_result"
    },
    {
     "data": {
      "text/html": [
       "<pre>SUCCESS: Optimal solution found.</pre>"
      ],
      "text/plain": [
       "SUCCESS: Optimal solution found."
      ]
     },
     "metadata": {},
     "output_type": "execute_result"
    },
    {
     "data": {
      "text/html": [
       "<pre></pre>"
      ],
      "text/plain": []
     },
     "metadata": {},
     "output_type": "execute_result"
    },
    {
     "data": {},
     "metadata": {},
     "output_type": "display_data"
    }
   ],
   "source": [
    "train_data,test_data = products.random_split(.8, seed=0)\n",
    "selected_words_model = graphlab.logistic_classifier.create(train_data,target='sentiment',features=selected_words,\n",
    "                        validation_set=test_data)\n",
    "selected_words_model['coefficients']\n",
    "selected_words_model.evaluate(test_data, metric='roc_curve')\n",
    "selected_words_model.show(view='Evaluation')\n",
    "\n",
    "diapers = products[products['name'] == 'Baby Trend Diaper Champ']\n",
    "diapers['predicted_sentiment'] = sentiment_model.predict(diapers, output_type='probability')\n",
    "diapers['predicted_sentiment_selected'] = selected_words_model.predict(diapers, output_type='probability')"
   ]
  },
  {
   "cell_type": "code",
   "execution_count": 64,
   "metadata": {
    "collapsed": false
   },
   "outputs": [
    {
     "data": {
      "text/html": [
       "<div style=\"max-height:1000px;max-width:1500px;overflow:auto;\"><table frame=\"box\" rules=\"cols\">\n",
       "    <tr>\n",
       "        <th style=\"padding-left: 1em; padding-right: 1em; text-align: center\">name</th>\n",
       "        <th style=\"padding-left: 1em; padding-right: 1em; text-align: center\">review</th>\n",
       "        <th style=\"padding-left: 1em; padding-right: 1em; text-align: center\">rating</th>\n",
       "        <th style=\"padding-left: 1em; padding-right: 1em; text-align: center\">word_count</th>\n",
       "        <th style=\"padding-left: 1em; padding-right: 1em; text-align: center\">sentiment</th>\n",
       "        <th style=\"padding-left: 1em; padding-right: 1em; text-align: center\">awesome</th>\n",
       "    </tr>\n",
       "    <tr>\n",
       "        <td style=\"padding-left: 1em; padding-right: 1em; text-align: center; vertical-align: top\">Baby Trend Diaper Champ</td>\n",
       "        <td style=\"padding-left: 1em; padding-right: 1em; text-align: center; vertical-align: top\">Ok - newsflash.  Diapers<br>are just smelly.  We've ...</td>\n",
       "        <td style=\"padding-left: 1em; padding-right: 1em; text-align: center; vertical-align: top\">4.0</td>\n",
       "        <td style=\"padding-left: 1em; padding-right: 1em; text-align: center; vertical-align: top\">{'just': 2L, 'less': 1L,<br>'-': 3L, 'smell- ...</td>\n",
       "        <td style=\"padding-left: 1em; padding-right: 1em; text-align: center; vertical-align: top\">1</td>\n",
       "        <td style=\"padding-left: 1em; padding-right: 1em; text-align: center; vertical-align: top\">0</td>\n",
       "    </tr>\n",
       "    <tr>\n",
       "        <td style=\"padding-left: 1em; padding-right: 1em; text-align: center; vertical-align: top\">Baby Trend Diaper Champ</td>\n",
       "        <td style=\"padding-left: 1em; padding-right: 1em; text-align: center; vertical-align: top\">My husband and I selected<br>the Diaper \"Champ\" ma ...</td>\n",
       "        <td style=\"padding-left: 1em; padding-right: 1em; text-align: center; vertical-align: top\">1.0</td>\n",
       "        <td style=\"padding-left: 1em; padding-right: 1em; text-align: center; vertical-align: top\">{'just': 1L, 'less': 1L,<br>'when': 3L, 'over': 1L, ...</td>\n",
       "        <td style=\"padding-left: 1em; padding-right: 1em; text-align: center; vertical-align: top\">0</td>\n",
       "        <td style=\"padding-left: 1em; padding-right: 1em; text-align: center; vertical-align: top\">0</td>\n",
       "    </tr>\n",
       "    <tr>\n",
       "        <td style=\"padding-left: 1em; padding-right: 1em; text-align: center; vertical-align: top\">Baby Trend Diaper Champ</td>\n",
       "        <td style=\"padding-left: 1em; padding-right: 1em; text-align: center; vertical-align: top\">Excellent diaper disposal<br>unit.  I used it in ...</td>\n",
       "        <td style=\"padding-left: 1em; padding-right: 1em; text-align: center; vertical-align: top\">5.0</td>\n",
       "        <td style=\"padding-left: 1em; padding-right: 1em; text-align: center; vertical-align: top\">{'control': 1L, 'am': 1L,<br>'it': 1L, 'used': 1L, ...</td>\n",
       "        <td style=\"padding-left: 1em; padding-right: 1em; text-align: center; vertical-align: top\">1</td>\n",
       "        <td style=\"padding-left: 1em; padding-right: 1em; text-align: center; vertical-align: top\">0</td>\n",
       "    </tr>\n",
       "    <tr>\n",
       "        <td style=\"padding-left: 1em; padding-right: 1em; text-align: center; vertical-align: top\">Baby Trend Diaper Champ</td>\n",
       "        <td style=\"padding-left: 1em; padding-right: 1em; text-align: center; vertical-align: top\">We love our diaper champ.<br>It is very easy to use ...</td>\n",
       "        <td style=\"padding-left: 1em; padding-right: 1em; text-align: center; vertical-align: top\">5.0</td>\n",
       "        <td style=\"padding-left: 1em; padding-right: 1em; text-align: center; vertical-align: top\">{'and': 3L, 'over.': 1L,<br>'all': 1L, 'love': 1L, ...</td>\n",
       "        <td style=\"padding-left: 1em; padding-right: 1em; text-align: center; vertical-align: top\">1</td>\n",
       "        <td style=\"padding-left: 1em; padding-right: 1em; text-align: center; vertical-align: top\">0</td>\n",
       "    </tr>\n",
       "    <tr>\n",
       "        <td style=\"padding-left: 1em; padding-right: 1em; text-align: center; vertical-align: top\">Baby Trend Diaper Champ</td>\n",
       "        <td style=\"padding-left: 1em; padding-right: 1em; text-align: center; vertical-align: top\">Two girlfriends and two<br>family members put me ...</td>\n",
       "        <td style=\"padding-left: 1em; padding-right: 1em; text-align: center; vertical-align: top\">5.0</td>\n",
       "        <td style=\"padding-left: 1em; padding-right: 1em; text-align: center; vertical-align: top\">{'just': 1L, 'when': 1L,<br>'both': 1L, 'results': ...</td>\n",
       "        <td style=\"padding-left: 1em; padding-right: 1em; text-align: center; vertical-align: top\">1</td>\n",
       "        <td style=\"padding-left: 1em; padding-right: 1em; text-align: center; vertical-align: top\">0</td>\n",
       "    </tr>\n",
       "    <tr>\n",
       "        <td style=\"padding-left: 1em; padding-right: 1em; text-align: center; vertical-align: top\">Baby Trend Diaper Champ</td>\n",
       "        <td style=\"padding-left: 1em; padding-right: 1em; text-align: center; vertical-align: top\">I waited to review this<br>until I saw how it ...</td>\n",
       "        <td style=\"padding-left: 1em; padding-right: 1em; text-align: center; vertical-align: top\">4.0</td>\n",
       "        <td style=\"padding-left: 1em; padding-right: 1em; text-align: center; vertical-align: top\">{'lysol': 1L, 'all': 1L,<br>'mom.': 1L, 'busy': 1L, ...</td>\n",
       "        <td style=\"padding-left: 1em; padding-right: 1em; text-align: center; vertical-align: top\">1</td>\n",
       "        <td style=\"padding-left: 1em; padding-right: 1em; text-align: center; vertical-align: top\">0</td>\n",
       "    </tr>\n",
       "    <tr>\n",
       "        <td style=\"padding-left: 1em; padding-right: 1em; text-align: center; vertical-align: top\">Baby Trend Diaper Champ</td>\n",
       "        <td style=\"padding-left: 1em; padding-right: 1em; text-align: center; vertical-align: top\">I have had a diaper genie<br>for almost 4 years since ...</td>\n",
       "        <td style=\"padding-left: 1em; padding-right: 1em; text-align: center; vertical-align: top\">1.0</td>\n",
       "        <td style=\"padding-left: 1em; padding-right: 1em; text-align: center; vertical-align: top\">{'all': 1L, 'bags.': 1L,<br>'just': 1L, \"don't\": 2L, ...</td>\n",
       "        <td style=\"padding-left: 1em; padding-right: 1em; text-align: center; vertical-align: top\">0</td>\n",
       "        <td style=\"padding-left: 1em; padding-right: 1em; text-align: center; vertical-align: top\">0</td>\n",
       "    </tr>\n",
       "    <tr>\n",
       "        <td style=\"padding-left: 1em; padding-right: 1em; text-align: center; vertical-align: top\">Baby Trend Diaper Champ</td>\n",
       "        <td style=\"padding-left: 1em; padding-right: 1em; text-align: center; vertical-align: top\">I originally put this<br>item on my baby registry ...</td>\n",
       "        <td style=\"padding-left: 1em; padding-right: 1em; text-align: center; vertical-align: top\">5.0</td>\n",
       "        <td style=\"padding-left: 1em; padding-right: 1em; text-align: center; vertical-align: top\">{'lysol': 1L, 'all': 2L,<br>'bags.': 1L, 'feedback': ...</td>\n",
       "        <td style=\"padding-left: 1em; padding-right: 1em; text-align: center; vertical-align: top\">1</td>\n",
       "        <td style=\"padding-left: 1em; padding-right: 1em; text-align: center; vertical-align: top\">0</td>\n",
       "    </tr>\n",
       "    <tr>\n",
       "        <td style=\"padding-left: 1em; padding-right: 1em; text-align: center; vertical-align: top\">Baby Trend Diaper Champ</td>\n",
       "        <td style=\"padding-left: 1em; padding-right: 1em; text-align: center; vertical-align: top\">I am so glad I got the<br>Diaper Champ instead of ...</td>\n",
       "        <td style=\"padding-left: 1em; padding-right: 1em; text-align: center; vertical-align: top\">5.0</td>\n",
       "        <td style=\"padding-left: 1em; padding-right: 1em; text-align: center; vertical-align: top\">{'and': 2L, 'all': 1L,<br>'just': 1L, 'is': 2L, ...</td>\n",
       "        <td style=\"padding-left: 1em; padding-right: 1em; text-align: center; vertical-align: top\">1</td>\n",
       "        <td style=\"padding-left: 1em; padding-right: 1em; text-align: center; vertical-align: top\">0</td>\n",
       "    </tr>\n",
       "    <tr>\n",
       "        <td style=\"padding-left: 1em; padding-right: 1em; text-align: center; vertical-align: top\">Baby Trend Diaper Champ</td>\n",
       "        <td style=\"padding-left: 1em; padding-right: 1em; text-align: center; vertical-align: top\">We had 2 diaper Genie's<br>both given to us as a ...</td>\n",
       "        <td style=\"padding-left: 1em; padding-right: 1em; text-align: center; vertical-align: top\">4.0</td>\n",
       "        <td style=\"padding-left: 1em; padding-right: 1em; text-align: center; vertical-align: top\">{'hand.': 1L,<br>'(required': 1L, ...</td>\n",
       "        <td style=\"padding-left: 1em; padding-right: 1em; text-align: center; vertical-align: top\">1</td>\n",
       "        <td style=\"padding-left: 1em; padding-right: 1em; text-align: center; vertical-align: top\">0</td>\n",
       "    </tr>\n",
       "</table>\n",
       "<table frame=\"box\" rules=\"cols\">\n",
       "    <tr>\n",
       "        <th style=\"padding-left: 1em; padding-right: 1em; text-align: center\">great</th>\n",
       "        <th style=\"padding-left: 1em; padding-right: 1em; text-align: center\">fantastic</th>\n",
       "        <th style=\"padding-left: 1em; padding-right: 1em; text-align: center\">amazing</th>\n",
       "        <th style=\"padding-left: 1em; padding-right: 1em; text-align: center\">love</th>\n",
       "        <th style=\"padding-left: 1em; padding-right: 1em; text-align: center\">horrible</th>\n",
       "        <th style=\"padding-left: 1em; padding-right: 1em; text-align: center\">bad</th>\n",
       "        <th style=\"padding-left: 1em; padding-right: 1em; text-align: center\">terrible</th>\n",
       "        <th style=\"padding-left: 1em; padding-right: 1em; text-align: center\">awful</th>\n",
       "        <th style=\"padding-left: 1em; padding-right: 1em; text-align: center\">wow</th>\n",
       "        <th style=\"padding-left: 1em; padding-right: 1em; text-align: center\">hate</th>\n",
       "        <th style=\"padding-left: 1em; padding-right: 1em; text-align: center\">predicted_sentiment</th>\n",
       "    </tr>\n",
       "    <tr>\n",
       "        <td style=\"padding-left: 1em; padding-right: 1em; text-align: center; vertical-align: top\">0</td>\n",
       "        <td style=\"padding-left: 1em; padding-right: 1em; text-align: center; vertical-align: top\">0</td>\n",
       "        <td style=\"padding-left: 1em; padding-right: 1em; text-align: center; vertical-align: top\">0</td>\n",
       "        <td style=\"padding-left: 1em; padding-right: 1em; text-align: center; vertical-align: top\">0</td>\n",
       "        <td style=\"padding-left: 1em; padding-right: 1em; text-align: center; vertical-align: top\">0</td>\n",
       "        <td style=\"padding-left: 1em; padding-right: 1em; text-align: center; vertical-align: top\">0</td>\n",
       "        <td style=\"padding-left: 1em; padding-right: 1em; text-align: center; vertical-align: top\">0</td>\n",
       "        <td style=\"padding-left: 1em; padding-right: 1em; text-align: center; vertical-align: top\">0</td>\n",
       "        <td style=\"padding-left: 1em; padding-right: 1em; text-align: center; vertical-align: top\">0</td>\n",
       "        <td style=\"padding-left: 1em; padding-right: 1em; text-align: center; vertical-align: top\">0</td>\n",
       "        <td style=\"padding-left: 1em; padding-right: 1em; text-align: center; vertical-align: top\">0.958443580893</td>\n",
       "    </tr>\n",
       "    <tr>\n",
       "        <td style=\"padding-left: 1em; padding-right: 1em; text-align: center; vertical-align: top\">0</td>\n",
       "        <td style=\"padding-left: 1em; padding-right: 1em; text-align: center; vertical-align: top\">0</td>\n",
       "        <td style=\"padding-left: 1em; padding-right: 1em; text-align: center; vertical-align: top\">0</td>\n",
       "        <td style=\"padding-left: 1em; padding-right: 1em; text-align: center; vertical-align: top\">0</td>\n",
       "        <td style=\"padding-left: 1em; padding-right: 1em; text-align: center; vertical-align: top\">0</td>\n",
       "        <td style=\"padding-left: 1em; padding-right: 1em; text-align: center; vertical-align: top\">0</td>\n",
       "        <td style=\"padding-left: 1em; padding-right: 1em; text-align: center; vertical-align: top\">0</td>\n",
       "        <td style=\"padding-left: 1em; padding-right: 1em; text-align: center; vertical-align: top\">0</td>\n",
       "        <td style=\"padding-left: 1em; padding-right: 1em; text-align: center; vertical-align: top\">0</td>\n",
       "        <td style=\"padding-left: 1em; padding-right: 1em; text-align: center; vertical-align: top\">0</td>\n",
       "        <td style=\"padding-left: 1em; padding-right: 1em; text-align: center; vertical-align: top\">2.47155884995e-12</td>\n",
       "    </tr>\n",
       "    <tr>\n",
       "        <td style=\"padding-left: 1em; padding-right: 1em; text-align: center; vertical-align: top\">0</td>\n",
       "        <td style=\"padding-left: 1em; padding-right: 1em; text-align: center; vertical-align: top\">0</td>\n",
       "        <td style=\"padding-left: 1em; padding-right: 1em; text-align: center; vertical-align: top\">0</td>\n",
       "        <td style=\"padding-left: 1em; padding-right: 1em; text-align: center; vertical-align: top\">0</td>\n",
       "        <td style=\"padding-left: 1em; padding-right: 1em; text-align: center; vertical-align: top\">0</td>\n",
       "        <td style=\"padding-left: 1em; padding-right: 1em; text-align: center; vertical-align: top\">0</td>\n",
       "        <td style=\"padding-left: 1em; padding-right: 1em; text-align: center; vertical-align: top\">0</td>\n",
       "        <td style=\"padding-left: 1em; padding-right: 1em; text-align: center; vertical-align: top\">0</td>\n",
       "        <td style=\"padding-left: 1em; padding-right: 1em; text-align: center; vertical-align: top\">0</td>\n",
       "        <td style=\"padding-left: 1em; padding-right: 1em; text-align: center; vertical-align: top\">0</td>\n",
       "        <td style=\"padding-left: 1em; padding-right: 1em; text-align: center; vertical-align: top\">0.999994864775</td>\n",
       "    </tr>\n",
       "    <tr>\n",
       "        <td style=\"padding-left: 1em; padding-right: 1em; text-align: center; vertical-align: top\">0</td>\n",
       "        <td style=\"padding-left: 1em; padding-right: 1em; text-align: center; vertical-align: top\">0</td>\n",
       "        <td style=\"padding-left: 1em; padding-right: 1em; text-align: center; vertical-align: top\">0</td>\n",
       "        <td style=\"padding-left: 1em; padding-right: 1em; text-align: center; vertical-align: top\">1</td>\n",
       "        <td style=\"padding-left: 1em; padding-right: 1em; text-align: center; vertical-align: top\">0</td>\n",
       "        <td style=\"padding-left: 1em; padding-right: 1em; text-align: center; vertical-align: top\">0</td>\n",
       "        <td style=\"padding-left: 1em; padding-right: 1em; text-align: center; vertical-align: top\">0</td>\n",
       "        <td style=\"padding-left: 1em; padding-right: 1em; text-align: center; vertical-align: top\">0</td>\n",
       "        <td style=\"padding-left: 1em; padding-right: 1em; text-align: center; vertical-align: top\">0</td>\n",
       "        <td style=\"padding-left: 1em; padding-right: 1em; text-align: center; vertical-align: top\">0</td>\n",
       "        <td style=\"padding-left: 1em; padding-right: 1em; text-align: center; vertical-align: top\">0.998779072633</td>\n",
       "    </tr>\n",
       "    <tr>\n",
       "        <td style=\"padding-left: 1em; padding-right: 1em; text-align: center; vertical-align: top\">0</td>\n",
       "        <td style=\"padding-left: 1em; padding-right: 1em; text-align: center; vertical-align: top\">0</td>\n",
       "        <td style=\"padding-left: 1em; padding-right: 1em; text-align: center; vertical-align: top\">0</td>\n",
       "        <td style=\"padding-left: 1em; padding-right: 1em; text-align: center; vertical-align: top\">0</td>\n",
       "        <td style=\"padding-left: 1em; padding-right: 1em; text-align: center; vertical-align: top\">1</td>\n",
       "        <td style=\"padding-left: 1em; padding-right: 1em; text-align: center; vertical-align: top\">0</td>\n",
       "        <td style=\"padding-left: 1em; padding-right: 1em; text-align: center; vertical-align: top\">0</td>\n",
       "        <td style=\"padding-left: 1em; padding-right: 1em; text-align: center; vertical-align: top\">0</td>\n",
       "        <td style=\"padding-left: 1em; padding-right: 1em; text-align: center; vertical-align: top\">0</td>\n",
       "        <td style=\"padding-left: 1em; padding-right: 1em; text-align: center; vertical-align: top\">0</td>\n",
       "        <td style=\"padding-left: 1em; padding-right: 1em; text-align: center; vertical-align: top\">0.999999604504</td>\n",
       "    </tr>\n",
       "    <tr>\n",
       "        <td style=\"padding-left: 1em; padding-right: 1em; text-align: center; vertical-align: top\">0</td>\n",
       "        <td style=\"padding-left: 1em; padding-right: 1em; text-align: center; vertical-align: top\">0</td>\n",
       "        <td style=\"padding-left: 1em; padding-right: 1em; text-align: center; vertical-align: top\">0</td>\n",
       "        <td style=\"padding-left: 1em; padding-right: 1em; text-align: center; vertical-align: top\">0</td>\n",
       "        <td style=\"padding-left: 1em; padding-right: 1em; text-align: center; vertical-align: top\">0</td>\n",
       "        <td style=\"padding-left: 1em; padding-right: 1em; text-align: center; vertical-align: top\">1</td>\n",
       "        <td style=\"padding-left: 1em; padding-right: 1em; text-align: center; vertical-align: top\">0</td>\n",
       "        <td style=\"padding-left: 1em; padding-right: 1em; text-align: center; vertical-align: top\">0</td>\n",
       "        <td style=\"padding-left: 1em; padding-right: 1em; text-align: center; vertical-align: top\">0</td>\n",
       "        <td style=\"padding-left: 1em; padding-right: 1em; text-align: center; vertical-align: top\">0</td>\n",
       "        <td style=\"padding-left: 1em; padding-right: 1em; text-align: center; vertical-align: top\">0.999952233179</td>\n",
       "    </tr>\n",
       "    <tr>\n",
       "        <td style=\"padding-left: 1em; padding-right: 1em; text-align: center; vertical-align: top\">0</td>\n",
       "        <td style=\"padding-left: 1em; padding-right: 1em; text-align: center; vertical-align: top\">0</td>\n",
       "        <td style=\"padding-left: 1em; padding-right: 1em; text-align: center; vertical-align: top\">0</td>\n",
       "        <td style=\"padding-left: 1em; padding-right: 1em; text-align: center; vertical-align: top\">0</td>\n",
       "        <td style=\"padding-left: 1em; padding-right: 1em; text-align: center; vertical-align: top\">0</td>\n",
       "        <td style=\"padding-left: 1em; padding-right: 1em; text-align: center; vertical-align: top\">0</td>\n",
       "        <td style=\"padding-left: 1em; padding-right: 1em; text-align: center; vertical-align: top\">0</td>\n",
       "        <td style=\"padding-left: 1em; padding-right: 1em; text-align: center; vertical-align: top\">0</td>\n",
       "        <td style=\"padding-left: 1em; padding-right: 1em; text-align: center; vertical-align: top\">0</td>\n",
       "        <td style=\"padding-left: 1em; padding-right: 1em; text-align: center; vertical-align: top\">0</td>\n",
       "        <td style=\"padding-left: 1em; padding-right: 1em; text-align: center; vertical-align: top\">0.972560724165</td>\n",
       "    </tr>\n",
       "    <tr>\n",
       "        <td style=\"padding-left: 1em; padding-right: 1em; text-align: center; vertical-align: top\">0</td>\n",
       "        <td style=\"padding-left: 1em; padding-right: 1em; text-align: center; vertical-align: top\">0</td>\n",
       "        <td style=\"padding-left: 1em; padding-right: 1em; text-align: center; vertical-align: top\">0</td>\n",
       "        <td style=\"padding-left: 1em; padding-right: 1em; text-align: center; vertical-align: top\">0</td>\n",
       "        <td style=\"padding-left: 1em; padding-right: 1em; text-align: center; vertical-align: top\">0</td>\n",
       "        <td style=\"padding-left: 1em; padding-right: 1em; text-align: center; vertical-align: top\">0</td>\n",
       "        <td style=\"padding-left: 1em; padding-right: 1em; text-align: center; vertical-align: top\">0</td>\n",
       "        <td style=\"padding-left: 1em; padding-right: 1em; text-align: center; vertical-align: top\">0</td>\n",
       "        <td style=\"padding-left: 1em; padding-right: 1em; text-align: center; vertical-align: top\">0</td>\n",
       "        <td style=\"padding-left: 1em; padding-right: 1em; text-align: center; vertical-align: top\">0</td>\n",
       "        <td style=\"padding-left: 1em; padding-right: 1em; text-align: center; vertical-align: top\">0.999999642488</td>\n",
       "    </tr>\n",
       "    <tr>\n",
       "        <td style=\"padding-left: 1em; padding-right: 1em; text-align: center; vertical-align: top\">0</td>\n",
       "        <td style=\"padding-left: 1em; padding-right: 1em; text-align: center; vertical-align: top\">0</td>\n",
       "        <td style=\"padding-left: 1em; padding-right: 1em; text-align: center; vertical-align: top\">0</td>\n",
       "        <td style=\"padding-left: 1em; padding-right: 1em; text-align: center; vertical-align: top\">0</td>\n",
       "        <td style=\"padding-left: 1em; padding-right: 1em; text-align: center; vertical-align: top\">0</td>\n",
       "        <td style=\"padding-left: 1em; padding-right: 1em; text-align: center; vertical-align: top\">0</td>\n",
       "        <td style=\"padding-left: 1em; padding-right: 1em; text-align: center; vertical-align: top\">0</td>\n",
       "        <td style=\"padding-left: 1em; padding-right: 1em; text-align: center; vertical-align: top\">0</td>\n",
       "        <td style=\"padding-left: 1em; padding-right: 1em; text-align: center; vertical-align: top\">0</td>\n",
       "        <td style=\"padding-left: 1em; padding-right: 1em; text-align: center; vertical-align: top\">0</td>\n",
       "        <td style=\"padding-left: 1em; padding-right: 1em; text-align: center; vertical-align: top\">0.97415225478</td>\n",
       "    </tr>\n",
       "    <tr>\n",
       "        <td style=\"padding-left: 1em; padding-right: 1em; text-align: center; vertical-align: top\">0</td>\n",
       "        <td style=\"padding-left: 1em; padding-right: 1em; text-align: center; vertical-align: top\">0</td>\n",
       "        <td style=\"padding-left: 1em; padding-right: 1em; text-align: center; vertical-align: top\">0</td>\n",
       "        <td style=\"padding-left: 1em; padding-right: 1em; text-align: center; vertical-align: top\">2</td>\n",
       "        <td style=\"padding-left: 1em; padding-right: 1em; text-align: center; vertical-align: top\">0</td>\n",
       "        <td style=\"padding-left: 1em; padding-right: 1em; text-align: center; vertical-align: top\">0</td>\n",
       "        <td style=\"padding-left: 1em; padding-right: 1em; text-align: center; vertical-align: top\">0</td>\n",
       "        <td style=\"padding-left: 1em; padding-right: 1em; text-align: center; vertical-align: top\">0</td>\n",
       "        <td style=\"padding-left: 1em; padding-right: 1em; text-align: center; vertical-align: top\">0</td>\n",
       "        <td style=\"padding-left: 1em; padding-right: 1em; text-align: center; vertical-align: top\">0</td>\n",
       "        <td style=\"padding-left: 1em; padding-right: 1em; text-align: center; vertical-align: top\">0.99267406035</td>\n",
       "    </tr>\n",
       "</table>\n",
       "<table frame=\"box\" rules=\"cols\">\n",
       "    <tr>\n",
       "        <th style=\"padding-left: 1em; padding-right: 1em; text-align: center\">predicted_sentiment_selec<br>ted ...</th>\n",
       "    </tr>\n",
       "    <tr>\n",
       "        <td style=\"padding-left: 1em; padding-right: 1em; text-align: center; vertical-align: top\">0.796940851291</td>\n",
       "    </tr>\n",
       "    <tr>\n",
       "        <td style=\"padding-left: 1em; padding-right: 1em; text-align: center; vertical-align: top\">0.796940851291</td>\n",
       "    </tr>\n",
       "    <tr>\n",
       "        <td style=\"padding-left: 1em; padding-right: 1em; text-align: center; vertical-align: top\">0.796940851291</td>\n",
       "    </tr>\n",
       "    <tr>\n",
       "        <td style=\"padding-left: 1em; padding-right: 1em; text-align: center; vertical-align: top\">0.940876393428</td>\n",
       "    </tr>\n",
       "    <tr>\n",
       "        <td style=\"padding-left: 1em; padding-right: 1em; text-align: center; vertical-align: top\">0.347684052736</td>\n",
       "    </tr>\n",
       "    <tr>\n",
       "        <td style=\"padding-left: 1em; padding-right: 1em; text-align: center; vertical-align: top\">0.5942241719</td>\n",
       "    </tr>\n",
       "    <tr>\n",
       "        <td style=\"padding-left: 1em; padding-right: 1em; text-align: center; vertical-align: top\">0.796940851291</td>\n",
       "    </tr>\n",
       "    <tr>\n",
       "        <td style=\"padding-left: 1em; padding-right: 1em; text-align: center; vertical-align: top\">0.796940851291</td>\n",
       "    </tr>\n",
       "    <tr>\n",
       "        <td style=\"padding-left: 1em; padding-right: 1em; text-align: center; vertical-align: top\">0.796940851291</td>\n",
       "    </tr>\n",
       "    <tr>\n",
       "        <td style=\"padding-left: 1em; padding-right: 1em; text-align: center; vertical-align: top\">0.984739056527</td>\n",
       "    </tr>\n",
       "</table>\n",
       "[10 rows x 18 columns]<br/>\n",
       "</div>"
      ],
      "text/plain": [
       "Columns:\n",
       "\tname\tstr\n",
       "\treview\tstr\n",
       "\trating\tfloat\n",
       "\tword_count\tdict\n",
       "\tsentiment\tint\n",
       "\tawesome\tint\n",
       "\tgreat\tint\n",
       "\tfantastic\tint\n",
       "\tamazing\tint\n",
       "\tlove\tint\n",
       "\thorrible\tint\n",
       "\tbad\tint\n",
       "\tterrible\tint\n",
       "\tawful\tint\n",
       "\twow\tint\n",
       "\thate\tint\n",
       "\tpredicted_sentiment\tfloat\n",
       "\tpredicted_sentiment_selected\tfloat\n",
       "\n",
       "Rows: 10\n",
       "\n",
       "Data:\n",
       "+-------------------------+-------------------------------+--------+\n",
       "|           name          |             review            | rating |\n",
       "+-------------------------+-------------------------------+--------+\n",
       "| Baby Trend Diaper Champ | Ok - newsflash.  Diapers a... |  4.0   |\n",
       "| Baby Trend Diaper Champ | My husband and I selected ... |  1.0   |\n",
       "| Baby Trend Diaper Champ | Excellent diaper disposal ... |  5.0   |\n",
       "| Baby Trend Diaper Champ | We love our diaper champ. ... |  5.0   |\n",
       "| Baby Trend Diaper Champ | Two girlfriends and two fa... |  5.0   |\n",
       "| Baby Trend Diaper Champ | I waited to review this un... |  4.0   |\n",
       "| Baby Trend Diaper Champ | I have had a diaper genie ... |  1.0   |\n",
       "| Baby Trend Diaper Champ | I originally put this item... |  5.0   |\n",
       "| Baby Trend Diaper Champ | I am so glad I got the Dia... |  5.0   |\n",
       "| Baby Trend Diaper Champ | We had 2 diaper Genie's bo... |  4.0   |\n",
       "+-------------------------+-------------------------------+--------+\n",
       "+-------------------------------+-----------+---------+-------+-----------+---------+\n",
       "|           word_count          | sentiment | awesome | great | fantastic | amazing |\n",
       "+-------------------------------+-----------+---------+-------+-----------+---------+\n",
       "| {'just': 2L, 'less': 1L, '... |     1     |    0    |   0   |     0     |    0    |\n",
       "| {'just': 1L, 'less': 1L, '... |     0     |    0    |   0   |     0     |    0    |\n",
       "| {'control': 1L, 'am': 1L, ... |     1     |    0    |   0   |     0     |    0    |\n",
       "| {'and': 3L, 'over.': 1L, '... |     1     |    0    |   0   |     0     |    0    |\n",
       "| {'just': 1L, 'when': 1L, '... |     1     |    0    |   0   |     0     |    0    |\n",
       "| {'lysol': 1L, 'all': 1L, '... |     1     |    0    |   0   |     0     |    0    |\n",
       "| {'all': 1L, 'bags.': 1L, '... |     0     |    0    |   0   |     0     |    0    |\n",
       "| {'lysol': 1L, 'all': 2L, '... |     1     |    0    |   0   |     0     |    0    |\n",
       "| {'and': 2L, 'all': 1L, 'ju... |     1     |    0    |   0   |     0     |    0    |\n",
       "| {'hand.': 1L, '(required':... |     1     |    0    |   0   |     0     |    0    |\n",
       "+-------------------------------+-----------+---------+-------+-----------+---------+\n",
       "+------+----------+-----+----------+-------+-----+------+---------------------+\n",
       "| love | horrible | bad | terrible | awful | wow | hate | predicted_sentiment |\n",
       "+------+----------+-----+----------+-------+-----+------+---------------------+\n",
       "|  0   |    0     |  0  |    0     |   0   |  0  |  0   |    0.958443580893   |\n",
       "|  0   |    0     |  0  |    0     |   0   |  0  |  0   |  2.47155884995e-12  |\n",
       "|  0   |    0     |  0  |    0     |   0   |  0  |  0   |    0.999994864775   |\n",
       "|  1   |    0     |  0  |    0     |   0   |  0  |  0   |    0.998779072633   |\n",
       "|  0   |    1     |  0  |    0     |   0   |  0  |  0   |    0.999999604504   |\n",
       "|  0   |    0     |  1  |    0     |   0   |  0  |  0   |    0.999952233179   |\n",
       "|  0   |    0     |  0  |    0     |   0   |  0  |  0   |    0.972560724165   |\n",
       "|  0   |    0     |  0  |    0     |   0   |  0  |  0   |    0.999999642488   |\n",
       "|  0   |    0     |  0  |    0     |   0   |  0  |  0   |    0.97415225478    |\n",
       "|  2   |    0     |  0  |    0     |   0   |  0  |  0   |    0.99267406035    |\n",
       "+------+----------+-----+----------+-------+-----+------+---------------------+\n",
       "+------------------------------+\n",
       "| predicted_sentiment_selected |\n",
       "+------------------------------+\n",
       "|        0.796940851291        |\n",
       "|        0.796940851291        |\n",
       "|        0.796940851291        |\n",
       "|        0.940876393428        |\n",
       "|        0.347684052736        |\n",
       "|         0.5942241719         |\n",
       "|        0.796940851291        |\n",
       "|        0.796940851291        |\n",
       "|        0.796940851291        |\n",
       "|        0.984739056527        |\n",
       "+------------------------------+\n",
       "[10 rows x 18 columns]"
      ]
     },
     "execution_count": 64,
     "metadata": {},
     "output_type": "execute_result"
    }
   ],
   "source": [
    "diapers.head()"
   ]
  },
  {
   "cell_type": "code",
   "execution_count": 65,
   "metadata": {
    "collapsed": false
   },
   "outputs": [
    {
     "data": {
      "text/plain": [
       "'wow'"
      ]
     },
     "execution_count": 65,
     "metadata": {},
     "output_type": "execute_result"
    }
   ],
   "source": [
    "selected_words[9]"
   ]
  },
  {
   "cell_type": "code",
   "execution_count": 67,
   "metadata": {
    "collapsed": false
   },
   "outputs": [
    {
     "name": "stdout",
     "output_type": "stream",
     "text": [
      "+-------------+-------+-------+------------------+------------------+\n",
      "|     name    | index | class |      value       |      stderr      |\n",
      "+-------------+-------+-------+------------------+------------------+\n",
      "| (intercept) |  None |   1   |  1.36728315229   | 0.00861805467824 |\n",
      "|   awesome   |  None |   1   |  1.05800888878   |  0.110865296265  |\n",
      "|    great    |  None |   1   |  0.883937894898  | 0.0217379527921  |\n",
      "|  fantastic  |  None |   1   |  0.891303090304  |  0.154532343591  |\n",
      "|   amazing   |  None |   1   |  0.892802422508  |  0.127989503231  |\n",
      "|     love    |  None |   1   |  1.39989834302   | 0.0287147460124  |\n",
      "|   horrible  |  None |   1   |  -1.99651800559  | 0.0973584169028  |\n",
      "|     bad     |  None |   1   | -0.985827369929  | 0.0433603009142  |\n",
      "|   terrible  |  None |   1   |  -2.09049998487  | 0.0967241912229  |\n",
      "|    awful    |  None |   1   |  -1.76469955631  |  0.134679803365  |\n",
      "|     wow     |  None |   1   | -0.0541450123333 |  0.275616449416  |\n",
      "|     hate    |  None |   1   |  -1.40916406276  | 0.0771983993506  |\n",
      "+-------------+-------+-------+------------------+------------------+\n",
      "[12 rows x 5 columns]\n",
      "\n"
     ]
    }
   ],
   "source": [
    "selected_words_model['coefficients'].print_rows(num_rows=12)"
   ]
  },
  {
   "cell_type": "code",
   "execution_count": 71,
   "metadata": {
    "collapsed": false
   },
   "outputs": [
    {
     "data": {
      "text/html": [
       "<div style=\"max-height:1000px;max-width:1500px;overflow:auto;\"><table frame=\"box\" rules=\"cols\">\n",
       "    <tr>\n",
       "        <th style=\"padding-left: 1em; padding-right: 1em; text-align: center\">name</th>\n",
       "        <th style=\"padding-left: 1em; padding-right: 1em; text-align: center\">review</th>\n",
       "        <th style=\"padding-left: 1em; padding-right: 1em; text-align: center\">rating</th>\n",
       "        <th style=\"padding-left: 1em; padding-right: 1em; text-align: center\">word_count</th>\n",
       "        <th style=\"padding-left: 1em; padding-right: 1em; text-align: center\">sentiment</th>\n",
       "        <th style=\"padding-left: 1em; padding-right: 1em; text-align: center\">awesome</th>\n",
       "    </tr>\n",
       "    <tr>\n",
       "        <td style=\"padding-left: 1em; padding-right: 1em; text-align: center; vertical-align: top\">Baby Trend Diaper Champ</td>\n",
       "        <td style=\"padding-left: 1em; padding-right: 1em; text-align: center; vertical-align: top\">I LOVE LOVE LOVE this<br>product! It is SO much ...</td>\n",
       "        <td style=\"padding-left: 1em; padding-right: 1em; text-align: center; vertical-align: top\">4.0</td>\n",
       "        <td style=\"padding-left: 1em; padding-right: 1em; text-align: center; vertical-align: top\">{'rating': 1L,<br>'contacted': 1L, 'over': ...</td>\n",
       "        <td style=\"padding-left: 1em; padding-right: 1em; text-align: center; vertical-align: top\">1</td>\n",
       "        <td style=\"padding-left: 1em; padding-right: 1em; text-align: center; vertical-align: top\">0</td>\n",
       "    </tr>\n",
       "    <tr>\n",
       "        <td style=\"padding-left: 1em; padding-right: 1em; text-align: center; vertical-align: top\">Baby Trend Diaper Champ</td>\n",
       "        <td style=\"padding-left: 1em; padding-right: 1em; text-align: center; vertical-align: top\">Love it, love it, love<br>it!  This lives up to ...</td>\n",
       "        <td style=\"padding-left: 1em; padding-right: 1em; text-align: center; vertical-align: top\">5.0</td>\n",
       "        <td style=\"padding-left: 1em; padding-right: 1em; text-align: center; vertical-align: top\">{'all': 1L, 'already':<br>1L, 'love': 3L, 'have': ...</td>\n",
       "        <td style=\"padding-left: 1em; padding-right: 1em; text-align: center; vertical-align: top\">1</td>\n",
       "        <td style=\"padding-left: 1em; padding-right: 1em; text-align: center; vertical-align: top\">0</td>\n",
       "    </tr>\n",
       "    <tr>\n",
       "        <td style=\"padding-left: 1em; padding-right: 1em; text-align: center; vertical-align: top\">Baby Trend Diaper Champ</td>\n",
       "        <td style=\"padding-left: 1em; padding-right: 1em; text-align: center; vertical-align: top\">I received my Diaper<br>Champ at my baby shower ...</td>\n",
       "        <td style=\"padding-left: 1em; padding-right: 1em; text-align: center; vertical-align: top\">5.0</td>\n",
       "        <td style=\"padding-left: 1em; padding-right: 1em; text-align: center; vertical-align: top\">{'bags.': 1L, \"don't\":<br>1L, 'son.': 1L, 'of,': ...</td>\n",
       "        <td style=\"padding-left: 1em; padding-right: 1em; text-align: center; vertical-align: top\">1</td>\n",
       "        <td style=\"padding-left: 1em; padding-right: 1em; text-align: center; vertical-align: top\">0</td>\n",
       "    </tr>\n",
       "    <tr>\n",
       "        <td style=\"padding-left: 1em; padding-right: 1em; text-align: center; vertical-align: top\">Baby Trend Diaper Champ</td>\n",
       "        <td style=\"padding-left: 1em; padding-right: 1em; text-align: center; vertical-align: top\">I love this diaper pale<br>and wouldn't dream of ...</td>\n",
       "        <td style=\"padding-left: 1em; padding-right: 1em; text-align: center; vertical-align: top\">5.0</td>\n",
       "        <td style=\"padding-left: 1em; padding-right: 1em; text-align: center; vertical-align: top\">{'and': 3L, 'love': 1L,<br>'use.': 1L, 'is': 2L, ...</td>\n",
       "        <td style=\"padding-left: 1em; padding-right: 1em; text-align: center; vertical-align: top\">1</td>\n",
       "        <td style=\"padding-left: 1em; padding-right: 1em; text-align: center; vertical-align: top\">0</td>\n",
       "    </tr>\n",
       "    <tr>\n",
       "        <td style=\"padding-left: 1em; padding-right: 1em; text-align: center; vertical-align: top\">Baby Trend Diaper Champ</td>\n",
       "        <td style=\"padding-left: 1em; padding-right: 1em; text-align: center; vertical-align: top\">Works great - no smells.<br>LOVE that it uses reg ...</td>\n",
       "        <td style=\"padding-left: 1em; padding-right: 1em; text-align: center; vertical-align: top\">5.0</td>\n",
       "        <td style=\"padding-left: 1em; padding-right: 1em; text-align: center; vertical-align: top\">{'and': 2L, 'love': 1L,<br>'garbage': 1L, ...</td>\n",
       "        <td style=\"padding-left: 1em; padding-right: 1em; text-align: center; vertical-align: top\">1</td>\n",
       "        <td style=\"padding-left: 1em; padding-right: 1em; text-align: center; vertical-align: top\">0</td>\n",
       "    </tr>\n",
       "    <tr>\n",
       "        <td style=\"padding-left: 1em; padding-right: 1em; text-align: center; vertical-align: top\">Baby Trend Diaper Champ</td>\n",
       "        <td style=\"padding-left: 1em; padding-right: 1em; text-align: center; vertical-align: top\">I've worked with kids<br>more than half my life. ...</td>\n",
       "        <td style=\"padding-left: 1em; padding-right: 1em; text-align: center; vertical-align: top\">5.0</td>\n",
       "        <td style=\"padding-left: 1em; padding-right: 1em; text-align: center; vertical-align: top\">{'and': 4L, 'genies': 1L,<br>'now': 1L, 'because': ...</td>\n",
       "        <td style=\"padding-left: 1em; padding-right: 1em; text-align: center; vertical-align: top\">1</td>\n",
       "        <td style=\"padding-left: 1em; padding-right: 1em; text-align: center; vertical-align: top\">0</td>\n",
       "    </tr>\n",
       "    <tr>\n",
       "        <td style=\"padding-left: 1em; padding-right: 1em; text-align: center; vertical-align: top\">Baby Trend Diaper Champ</td>\n",
       "        <td style=\"padding-left: 1em; padding-right: 1em; text-align: center; vertical-align: top\">I have a two-year-old son<br>and I love the Diaper ...</td>\n",
       "        <td style=\"padding-left: 1em; padding-right: 1em; text-align: center; vertical-align: top\">5.0</td>\n",
       "        <td style=\"padding-left: 1em; padding-right: 1em; text-align: center; vertical-align: top\">{'and': 6L, 'two-year-<br>old': 1L, \"toddler's\": ...</td>\n",
       "        <td style=\"padding-left: 1em; padding-right: 1em; text-align: center; vertical-align: top\">1</td>\n",
       "        <td style=\"padding-left: 1em; padding-right: 1em; text-align: center; vertical-align: top\">0</td>\n",
       "    </tr>\n",
       "    <tr>\n",
       "        <td style=\"padding-left: 1em; padding-right: 1em; text-align: center; vertical-align: top\">Baby Trend Diaper Champ</td>\n",
       "        <td style=\"padding-left: 1em; padding-right: 1em; text-align: center; vertical-align: top\">Love the Diaper Champ.  I<br>had planned to get the ...</td>\n",
       "        <td style=\"padding-left: 1em; padding-right: 1em; text-align: center; vertical-align: top\">4.0</td>\n",
       "        <td style=\"padding-left: 1em; padding-right: 1em; text-align: center; vertical-align: top\">{'reviews,': 1L, 'all':<br>1L, 'bags.': 1L, 'just': ...</td>\n",
       "        <td style=\"padding-left: 1em; padding-right: 1em; text-align: center; vertical-align: top\">1</td>\n",
       "        <td style=\"padding-left: 1em; padding-right: 1em; text-align: center; vertical-align: top\">0</td>\n",
       "    </tr>\n",
       "    <tr>\n",
       "        <td style=\"padding-left: 1em; padding-right: 1em; text-align: center; vertical-align: top\">Baby Trend Diaper Champ</td>\n",
       "        <td style=\"padding-left: 1em; padding-right: 1em; text-align: center; vertical-align: top\">I love this diaper pail.<br>It keeps the diapers  ...</td>\n",
       "        <td style=\"padding-left: 1em; padding-right: 1em; text-align: center; vertical-align: top\">4.0</td>\n",
       "        <td style=\"padding-left: 1em; padding-right: 1em; text-align: center; vertical-align: top\">{'and': 1L, 'bags.': 1L,<br>'extra': 1L, 'is': 1L, ...</td>\n",
       "        <td style=\"padding-left: 1em; padding-right: 1em; text-align: center; vertical-align: top\">1</td>\n",
       "        <td style=\"padding-left: 1em; padding-right: 1em; text-align: center; vertical-align: top\">0</td>\n",
       "    </tr>\n",
       "    <tr>\n",
       "        <td style=\"padding-left: 1em; padding-right: 1em; text-align: center; vertical-align: top\">Baby Trend Diaper Champ</td>\n",
       "        <td style=\"padding-left: 1em; padding-right: 1em; text-align: center; vertical-align: top\">I have a 10 year old<br>daughter and an 8 month ...</td>\n",
       "        <td style=\"padding-left: 1em; padding-right: 1em; text-align: center; vertical-align: top\">5.0</td>\n",
       "        <td style=\"padding-left: 1em; padding-right: 1em; text-align: center; vertical-align: top\">{'lysol': 1L, 'all': 1L,<br>'just': 2L, 'hand,': 1L, ...</td>\n",
       "        <td style=\"padding-left: 1em; padding-right: 1em; text-align: center; vertical-align: top\">1</td>\n",
       "        <td style=\"padding-left: 1em; padding-right: 1em; text-align: center; vertical-align: top\">0</td>\n",
       "    </tr>\n",
       "</table>\n",
       "<table frame=\"box\" rules=\"cols\">\n",
       "    <tr>\n",
       "        <th style=\"padding-left: 1em; padding-right: 1em; text-align: center\">great</th>\n",
       "        <th style=\"padding-left: 1em; padding-right: 1em; text-align: center\">fantastic</th>\n",
       "        <th style=\"padding-left: 1em; padding-right: 1em; text-align: center\">amazing</th>\n",
       "        <th style=\"padding-left: 1em; padding-right: 1em; text-align: center\">love</th>\n",
       "        <th style=\"padding-left: 1em; padding-right: 1em; text-align: center\">horrible</th>\n",
       "        <th style=\"padding-left: 1em; padding-right: 1em; text-align: center\">bad</th>\n",
       "        <th style=\"padding-left: 1em; padding-right: 1em; text-align: center\">terrible</th>\n",
       "        <th style=\"padding-left: 1em; padding-right: 1em; text-align: center\">awful</th>\n",
       "        <th style=\"padding-left: 1em; padding-right: 1em; text-align: center\">wow</th>\n",
       "        <th style=\"padding-left: 1em; padding-right: 1em; text-align: center\">hate</th>\n",
       "        <th style=\"padding-left: 1em; padding-right: 1em; text-align: center\">predicted_sentiment</th>\n",
       "    </tr>\n",
       "    <tr>\n",
       "        <td style=\"padding-left: 1em; padding-right: 1em; text-align: center; vertical-align: top\">1</td>\n",
       "        <td style=\"padding-left: 1em; padding-right: 1em; text-align: center; vertical-align: top\">0</td>\n",
       "        <td style=\"padding-left: 1em; padding-right: 1em; text-align: center; vertical-align: top\">0</td>\n",
       "        <td style=\"padding-left: 1em; padding-right: 1em; text-align: center; vertical-align: top\">3</td>\n",
       "        <td style=\"padding-left: 1em; padding-right: 1em; text-align: center; vertical-align: top\">0</td>\n",
       "        <td style=\"padding-left: 1em; padding-right: 1em; text-align: center; vertical-align: top\">0</td>\n",
       "        <td style=\"padding-left: 1em; padding-right: 1em; text-align: center; vertical-align: top\">0</td>\n",
       "        <td style=\"padding-left: 1em; padding-right: 1em; text-align: center; vertical-align: top\">0</td>\n",
       "        <td style=\"padding-left: 1em; padding-right: 1em; text-align: center; vertical-align: top\">0</td>\n",
       "        <td style=\"padding-left: 1em; padding-right: 1em; text-align: center; vertical-align: top\">0</td>\n",
       "        <td style=\"padding-left: 1em; padding-right: 1em; text-align: center; vertical-align: top\">0.999993652036</td>\n",
       "    </tr>\n",
       "    <tr>\n",
       "        <td style=\"padding-left: 1em; padding-right: 1em; text-align: center; vertical-align: top\">0</td>\n",
       "        <td style=\"padding-left: 1em; padding-right: 1em; text-align: center; vertical-align: top\">0</td>\n",
       "        <td style=\"padding-left: 1em; padding-right: 1em; text-align: center; vertical-align: top\">0</td>\n",
       "        <td style=\"padding-left: 1em; padding-right: 1em; text-align: center; vertical-align: top\">3</td>\n",
       "        <td style=\"padding-left: 1em; padding-right: 1em; text-align: center; vertical-align: top\">0</td>\n",
       "        <td style=\"padding-left: 1em; padding-right: 1em; text-align: center; vertical-align: top\">0</td>\n",
       "        <td style=\"padding-left: 1em; padding-right: 1em; text-align: center; vertical-align: top\">0</td>\n",
       "        <td style=\"padding-left: 1em; padding-right: 1em; text-align: center; vertical-align: top\">0</td>\n",
       "        <td style=\"padding-left: 1em; padding-right: 1em; text-align: center; vertical-align: top\">0</td>\n",
       "        <td style=\"padding-left: 1em; padding-right: 1em; text-align: center; vertical-align: top\">0</td>\n",
       "        <td style=\"padding-left: 1em; padding-right: 1em; text-align: center; vertical-align: top\">0.985732101571</td>\n",
       "    </tr>\n",
       "    <tr>\n",
       "        <td style=\"padding-left: 1em; padding-right: 1em; text-align: center; vertical-align: top\">0</td>\n",
       "        <td style=\"padding-left: 1em; padding-right: 1em; text-align: center; vertical-align: top\">0</td>\n",
       "        <td style=\"padding-left: 1em; padding-right: 1em; text-align: center; vertical-align: top\">0</td>\n",
       "        <td style=\"padding-left: 1em; padding-right: 1em; text-align: center; vertical-align: top\">3</td>\n",
       "        <td style=\"padding-left: 1em; padding-right: 1em; text-align: center; vertical-align: top\">0</td>\n",
       "        <td style=\"padding-left: 1em; padding-right: 1em; text-align: center; vertical-align: top\">0</td>\n",
       "        <td style=\"padding-left: 1em; padding-right: 1em; text-align: center; vertical-align: top\">0</td>\n",
       "        <td style=\"padding-left: 1em; padding-right: 1em; text-align: center; vertical-align: top\">0</td>\n",
       "        <td style=\"padding-left: 1em; padding-right: 1em; text-align: center; vertical-align: top\">0</td>\n",
       "        <td style=\"padding-left: 1em; padding-right: 1em; text-align: center; vertical-align: top\">0</td>\n",
       "        <td style=\"padding-left: 1em; padding-right: 1em; text-align: center; vertical-align: top\">0.999301330286</td>\n",
       "    </tr>\n",
       "    <tr>\n",
       "        <td style=\"padding-left: 1em; padding-right: 1em; text-align: center; vertical-align: top\">2</td>\n",
       "        <td style=\"padding-left: 1em; padding-right: 1em; text-align: center; vertical-align: top\">0</td>\n",
       "        <td style=\"padding-left: 1em; padding-right: 1em; text-align: center; vertical-align: top\">0</td>\n",
       "        <td style=\"padding-left: 1em; padding-right: 1em; text-align: center; vertical-align: top\">1</td>\n",
       "        <td style=\"padding-left: 1em; padding-right: 1em; text-align: center; vertical-align: top\">0</td>\n",
       "        <td style=\"padding-left: 1em; padding-right: 1em; text-align: center; vertical-align: top\">0</td>\n",
       "        <td style=\"padding-left: 1em; padding-right: 1em; text-align: center; vertical-align: top\">0</td>\n",
       "        <td style=\"padding-left: 1em; padding-right: 1em; text-align: center; vertical-align: top\">0</td>\n",
       "        <td style=\"padding-left: 1em; padding-right: 1em; text-align: center; vertical-align: top\">0</td>\n",
       "        <td style=\"padding-left: 1em; padding-right: 1em; text-align: center; vertical-align: top\">0</td>\n",
       "        <td style=\"padding-left: 1em; padding-right: 1em; text-align: center; vertical-align: top\">0.983086548255</td>\n",
       "    </tr>\n",
       "    <tr>\n",
       "        <td style=\"padding-left: 1em; padding-right: 1em; text-align: center; vertical-align: top\">2</td>\n",
       "        <td style=\"padding-left: 1em; padding-right: 1em; text-align: center; vertical-align: top\">0</td>\n",
       "        <td style=\"padding-left: 1em; padding-right: 1em; text-align: center; vertical-align: top\">0</td>\n",
       "        <td style=\"padding-left: 1em; padding-right: 1em; text-align: center; vertical-align: top\">1</td>\n",
       "        <td style=\"padding-left: 1em; padding-right: 1em; text-align: center; vertical-align: top\">0</td>\n",
       "        <td style=\"padding-left: 1em; padding-right: 1em; text-align: center; vertical-align: top\">0</td>\n",
       "        <td style=\"padding-left: 1em; padding-right: 1em; text-align: center; vertical-align: top\">0</td>\n",
       "        <td style=\"padding-left: 1em; padding-right: 1em; text-align: center; vertical-align: top\">0</td>\n",
       "        <td style=\"padding-left: 1em; padding-right: 1em; text-align: center; vertical-align: top\">0</td>\n",
       "        <td style=\"padding-left: 1em; padding-right: 1em; text-align: center; vertical-align: top\">0</td>\n",
       "        <td style=\"padding-left: 1em; padding-right: 1em; text-align: center; vertical-align: top\">0.998904798032</td>\n",
       "    </tr>\n",
       "    <tr>\n",
       "        <td style=\"padding-left: 1em; padding-right: 1em; text-align: center; vertical-align: top\">0</td>\n",
       "        <td style=\"padding-left: 1em; padding-right: 1em; text-align: center; vertical-align: top\">0</td>\n",
       "        <td style=\"padding-left: 1em; padding-right: 1em; text-align: center; vertical-align: top\">0</td>\n",
       "        <td style=\"padding-left: 1em; padding-right: 1em; text-align: center; vertical-align: top\">2</td>\n",
       "        <td style=\"padding-left: 1em; padding-right: 1em; text-align: center; vertical-align: top\">0</td>\n",
       "        <td style=\"padding-left: 1em; padding-right: 1em; text-align: center; vertical-align: top\">0</td>\n",
       "        <td style=\"padding-left: 1em; padding-right: 1em; text-align: center; vertical-align: top\">0</td>\n",
       "        <td style=\"padding-left: 1em; padding-right: 1em; text-align: center; vertical-align: top\">0</td>\n",
       "        <td style=\"padding-left: 1em; padding-right: 1em; text-align: center; vertical-align: top\">0</td>\n",
       "        <td style=\"padding-left: 1em; padding-right: 1em; text-align: center; vertical-align: top\">0</td>\n",
       "        <td style=\"padding-left: 1em; padding-right: 1em; text-align: center; vertical-align: top\">0.999879939529</td>\n",
       "    </tr>\n",
       "    <tr>\n",
       "        <td style=\"padding-left: 1em; padding-right: 1em; text-align: center; vertical-align: top\">0</td>\n",
       "        <td style=\"padding-left: 1em; padding-right: 1em; text-align: center; vertical-align: top\">0</td>\n",
       "        <td style=\"padding-left: 1em; padding-right: 1em; text-align: center; vertical-align: top\">0</td>\n",
       "        <td style=\"padding-left: 1em; padding-right: 1em; text-align: center; vertical-align: top\">2</td>\n",
       "        <td style=\"padding-left: 1em; padding-right: 1em; text-align: center; vertical-align: top\">0</td>\n",
       "        <td style=\"padding-left: 1em; padding-right: 1em; text-align: center; vertical-align: top\">0</td>\n",
       "        <td style=\"padding-left: 1em; padding-right: 1em; text-align: center; vertical-align: top\">0</td>\n",
       "        <td style=\"padding-left: 1em; padding-right: 1em; text-align: center; vertical-align: top\">0</td>\n",
       "        <td style=\"padding-left: 1em; padding-right: 1em; text-align: center; vertical-align: top\">0</td>\n",
       "        <td style=\"padding-left: 1em; padding-right: 1em; text-align: center; vertical-align: top\">0</td>\n",
       "        <td style=\"padding-left: 1em; padding-right: 1em; text-align: center; vertical-align: top\">0.833101136873</td>\n",
       "    </tr>\n",
       "    <tr>\n",
       "        <td style=\"padding-left: 1em; padding-right: 1em; text-align: center; vertical-align: top\">0</td>\n",
       "        <td style=\"padding-left: 1em; padding-right: 1em; text-align: center; vertical-align: top\">0</td>\n",
       "        <td style=\"padding-left: 1em; padding-right: 1em; text-align: center; vertical-align: top\">0</td>\n",
       "        <td style=\"padding-left: 1em; padding-right: 1em; text-align: center; vertical-align: top\">2</td>\n",
       "        <td style=\"padding-left: 1em; padding-right: 1em; text-align: center; vertical-align: top\">0</td>\n",
       "        <td style=\"padding-left: 1em; padding-right: 1em; text-align: center; vertical-align: top\">0</td>\n",
       "        <td style=\"padding-left: 1em; padding-right: 1em; text-align: center; vertical-align: top\">0</td>\n",
       "        <td style=\"padding-left: 1em; padding-right: 1em; text-align: center; vertical-align: top\">0</td>\n",
       "        <td style=\"padding-left: 1em; padding-right: 1em; text-align: center; vertical-align: top\">0</td>\n",
       "        <td style=\"padding-left: 1em; padding-right: 1em; text-align: center; vertical-align: top\">0</td>\n",
       "        <td style=\"padding-left: 1em; padding-right: 1em; text-align: center; vertical-align: top\">0.998471561712</td>\n",
       "    </tr>\n",
       "    <tr>\n",
       "        <td style=\"padding-left: 1em; padding-right: 1em; text-align: center; vertical-align: top\">0</td>\n",
       "        <td style=\"padding-left: 1em; padding-right: 1em; text-align: center; vertical-align: top\">0</td>\n",
       "        <td style=\"padding-left: 1em; padding-right: 1em; text-align: center; vertical-align: top\">0</td>\n",
       "        <td style=\"padding-left: 1em; padding-right: 1em; text-align: center; vertical-align: top\">2</td>\n",
       "        <td style=\"padding-left: 1em; padding-right: 1em; text-align: center; vertical-align: top\">0</td>\n",
       "        <td style=\"padding-left: 1em; padding-right: 1em; text-align: center; vertical-align: top\">0</td>\n",
       "        <td style=\"padding-left: 1em; padding-right: 1em; text-align: center; vertical-align: top\">0</td>\n",
       "        <td style=\"padding-left: 1em; padding-right: 1em; text-align: center; vertical-align: top\">0</td>\n",
       "        <td style=\"padding-left: 1em; padding-right: 1em; text-align: center; vertical-align: top\">0</td>\n",
       "        <td style=\"padding-left: 1em; padding-right: 1em; text-align: center; vertical-align: top\">0</td>\n",
       "        <td style=\"padding-left: 1em; padding-right: 1em; text-align: center; vertical-align: top\">0.998240768806</td>\n",
       "    </tr>\n",
       "    <tr>\n",
       "        <td style=\"padding-left: 1em; padding-right: 1em; text-align: center; vertical-align: top\">0</td>\n",
       "        <td style=\"padding-left: 1em; padding-right: 1em; text-align: center; vertical-align: top\">0</td>\n",
       "        <td style=\"padding-left: 1em; padding-right: 1em; text-align: center; vertical-align: top\">0</td>\n",
       "        <td style=\"padding-left: 1em; padding-right: 1em; text-align: center; vertical-align: top\">2</td>\n",
       "        <td style=\"padding-left: 1em; padding-right: 1em; text-align: center; vertical-align: top\">0</td>\n",
       "        <td style=\"padding-left: 1em; padding-right: 1em; text-align: center; vertical-align: top\">0</td>\n",
       "        <td style=\"padding-left: 1em; padding-right: 1em; text-align: center; vertical-align: top\">0</td>\n",
       "        <td style=\"padding-left: 1em; padding-right: 1em; text-align: center; vertical-align: top\">0</td>\n",
       "        <td style=\"padding-left: 1em; padding-right: 1em; text-align: center; vertical-align: top\">0</td>\n",
       "        <td style=\"padding-left: 1em; padding-right: 1em; text-align: center; vertical-align: top\">0</td>\n",
       "        <td style=\"padding-left: 1em; padding-right: 1em; text-align: center; vertical-align: top\">0.999990587003</td>\n",
       "    </tr>\n",
       "</table>\n",
       "<table frame=\"box\" rules=\"cols\">\n",
       "    <tr>\n",
       "        <th style=\"padding-left: 1em; padding-right: 1em; text-align: center\">predicted_sentiment_selec<br>ted ...</th>\n",
       "    </tr>\n",
       "    <tr>\n",
       "        <td style=\"padding-left: 1em; padding-right: 1em; text-align: center; vertical-align: top\">0.998423414594</td>\n",
       "    </tr>\n",
       "    <tr>\n",
       "        <td style=\"padding-left: 1em; padding-right: 1em; text-align: center; vertical-align: top\">0.996192539732</td>\n",
       "    </tr>\n",
       "    <tr>\n",
       "        <td style=\"padding-left: 1em; padding-right: 1em; text-align: center; vertical-align: top\">0.996192539732</td>\n",
       "    </tr>\n",
       "    <tr>\n",
       "        <td style=\"padding-left: 1em; padding-right: 1em; text-align: center; vertical-align: top\">0.989387539605</td>\n",
       "    </tr>\n",
       "    <tr>\n",
       "        <td style=\"padding-left: 1em; padding-right: 1em; text-align: center; vertical-align: top\">0.989387539605</td>\n",
       "    </tr>\n",
       "    <tr>\n",
       "        <td style=\"padding-left: 1em; padding-right: 1em; text-align: center; vertical-align: top\">0.984739056527</td>\n",
       "    </tr>\n",
       "    <tr>\n",
       "        <td style=\"padding-left: 1em; padding-right: 1em; text-align: center; vertical-align: top\">0.984739056527</td>\n",
       "    </tr>\n",
       "    <tr>\n",
       "        <td style=\"padding-left: 1em; padding-right: 1em; text-align: center; vertical-align: top\">0.984739056527</td>\n",
       "    </tr>\n",
       "    <tr>\n",
       "        <td style=\"padding-left: 1em; padding-right: 1em; text-align: center; vertical-align: top\">0.984739056527</td>\n",
       "    </tr>\n",
       "    <tr>\n",
       "        <td style=\"padding-left: 1em; padding-right: 1em; text-align: center; vertical-align: top\">0.984739056527</td>\n",
       "    </tr>\n",
       "</table>\n",
       "[10 rows x 18 columns]<br/>\n",
       "</div>"
      ],
      "text/plain": [
       "Columns:\n",
       "\tname\tstr\n",
       "\treview\tstr\n",
       "\trating\tfloat\n",
       "\tword_count\tdict\n",
       "\tsentiment\tint\n",
       "\tawesome\tint\n",
       "\tgreat\tint\n",
       "\tfantastic\tint\n",
       "\tamazing\tint\n",
       "\tlove\tint\n",
       "\thorrible\tint\n",
       "\tbad\tint\n",
       "\tterrible\tint\n",
       "\tawful\tint\n",
       "\twow\tint\n",
       "\thate\tint\n",
       "\tpredicted_sentiment\tfloat\n",
       "\tpredicted_sentiment_selected\tfloat\n",
       "\n",
       "Rows: 10\n",
       "\n",
       "Data:\n",
       "+-------------------------+-------------------------------+--------+\n",
       "|           name          |             review            | rating |\n",
       "+-------------------------+-------------------------------+--------+\n",
       "| Baby Trend Diaper Champ | I LOVE LOVE LOVE this prod... |  4.0   |\n",
       "| Baby Trend Diaper Champ | Love it, love it, love it!... |  5.0   |\n",
       "| Baby Trend Diaper Champ | I received my Diaper Champ... |  5.0   |\n",
       "| Baby Trend Diaper Champ | I love this diaper pale an... |  5.0   |\n",
       "| Baby Trend Diaper Champ | Works great - no smells.  ... |  5.0   |\n",
       "| Baby Trend Diaper Champ | I've worked with kids more... |  5.0   |\n",
       "| Baby Trend Diaper Champ | I have a two-year-old son ... |  5.0   |\n",
       "| Baby Trend Diaper Champ | Love the Diaper Champ.  I ... |  4.0   |\n",
       "| Baby Trend Diaper Champ | I love this diaper pail. I... |  4.0   |\n",
       "| Baby Trend Diaper Champ | I have a 10 year old daugh... |  5.0   |\n",
       "+-------------------------+-------------------------------+--------+\n",
       "+-------------------------------+-----------+---------+-------+-----------+---------+\n",
       "|           word_count          | sentiment | awesome | great | fantastic | amazing |\n",
       "+-------------------------------+-----------+---------+-------+-----------+---------+\n",
       "| {'rating': 1L, 'contacted'... |     1     |    0    |   1   |     0     |    0    |\n",
       "| {'all': 1L, 'already': 1L,... |     1     |    0    |   0   |     0     |    0    |\n",
       "| {'bags.': 1L, \"don't\": 1L,... |     1     |    0    |   0   |     0     |    0    |\n",
       "| {'and': 3L, 'love': 1L, 'u... |     1     |    0    |   2   |     0     |    0    |\n",
       "| {'and': 2L, 'love': 1L, 'g... |     1     |    0    |   2   |     0     |    0    |\n",
       "| {'and': 4L, 'genies': 1L, ... |     1     |    0    |   0   |     0     |    0    |\n",
       "| {'and': 6L, 'two-year-old'... |     1     |    0    |   0   |     0     |    0    |\n",
       "| {'reviews,': 1L, 'all': 1L... |     1     |    0    |   0   |     0     |    0    |\n",
       "| {'and': 1L, 'bags.': 1L, '... |     1     |    0    |   0   |     0     |    0    |\n",
       "| {'lysol': 1L, 'all': 1L, '... |     1     |    0    |   0   |     0     |    0    |\n",
       "+-------------------------------+-----------+---------+-------+-----------+---------+\n",
       "+------+----------+-----+----------+-------+-----+------+---------------------+\n",
       "| love | horrible | bad | terrible | awful | wow | hate | predicted_sentiment |\n",
       "+------+----------+-----+----------+-------+-----+------+---------------------+\n",
       "|  3   |    0     |  0  |    0     |   0   |  0  |  0   |    0.999993652036   |\n",
       "|  3   |    0     |  0  |    0     |   0   |  0  |  0   |    0.985732101571   |\n",
       "|  3   |    0     |  0  |    0     |   0   |  0  |  0   |    0.999301330286   |\n",
       "|  1   |    0     |  0  |    0     |   0   |  0  |  0   |    0.983086548255   |\n",
       "|  1   |    0     |  0  |    0     |   0   |  0  |  0   |    0.998904798032   |\n",
       "|  2   |    0     |  0  |    0     |   0   |  0  |  0   |    0.999879939529   |\n",
       "|  2   |    0     |  0  |    0     |   0   |  0  |  0   |    0.833101136873   |\n",
       "|  2   |    0     |  0  |    0     |   0   |  0  |  0   |    0.998471561712   |\n",
       "|  2   |    0     |  0  |    0     |   0   |  0  |  0   |    0.998240768806   |\n",
       "|  2   |    0     |  0  |    0     |   0   |  0  |  0   |    0.999990587003   |\n",
       "+------+----------+-----+----------+-------+-----+------+---------------------+\n",
       "+------------------------------+\n",
       "| predicted_sentiment_selected |\n",
       "+------------------------------+\n",
       "|        0.998423414594        |\n",
       "|        0.996192539732        |\n",
       "|        0.996192539732        |\n",
       "|        0.989387539605        |\n",
       "|        0.989387539605        |\n",
       "|        0.984739056527        |\n",
       "|        0.984739056527        |\n",
       "|        0.984739056527        |\n",
       "|        0.984739056527        |\n",
       "|        0.984739056527        |\n",
       "+------------------------------+\n",
       "[10 rows x 18 columns]"
      ]
     },
     "execution_count": 71,
     "metadata": {},
     "output_type": "execute_result"
    }
   ],
   "source": [
    "diapers = diapers.sort('predicted_sentiment_selected', ascending=False)\n",
    "diapers.head()"
   ]
  },
  {
   "cell_type": "code",
   "execution_count": null,
   "metadata": {
    "collapsed": true
   },
   "outputs": [],
   "source": []
  }
 ],
 "metadata": {
  "kernelspec": {
   "display_name": "Python 2",
   "language": "python",
   "name": "python2"
  },
  "language_info": {
   "codemirror_mode": {
    "name": "ipython",
    "version": 2
   },
   "file_extension": ".py",
   "mimetype": "text/x-python",
   "name": "python",
   "nbconvert_exporter": "python",
   "pygments_lexer": "ipython2",
   "version": "2.7.11"
  }
 },
 "nbformat": 4,
 "nbformat_minor": 0
}
